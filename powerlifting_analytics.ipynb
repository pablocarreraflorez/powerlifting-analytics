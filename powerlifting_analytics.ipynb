{
 "cells": [
  {
   "cell_type": "markdown",
   "metadata": {},
   "source": [
    "# INTRODUCTION"
   ]
  },
  {
   "cell_type": "markdown",
   "metadata": {},
   "source": [
    "## Imports"
   ]
  },
  {
   "cell_type": "code",
   "execution_count": 6,
   "metadata": {
    "ExecuteTime": {
     "end_time": "2020-12-21T18:19:20.746470Z",
     "start_time": "2020-12-21T18:19:19.767240Z"
    }
   },
   "outputs": [],
   "source": [
    "import pandas as pd\n",
    "import matplotlib.pyplot as plt\n",
    "import seaborn as sns\n",
    "\n",
    "from app_utils import *"
   ]
  },
  {
   "cell_type": "markdown",
   "metadata": {},
   "source": [
    "# DATA"
   ]
  },
  {
   "cell_type": "code",
   "execution_count": 2,
   "metadata": {
    "ExecuteTime": {
     "end_time": "2020-12-21T17:53:31.873846Z",
     "start_time": "2020-12-21T17:53:12.404302Z"
    }
   },
   "outputs": [
    {
     "data": {
      "text/html": [
       "<div>\n",
       "<style scoped>\n",
       "    .dataframe tbody tr th:only-of-type {\n",
       "        vertical-align: middle;\n",
       "    }\n",
       "\n",
       "    .dataframe tbody tr th {\n",
       "        vertical-align: top;\n",
       "    }\n",
       "\n",
       "    .dataframe thead th {\n",
       "        text-align: right;\n",
       "    }\n",
       "</style>\n",
       "<table border=\"1\" class=\"dataframe\">\n",
       "  <thead>\n",
       "    <tr style=\"text-align: right;\">\n",
       "      <th></th>\n",
       "      <th>Name</th>\n",
       "      <th>Sex</th>\n",
       "      <th>Event</th>\n",
       "      <th>Equipment</th>\n",
       "      <th>Age</th>\n",
       "      <th>Bodyweight</th>\n",
       "      <th>WeightClass</th>\n",
       "      <th>Squat1</th>\n",
       "      <th>Squat2</th>\n",
       "      <th>Squat3</th>\n",
       "      <th>...</th>\n",
       "      <th>Deadlift2</th>\n",
       "      <th>Deadlift3</th>\n",
       "      <th>Deadlift</th>\n",
       "      <th>Total</th>\n",
       "      <th>Wilks</th>\n",
       "      <th>Country</th>\n",
       "      <th>Federation</th>\n",
       "      <th>ParentFederation</th>\n",
       "      <th>Date</th>\n",
       "      <th>Meet</th>\n",
       "    </tr>\n",
       "  </thead>\n",
       "  <tbody>\n",
       "    <tr>\n",
       "      <th>10</th>\n",
       "      <td>Justin Johnson</td>\n",
       "      <td>M</td>\n",
       "      <td>SBD</td>\n",
       "      <td>Wraps</td>\n",
       "      <td>NaN</td>\n",
       "      <td>67.5</td>\n",
       "      <td>67.5</td>\n",
       "      <td>NaN</td>\n",
       "      <td>NaN</td>\n",
       "      <td>NaN</td>\n",
       "      <td>...</td>\n",
       "      <td>NaN</td>\n",
       "      <td>NaN</td>\n",
       "      <td>183.70</td>\n",
       "      <td>392.36</td>\n",
       "      <td>302.52</td>\n",
       "      <td>USA</td>\n",
       "      <td>USSports</td>\n",
       "      <td>NaN</td>\n",
       "      <td>2013-04-13</td>\n",
       "      <td>Kansas State Powerlifting Championships</td>\n",
       "    </tr>\n",
       "    <tr>\n",
       "      <th>11</th>\n",
       "      <td>Clint Samuels</td>\n",
       "      <td>M</td>\n",
       "      <td>SBD</td>\n",
       "      <td>Wraps</td>\n",
       "      <td>27.5</td>\n",
       "      <td>82.5</td>\n",
       "      <td>82.5</td>\n",
       "      <td>NaN</td>\n",
       "      <td>NaN</td>\n",
       "      <td>NaN</td>\n",
       "      <td>...</td>\n",
       "      <td>NaN</td>\n",
       "      <td>NaN</td>\n",
       "      <td>249.48</td>\n",
       "      <td>582.87</td>\n",
       "      <td>390.47</td>\n",
       "      <td>NaN</td>\n",
       "      <td>USSports</td>\n",
       "      <td>NaN</td>\n",
       "      <td>2013-04-13</td>\n",
       "      <td>Kansas State Powerlifting Championships</td>\n",
       "    </tr>\n",
       "    <tr>\n",
       "      <th>12</th>\n",
       "      <td>Zach Lerner</td>\n",
       "      <td>M</td>\n",
       "      <td>SBD</td>\n",
       "      <td>Wraps</td>\n",
       "      <td>32.5</td>\n",
       "      <td>82.5</td>\n",
       "      <td>82.5</td>\n",
       "      <td>NaN</td>\n",
       "      <td>NaN</td>\n",
       "      <td>NaN</td>\n",
       "      <td>...</td>\n",
       "      <td>NaN</td>\n",
       "      <td>NaN</td>\n",
       "      <td>215.46</td>\n",
       "      <td>510.29</td>\n",
       "      <td>341.85</td>\n",
       "      <td>NaN</td>\n",
       "      <td>USSports</td>\n",
       "      <td>NaN</td>\n",
       "      <td>2013-04-13</td>\n",
       "      <td>Kansas State Powerlifting Championships</td>\n",
       "    </tr>\n",
       "    <tr>\n",
       "      <th>13</th>\n",
       "      <td>Jason Steuber</td>\n",
       "      <td>M</td>\n",
       "      <td>SBD</td>\n",
       "      <td>Wraps</td>\n",
       "      <td>NaN</td>\n",
       "      <td>90.0</td>\n",
       "      <td>90</td>\n",
       "      <td>NaN</td>\n",
       "      <td>NaN</td>\n",
       "      <td>NaN</td>\n",
       "      <td>...</td>\n",
       "      <td>NaN</td>\n",
       "      <td>NaN</td>\n",
       "      <td>208.65</td>\n",
       "      <td>512.56</td>\n",
       "      <td>327.22</td>\n",
       "      <td>NaN</td>\n",
       "      <td>USSports</td>\n",
       "      <td>NaN</td>\n",
       "      <td>2013-04-13</td>\n",
       "      <td>Kansas State Powerlifting Championships</td>\n",
       "    </tr>\n",
       "    <tr>\n",
       "      <th>14</th>\n",
       "      <td>Michael Schaffer</td>\n",
       "      <td>M</td>\n",
       "      <td>SBD</td>\n",
       "      <td>Wraps</td>\n",
       "      <td>18.5</td>\n",
       "      <td>90.0</td>\n",
       "      <td>90</td>\n",
       "      <td>NaN</td>\n",
       "      <td>NaN</td>\n",
       "      <td>NaN</td>\n",
       "      <td>...</td>\n",
       "      <td>NaN</td>\n",
       "      <td>NaN</td>\n",
       "      <td>174.63</td>\n",
       "      <td>433.18</td>\n",
       "      <td>276.54</td>\n",
       "      <td>USA</td>\n",
       "      <td>USSports</td>\n",
       "      <td>NaN</td>\n",
       "      <td>2013-04-13</td>\n",
       "      <td>Kansas State Powerlifting Championships</td>\n",
       "    </tr>\n",
       "  </tbody>\n",
       "</table>\n",
       "<p>5 rows × 26 columns</p>\n",
       "</div>"
      ],
      "text/plain": [
       "                Name Sex Event Equipment   Age  Bodyweight WeightClass  \\\n",
       "10    Justin Johnson   M   SBD     Wraps   NaN        67.5        67.5   \n",
       "11     Clint Samuels   M   SBD     Wraps  27.5        82.5        82.5   \n",
       "12       Zach Lerner   M   SBD     Wraps  32.5        82.5        82.5   \n",
       "13     Jason Steuber   M   SBD     Wraps   NaN        90.0          90   \n",
       "14  Michael Schaffer   M   SBD     Wraps  18.5        90.0          90   \n",
       "\n",
       "    Squat1  Squat2  Squat3  ...  Deadlift2  Deadlift3  Deadlift   Total  \\\n",
       "10     NaN     NaN     NaN  ...        NaN        NaN    183.70  392.36   \n",
       "11     NaN     NaN     NaN  ...        NaN        NaN    249.48  582.87   \n",
       "12     NaN     NaN     NaN  ...        NaN        NaN    215.46  510.29   \n",
       "13     NaN     NaN     NaN  ...        NaN        NaN    208.65  512.56   \n",
       "14     NaN     NaN     NaN  ...        NaN        NaN    174.63  433.18   \n",
       "\n",
       "     Wilks  Country  Federation  ParentFederation       Date  \\\n",
       "10  302.52      USA    USSports               NaN 2013-04-13   \n",
       "11  390.47      NaN    USSports               NaN 2013-04-13   \n",
       "12  341.85      NaN    USSports               NaN 2013-04-13   \n",
       "13  327.22      NaN    USSports               NaN 2013-04-13   \n",
       "14  276.54      USA    USSports               NaN 2013-04-13   \n",
       "\n",
       "                                       Meet  \n",
       "10  Kansas State Powerlifting Championships  \n",
       "11  Kansas State Powerlifting Championships  \n",
       "12  Kansas State Powerlifting Championships  \n",
       "13  Kansas State Powerlifting Championships  \n",
       "14  Kansas State Powerlifting Championships  \n",
       "\n",
       "[5 rows x 26 columns]"
      ]
     },
     "execution_count": 2,
     "metadata": {},
     "output_type": "execute_result"
    }
   ],
   "source": [
    "data = load_data()\n",
    "data.head()"
   ]
  },
  {
   "cell_type": "markdown",
   "metadata": {},
   "source": [
    "# EDA"
   ]
  },
  {
   "cell_type": "code",
   "execution_count": 11,
   "metadata": {
    "ExecuteTime": {
     "end_time": "2020-12-21T18:23:02.265155Z",
     "start_time": "2020-12-21T18:23:01.949184Z"
    }
   },
   "outputs": [
    {
     "data": {
      "image/png": "[encoded data removed]",
      "text/plain": [
       "<Figure size 1440x360 with 1 Axes>"
      ]
     },
     "metadata": {
      "needs_background": "light"
     },
     "output_type": "display_data"
    }
   ],
   "source": [
    "fig, ax = plt.subplots(figsize=(20,5), nrows=1, ncols=1)\n",
    "sns.countplot(x='Sex', data=data, ax=ax)\n",
    "plt.show()"
   ]
  },
  {
   "cell_type": "code",
   "execution_count": 140,
   "metadata": {
    "ExecuteTime": {
     "end_time": "2020-12-16T18:54:55.953727Z",
     "start_time": "2020-12-16T18:54:55.834594Z"
    }
   },
   "outputs": [
    {
     "data": {
      "text/plain": [
       "Single-ply    785573\n",
       "Raw           401484\n",
       "Wraps         130417\n",
       "Multi-ply      43317\n",
       "Unlimited         36\n",
       "Name: Equipment, dtype: int64"
      ]
     },
     "execution_count": 140,
     "metadata": {},
     "output_type": "execute_result"
    }
   ],
   "source": [
    "data['Equipment'].value_counts()"
   ]
  }
 ],
 "metadata": {
  "kernelspec": {
   "display_name": "Python 3",
   "language": "python",
   "name": "python3"
  },
  "language_info": {
   "codemirror_mode": {
    "name": "ipython",
    "version": 3
   },
   "file_extension": ".py",
   "mimetype": "text/x-python",
   "name": "python",
   "nbconvert_exporter": "python",
   "pygments_lexer": "ipython3",
   "version": "3.7.6"
  },
  "toc": {
   "base_numbering": 1,
   "nav_menu": {},
   "number_sections": true,
   "sideBar": true,
   "skip_h1_title": false,
   "title_cell": "Table of Contents",
   "title_sidebar": "Contents",
   "toc_cell": false,
   "toc_position": {
    "height": "calc(100% - 180px)",
    "left": "10px",
    "top": "150px",
    "width": "165px"
   },
   "toc_section_display": true,
   "toc_window_display": true
  }
 },
 "nbformat": 4,
 "nbformat_minor": 4
}
