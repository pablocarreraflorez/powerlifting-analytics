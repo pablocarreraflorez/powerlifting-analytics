{
 "cells": [
  {
   "cell_type": "markdown",
   "metadata": {},
   "source": [
    "# INTRODUCTION"
   ]
  },
  {
   "cell_type": "markdown",
   "metadata": {},
   "source": [
    "## Imports"
   ]
  },
  {
   "cell_type": "code",
   "execution_count": 1,
   "metadata": {
    "ExecuteTime": {
     "end_time": "2020-12-15T21:21:05.338020Z",
     "start_time": "2020-12-15T21:21:05.028296Z"
    }
   },
   "outputs": [],
   "source": [
    "import pandas as pd\n",
    "import plotly.express as px\n",
    "from plotly.subplots import make_subplots\n",
    "import plotly.graph_objects as go"
   ]
  },
  {
   "cell_type": "markdown",
   "metadata": {},
   "source": [
    "## Environment variables"
   ]
  },
  {
   "cell_type": "code",
   "execution_count": null,
   "metadata": {
    "ExecuteTime": {
     "end_time": "2020-12-15T21:09:58.874049Z",
     "start_time": "2020-12-15T21:09:58.871432Z"
    }
   },
   "outputs": [],
   "source": [
    "PATH = 'data/openpowerlifting-2020-10-16/openpowerlifting-2020-10-16.csv'\n",
    "TOP_TO_SHOW = 10"
   ]
  },
  {
   "cell_type": "code",
   "execution_count": 137,
   "metadata": {
    "ExecuteTime": {
     "end_time": "2020-12-16T18:54:26.765952Z",
     "start_time": "2020-12-16T18:54:26.724426Z"
    }
   },
   "outputs": [],
   "source": [
    "# Imports\n",
    "import pandas as pd\n",
    "import plotly.express as px\n",
    "from plotly.subplots import make_subplots\n",
    "import plotly.graph_objects as go\n",
    "\n",
    "\n",
    "# Functions\n",
    "def get_weight_classes(federation, sex):\n",
    "    \"\"\"\n",
    "    Get weight classes for a given sex and federation.\n",
    "\n",
    "    :param str federation: federation to take weight classes from. 'IPF' or 'WRPF'.\n",
    "    :param str sex: sex to take weight classes from. 'M' or 'F'.\n",
    "    :return list bins:\n",
    "    :return list labels:\n",
    "    \"\"\"\n",
    "    bins = []\n",
    "    labels = []\n",
    "    if federation == 'IPF':\n",
    "        if sex == 'M':\n",
    "            bins = [0.0, 59.0, 66.0, 74.0, 83.0, 93.0, 105.0, 120.0, 1000.0]\n",
    "            labels = ['59', '66', '74', '83', '93', '105', '120', '120+']\n",
    "        elif sex == 'F':\n",
    "            bins = [0.0, 47.0, 52.0, 57.0, 63.0, 72.0, 84.0, 1000.0]\n",
    "            labels = ['47', '52', '57', '63', '72', '84', '84+']\n",
    "\n",
    "    elif federation == 'WRPF':\n",
    "        if sex == 'M':\n",
    "            bins = [0.0, 56.0, 60.0, 67.5, 75.0, 82.5, 90.0, 100.0, 110.0, 125.0, 140.0, 1000.0]\n",
    "            labels = ['56', '60', '67.5', '75', '82.5', '90', '100', '110', '125', '140', '140+']\n",
    "        elif sex == 'F':\n",
    "            bins = [0.0, 44.0, 48.0, 52.0, 56.0, 60.0, 67.5, 75.0, 82.5, 90.0, 1000.0]\n",
    "            labels = ['44', '48', '52', '56', '60', '67.5 ', '75', '82.5', '90', '90+']\n",
    "\n",
    "    return bins, labels\n",
    "\n",
    "\n",
    "def download_data():\n",
    "    a = 1\n",
    "    return a\n",
    "\n",
    "\n",
    "def load_data(path):\n",
    "    # Load data\n",
    "    data = pd.read_csv(path,\n",
    "                       header=0,\n",
    "                       names=['Name',\n",
    "                              'Sex',\n",
    "                              'Event',\n",
    "                              'Equipment',\n",
    "                              'Age',\n",
    "                              'AgeClass',\n",
    "                              'BirthYearClass',  #\n",
    "                              'Division',\n",
    "                              'Bodyweight',      # 'Bodyweight'\n",
    "                              'WeightClass',     # 'WeightClassKg'\n",
    "                              'Squat1',          # 'Squat1Kg'\n",
    "                              'Squat2',          # 'Squat2Kg'\n",
    "                              'Squat3',          # 'Squat3Kg'\n",
    "                              'Squat4',          # 'Squat4Kg'\n",
    "                              'Squat',           # 'Best3SquatKg'\n",
    "                              'Bench1',          # 'Bench1Kg'\n",
    "                              'Bench2',          # 'Bench2Kg'\n",
    "                              'Bench3',          # 'Bench3Kg'\n",
    "                              'Bench4',          # 'Bench4Kg'\n",
    "                              'Bench',           # 'Best3BenchKg'\n",
    "                              'Deadlift1',       # 'Deadlift1Kg'\n",
    "                              'Deadlift2',       # 'Deadlift2Kg'\n",
    "                              'Deadlift3',       # 'Deadlift3Kg'\n",
    "                              'Deadlift4',       # 'Deadlift4Kg'\n",
    "                              'Deadlift',        # 'Best3DeadliftKg'\n",
    "                              'Total',           # 'TotalKg'\n",
    "                              'Place',\n",
    "                              'Dots',\n",
    "                              'Wilks',\n",
    "                              'Glossbrenner',\n",
    "                              'Goodlift',\n",
    "                              'Tested',\n",
    "                              'Country',\n",
    "                              'Federation',\n",
    "                              'ParentFederation',\n",
    "                              'Date',\n",
    "                              'MeetCountry',\n",
    "                              'MeetState',\n",
    "                              'MeetTown',\n",
    "                              'Meet'               # 'MeetName'\n",
    "                              ],\n",
    "                       usecols=['Name',\n",
    "                                'Country',\n",
    "                                'Sex',\n",
    "                                'Age',\n",
    "                                'Bodyweight',\n",
    "                                'WeightClass',\n",
    "                                'Date',\n",
    "                                'Federation',\n",
    "                                'ParentFederation',\n",
    "                                'Meet',\n",
    "                                'Event',\n",
    "                                'Equipment',\n",
    "                                'Squat1',\n",
    "                                'Squat2',\n",
    "                                'Squat3',\n",
    "                                'Squat',\n",
    "                                'Bench1',\n",
    "                                'Bench2',\n",
    "                                'Bench3',\n",
    "                                'Bench',\n",
    "                                'Deadlift1',\n",
    "                                'Deadlift2',\n",
    "                                'Deadlift3',\n",
    "                                'Deadlift',\n",
    "                                'Total',\n",
    "                                'Wilks'\n",
    "                                ],\n",
    "                       dtype={'Name': 'str',\n",
    "                              'Country': 'str',\n",
    "                              'Sex': 'str',\n",
    "                              'Age': 'float',\n",
    "                              'Bodyweight': 'float',\n",
    "                              'WeightClass': 'str',\n",
    "                              'Federation': 'str',\n",
    "                              'ParentFederation': 'str',\n",
    "                              'Meet': 'str',\n",
    "                              'Event': 'str',\n",
    "                              'Equipment': 'str',\n",
    "                              'Squat1': 'float',\n",
    "                              'Squat2': 'float',\n",
    "                              'Squat3': 'float',\n",
    "                              'Squat': 'float',\n",
    "                              'Bench1': 'float',\n",
    "                              'Bench2': 'float',\n",
    "                              'Bench3': 'float',\n",
    "                              'Bench': 'float',\n",
    "                              'Deadlift1': 'float',\n",
    "                              'Deadlift2': 'float',\n",
    "                              'Deadlift3': 'float',\n",
    "                              'Deadlift': 'float',\n",
    "                              'Total': 'float',\n",
    "                              'Wilks': 'float'\n",
    "                              },\n",
    "                       parse_dates=['Date']\n",
    "                       )\n",
    "\n",
    "    # Perform some universal cleaning\n",
    "    data = data.loc[data['Event'] == 'SBD']\n",
    "    data = data.loc[data['Sex'] != 'Mx']\n",
    "    #data = data.loc[data['Equipment'].isin(['Raw', 'Wraps'])]\n",
    "\n",
    "    # Drop null values\n",
    "    data = data.dropna(subset=['Squat', 'Bench', 'Deadlift', 'Total'])\n",
    "\n",
    "    return data\n",
    "\n",
    "\n",
    "def clean_data(data, federation, equipment):\n",
    "    \"\"\"\n",
    "    Clean data using the filters selected by the user.\n",
    "\n",
    "    :param pandas.DataFrame data: raw data from all the meets.\n",
    "    :param federation:\n",
    "    :param equipment:\n",
    "    :return:\n",
    "    \"\"\"\n",
    "    # Copy data\n",
    "    df = data.copy()\n",
    "\n",
    "    # Obtain weight classes\n",
    "    men_bins, men_labels = get_weight_classes(federation=federation, sex='M')\n",
    "    women_bins, women_labels = get_weight_classes(federation=federation, sex='F')\n",
    "\n",
    "    # Clean weight classes\n",
    "    df.loc[df['Sex'] == 'M', 'WeightClass'] = pd.cut(df.loc[df['Sex'] == 'M', 'Bodyweight'],\n",
    "                                                     bins=men_bins,\n",
    "                                                     labels=men_labels\n",
    "                                                     )\n",
    "    df.loc[df['Sex'] == 'F', 'WeightClass'] = pd.cut(df.loc[df['Sex'] == 'F', 'Bodyweight'],\n",
    "                                                     bins=women_bins,\n",
    "                                                     labels=women_labels\n",
    "                                                     )\n",
    "\n",
    "    # Filter by equipment\n",
    "    if equipment == 'Raw':\n",
    "        df = df.loc[df['Equipment'] == 'Raw']\n",
    "\n",
    "    # Sort data\n",
    "    df = df.sort_values(by='Wilks', ascending=False)\n",
    "\n",
    "    return df\n",
    "\n",
    "\n",
    "def get_best_lifts_per_weightclass(data, lift, sex, n=10):\n",
    "    \"\"\"\n",
    "    Get n best lifts for weight class and sex.\n",
    "\n",
    "    :param pandas.DataFrame data: raw data from all the meets.\n",
    "    :param str sex: sex to filter. 'M' or 'F'.\n",
    "    :param str lift: lift to track.\n",
    "    :param int n: number of lifters to keep of each weight class.\n",
    "    :return pandas.DataFrame df: data from n best lifts for weight class and sex.\n",
    "    \"\"\"\n",
    "    # Perform the filter and the groupings\n",
    "    df = data[data['Sex'] == sex]\\\n",
    "        .sort_values(by=['WeightClass', 'Name', lift], ascending=False)\\\n",
    "        .groupby(['WeightClass', 'Name'], as_index=False).first()\\\n",
    "        .sort_values(by=['WeightClass', lift], ascending=False)\\\n",
    "        .groupby('WeightClass', as_index=False).head(n)\n",
    "\n",
    "    return df\n",
    "\n",
    "\n",
    "def get_lift_plot_per_weightclass(fig, data, lift, weight_classes, colors, row, col, showlegend=False):\n",
    "    for i,wc in enumerate(weight_classes):\n",
    "        df = data[data['WeightClass'] == wc]\n",
    "        fig.add_trace(\n",
    "            go.Scatter(x=df['Bodyweight'],\n",
    "                       y=df[lift],\n",
    "                       customdata=df['Date'],\n",
    "                       mode='markers',\n",
    "                       name=wc,\n",
    "                       marker=dict(color=colors[i]),\n",
    "                       hovertext=df['Name'],\n",
    "                       hovertemplate='<b>%{hovertext}</b><br>Bodyweight: %{x}kg <br>' + lift + ': %{y}kg<br>Date: %{customdata|%Y-%m-%d}<extra></extra>',\n",
    "                       legendgroup='WeightClass',\n",
    "                       showlegend=showlegend\n",
    "                       ),\n",
    "            row=row,\n",
    "            col=col\n",
    "        )\n",
    "    return fig\n",
    "\n",
    "\n",
    "def plot_best_lifts_per_weightclass(data, sex, federation, n):\n",
    "    \"\"\"\n",
    "    Plot n best lifts for weight class and sex.\n",
    "\n",
    "    :param pandas.DataFrame data: data with n best lifts for weight class and sex.\n",
    "    :param str sex: sex to filter. 'M' or 'F'.\n",
    "    :param str federation: federation to take weight classes from. 'IPF' or 'WRPF'.\n",
    "    :param int n: number of lifters to keep of each weight class.\n",
    "    :return:\n",
    "    \"\"\"\n",
    "    # Get weight classes\n",
    "    _, weight_classes = get_weight_classes(federation=federation, sex=sex)\n",
    "    \n",
    "    # Get colors\n",
    "    colors = px.colors.qualitative.Dark24\n",
    "\n",
    "    # Get best lifts\n",
    "    df_s = get_best_lifts_per_weightclass(data, lift='Squat', sex=sex, n=n)\n",
    "    df_b = get_best_lifts_per_weightclass(data, lift='Bench', sex=sex, n=n)\n",
    "    df_d = get_best_lifts_per_weightclass(data, lift='Deadlift', sex=sex, n=n)\n",
    "    df_t = get_best_lifts_per_weightclass(data, lift='Total', sex=sex, n=n)\n",
    "\n",
    "    # Make figure\n",
    "    fig = make_subplots(rows=1, \n",
    "                        cols=4,\n",
    "                        subplot_titles=['<b>Squat</b>','<b>Bench</b>','<b>Deadlift</b>','<b>Total</b>']\n",
    "                        )\n",
    "    \n",
    "    # Add plots of lifts\n",
    "    fig = get_lift_plot_per_weightclass(fig, \n",
    "                                        data=df_s,\n",
    "                                        lift='Squat',\n",
    "                                        weight_classes=weight_classes,\n",
    "                                        colors=colors,\n",
    "                                        row=1,\n",
    "                                        col=1,\n",
    "                                        showlegend=True\n",
    "                                        )\n",
    "    fig = get_lift_plot_per_weightclass(fig, \n",
    "                                        data=df_b,\n",
    "                                        lift='Bench',\n",
    "                                        weight_classes=weight_classes,\n",
    "                                        colors=colors,\n",
    "                                        row=1,\n",
    "                                        col=2,\n",
    "                                        showlegend=False\n",
    "                                        )\n",
    "    fig = get_lift_plot_per_weightclass(fig, \n",
    "                                        data=df_d,\n",
    "                                        lift='Deadlift',\n",
    "                                        weight_classes=weight_classes,\n",
    "                                        colors=colors,\n",
    "                                        row=1,\n",
    "                                        col=3,\n",
    "                                        showlegend=False\n",
    "                                        )\n",
    "    fig = get_lift_plot_per_weightclass(fig, \n",
    "                                        data=df_t,\n",
    "                                        lift='Total',\n",
    "                                        weight_classes=weight_classes,\n",
    "                                        colors=colors,\n",
    "                                        row=1,\n",
    "                                        col=4,\n",
    "                                        showlegend=False\n",
    "                                        )\n",
    "\n",
    "    return fig\n"
   ]
  },
  {
   "cell_type": "code",
   "execution_count": 136,
   "metadata": {
    "ExecuteTime": {
     "end_time": "2020-12-16T18:41:50.940634Z",
     "start_time": "2020-12-16T18:41:46.091869Z"
    }
   },
   "outputs": [
    {
     "data": {
      "application/vnd.plotly.v1+json": {
       "config": {
        "plotlyServerURL": "https://plot.ly"
       },
       "data": [
        {
         "customdata": [
          "2003-03-22T00:00:00",
          "2019-01-19T00:00:00",
          "2002-03-09T00:00:00",
          "2017-10-13T00:00:00",
          "2018-07-14T00:00:00",
          "2019-04-12T00:00:00",
          "2018-04-14T00:00:00",
          "2020-03-18T00:00:00",
          "2018-06-06T00:00:00",
          "2018-10-11T00:00:00"
         ],
         "hovertemplate": "<b>%{hovertext}</b><br>Bodyweight: %{x}kg <br>Squat: %{y}kg<br>Date: %{customdata|%Y-%m-%d}<extra></extra>",
         "hovertext": [
          "Andrzej Stanaszek",
          "Jeremy Smith #1",
          "Michael Booker #1",
          "Kevin Gray #1",
          "Michael Kuhns",
          "Kole Metts",
          "Egidijus Valčiukas",
          "Sergey Fedosienko",
          "Mohamed Lakehal",
          "Andres Ramos"
         ],
         "legendgroup": "WeightClass",
         "marker": {
          "color": "#2E91E5"
         },
         "mode": "markers",
         "name": "59",
         "showlegend": true,
         "type": "scatter",
         "x": [
          52.1,
          56.95,
          54,
          57.55,
          58.7,
          58.95,
          57.6,
          59,
          58.96,
          58.7
         ],
         "xaxis": "x",
         "y": [
          292.5,
          250,
          250,
          245,
          245,
          235,
          230,
          228,
          227.5,
          225
         ],
         "yaxis": "y"
        },
        {
         "customdata": [
          "2020-03-07T00:00:00",
          "2019-06-04T00:00:00",
          "2017-11-11T00:00:00",
          "2020-03-18T00:00:00",
          "2019-10-16T00:00:00",
          "2019-03-04T00:00:00",
          "2017-06-14T00:00:00",
          "2017-03-04T00:00:00",
          "2019-06-04T00:00:00",
          "2019-11-29T00:00:00"
         ],
         "hovertemplate": "<b>%{hovertext}</b><br>Bodyweight: %{x}kg <br>Squat: %{y}kg<br>Date: %{customdata|%Y-%m-%d}<extra></extra>",
         "hovertext": [
          "Jonathan Garcia #1",
          "Charles Okpoko",
          "Keith McHoney",
          "Sergey Gladkikh",
          "Andres Ramos",
          "Luke Homer",
          "Sawyer Yandell",
          "Stephen Cascioli",
          "Mark Tobias",
          "Artsiom Savelyeu"
         ],
         "legendgroup": "WeightClass",
         "marker": {
          "color": "#E15F99"
         },
         "mode": "markers",
         "name": "66",
         "showlegend": true,
         "type": "scatter",
         "x": [
          64.64,
          65.75,
          65.8,
          66,
          65.55,
          65.5,
          65.14,
          64.94,
          65.8,
          65.6
         ],
         "xaxis": "x",
         "y": [
          263.5,
          263,
          257.5,
          255.5,
          250,
          250,
          249,
          248,
          247.5,
          242.5
         ],
         "yaxis": "y"
        },
        {
         "customdata": [
          "2020-07-12T00:00:00",
          "2019-10-16T00:00:00",
          "2019-10-16T00:00:00",
          "2019-10-16T00:00:00",
          "2020-07-17T00:00:00",
          "2019-11-23T00:00:00",
          "2018-07-21T00:00:00",
          "2020-03-07T00:00:00",
          "2020-03-03T00:00:00",
          "2018-10-28T00:00:00"
         ],
         "hovertemplate": "<b>%{hovertext}</b><br>Bodyweight: %{x}kg <br>Squat: %{y}kg<br>Date: %{customdata|%Y-%m-%d}<extra></extra>",
         "hovertext": [
          "Yoshihiro Higa",
          "Micheal Seay",
          "Austin Perkins",
          "Taylor Atwood",
          "Chris Kennedy #1",
          "Gage Carreon",
          "Keith McHoney",
          "Zachary DiCostanzo",
          "Olanrewaju Adeoye",
          "Timothy Monigatti"
         ],
         "legendgroup": "WeightClass",
         "marker": {
          "color": "#1CA71C"
         },
         "mode": "markers",
         "name": "74",
         "showlegend": true,
         "type": "scatter",
         "x": [
          73.7,
          73.45,
          73.11,
          73.47,
          73.8,
          74,
          68.3,
          73.13,
          73.9,
          74
         ],
         "xaxis": "x",
         "y": [
          292.5,
          287.5,
          285,
          285,
          275,
          272.5,
          272.5,
          272.5,
          272,
          270
         ],
         "yaxis": "y"
        },
        {
         "customdata": [
          "2018-06-22T00:00:00",
          "2015-07-25T00:00:00",
          "2016-01-23T00:00:00",
          "2020-03-07T00:00:00",
          "2020-09-26T00:00:00",
          "2019-12-07T00:00:00",
          "2019-10-16T00:00:00",
          "2019-08-03T00:00:00",
          "2020-02-08T00:00:00",
          "2018-04-21T00:00:00"
         ],
         "hovertemplate": "<b>%{hovertext}</b><br>Bodyweight: %{x}kg <br>Squat: %{y}kg<br>Date: %{customdata|%Y-%m-%d}<extra></extra>",
         "hovertext": [
          "Aleksey Nikulin",
          "Amit Sapir",
          "Maliek Derstine",
          "Arkadiy Shalokha",
          "Jawon Garrison",
          "Matthew Schenone",
          "Russel Orhii",
          "John Haack",
          "Alex Tindal",
          "Chris Garcia"
         ],
         "legendgroup": "WeightClass",
         "marker": {
          "color": "#FB0D0D"
         },
         "mode": "markers",
         "name": "83",
         "showlegend": true,
         "type": "scatter",
         "x": [
          80.1,
          82.1,
          82.2,
          82.19,
          82.2,
          81.3,
          82.37,
          82.4,
          81.96,
          81.2
         ],
         "xaxis": "x",
         "y": [
          345,
          337.5,
          325,
          319.78,
          317.5,
          317.5,
          313.5,
          312.5,
          310,
          305
         ],
         "yaxis": "y"
        },
        {
         "customdata": [
          "2016-04-16T00:00:00",
          "2016-07-08T00:00:00",
          "2015-11-07T00:00:00",
          "2020-03-01T00:00:00",
          "2020-03-07T00:00:00",
          "2019-11-29T00:00:00",
          "2018-06-06T00:00:00",
          "2020-01-18T00:00:00",
          "2017-04-29T00:00:00",
          "2018-06-23T00:00:00"
         ],
         "hovertemplate": "<b>%{hovertext}</b><br>Bodyweight: %{x}kg <br>Squat: %{y}kg<br>Date: %{customdata|%Y-%m-%d}<extra></extra>",
         "hovertext": [
          "Amit Sapir",
          "Maliek Derstine",
          "Jesse Norris",
          "Peter Dolan",
          "Ashton Rouska",
          "Anatolii Novopismennyi",
          "Amar Kanane",
          "John Haack",
          "David Ricks",
          "Lenny Wicks"
         ],
         "legendgroup": "WeightClass",
         "marker": {
          "color": "#DA16FF"
         },
         "mode": "markers",
         "name": "93",
         "showlegend": true,
         "type": "scatter",
         "x": [
          87.91,
          89.3,
          89.72,
          87.9,
          92.14,
          92.95,
          92.57,
          89.7,
          91.75,
          88.2
         ],
         "xaxis": "x",
         "y": [
          365,
          353,
          347.5,
          340,
          331.5,
          331,
          330,
          327.5,
          325.5,
          322.5
         ],
         "yaxis": "y"
        },
        {
         "customdata": [
          "2016-07-16T00:00:00",
          "2020-09-26T00:00:00",
          "2016-11-05T00:00:00",
          "2018-06-08T00:00:00",
          "2015-05-30T00:00:00",
          "2012-01-21T00:00:00",
          "2014-02-07T00:00:00",
          "2019-10-12T00:00:00",
          "2017-01-14T00:00:00",
          "2019-08-31T00:00:00"
         ],
         "hovertemplate": "<b>%{hovertext}</b><br>Bodyweight: %{x}kg <br>Squat: %{y}kg<br>Date: %{customdata|%Y-%m-%d}<extra></extra>",
         "hovertext": [
          "Amit Sapir",
          "Joe Sullivan",
          "Kevin Oak",
          "Yaroslav Trubichkin",
          "Jordan Wong",
          "Sam Byrd",
          "Dan Green",
          "Josh Lentz",
          "Pete Rubish",
          "Joshua Greenfield"
         ],
         "legendgroup": "WeightClass",
         "marker": {
          "color": "#222A2A"
         },
         "mode": "markers",
         "name": "105",
         "showlegend": true,
         "type": "scatter",
         "x": [
          100.2,
          99.9,
          99.43,
          103.6,
          99.79,
          99.3,
          100,
          97.9,
          104.3,
          105
         ],
         "xaxis": "x",
         "y": [
          376,
          373,
          367.5,
          365,
          356.07,
          355,
          350,
          347.5,
          347.5,
          345.5
         ],
         "yaxis": "y"
        },
        {
         "customdata": [
          "2019-11-14T00:00:00",
          "2019-04-06T00:00:00",
          "2020-02-01T00:00:00",
          "2019-11-14T00:00:00",
          "2017-03-04T00:00:00",
          "2019-10-16T00:00:00",
          "2004-12-01T00:00:00",
          "2014-06-01T00:00:00",
          "2018-12-08T00:00:00",
          "2018-06-08T00:00:00"
         ],
         "hovertemplate": "<b>%{hovertext}</b><br>Bodyweight: %{x}kg <br>Squat: %{y}kg<br>Date: %{customdata|%Y-%m-%d}<extra></extra>",
         "hovertext": [
          "Matt Sohmer",
          "Dennis Cornelius",
          "Kevin Oak",
          "Ivaylo Hristov",
          "Anthony Harris #1",
          "Jared Martin #1",
          "Kirk Karwoski",
          "Mohamed Bouafia",
          "Ryan Dean",
          "Aleksandr Sedykh"
         ],
         "legendgroup": "WeightClass",
         "marker": {
          "color": "#B68100"
         },
         "mode": "markers",
         "name": "120",
         "showlegend": true,
         "type": "scatter",
         "x": [
          119,
          118.9,
          109.2,
          119.6,
          118.49,
          119.63,
          110,
          119.7,
          107.68,
          115.2
         ],
         "xaxis": "x",
         "y": [
          402.5,
          387.5,
          385,
          380,
          378.5,
          375,
          375,
          375,
          371.95,
          370
         ],
         "yaxis": "y"
        },
        {
         "customdata": [
          "2019-03-02T00:00:00",
          "2017-10-21T00:00:00",
          "2020-02-29T00:00:00",
          "2020-09-26T00:00:00",
          "2016-11-05T00:00:00",
          "2018-03-03T00:00:00",
          "2018-06-06T00:00:00",
          "2019-08-30T00:00:00",
          "2020-01-25T00:00:00",
          "2016-04-16T00:00:00"
         ],
         "hovertemplate": "<b>%{hovertext}</b><br>Bodyweight: %{x}kg <br>Squat: %{y}kg<br>Date: %{customdata|%Y-%m-%d}<extra></extra>",
         "hovertext": [
          "Ray Williams #1",
          "Jezza Uepa",
          "Daniel Bell #1",
          "Craig Foster",
          "JP Price",
          "Kelly Branton",
          "Joseph Peña #1",
          "Robb Philippus",
          "Logan Chapman",
          "Eric Lilliebridge"
         ],
         "legendgroup": "WeightClass",
         "marker": {
          "color": "#750D86"
         },
         "mode": "markers",
         "name": "120+",
         "showlegend": true,
         "type": "scatter",
         "x": [
          190.4,
          181.4,
          174.18,
          167.9,
          170.37,
          174.01,
          173.15,
          152.1,
          156.76,
          138.8
         ],
         "xaxis": "x",
         "y": [
          490,
          470,
          455,
          437.5,
          435,
          427.5,
          425.5,
          425,
          419.57,
          417.5
         ],
         "yaxis": "y"
        },
        {
         "customdata": [
          "1994-11-17T00:00:00",
          "2016-10-31T00:00:00",
          "2002-03-09T00:00:00",
          "2015-10-17T00:00:00",
          "2014-06-01T00:00:00",
          "2018-06-02T00:00:00",
          "2013-04-25T00:00:00",
          "2019-09-07T00:00:00",
          "2018-09-22T00:00:00",
          "2017-10-02T00:00:00"
         ],
         "hovertemplate": "<b>%{hovertext}</b><br>Bodyweight: %{x}kg <br>Bench: %{y}kg<br>Date: %{customdata|%Y-%m-%d}<extra></extra>",
         "hovertext": [
          "Andrzej Stanaszek",
          "Sergey Fedosienko",
          "Michael Booker #1",
          "Koji Higashisaka",
          "Dariusz Wszoła",
          "Lenard Jones",
          "Oleg Puzikov",
          "Sławomir Śledź",
          "井上 卓",
          "Elnur Khailyamov"
         ],
         "legendgroup": "WeightClass",
         "marker": {
          "color": "#2E91E5"
         },
         "mode": "markers",
         "name": "59",
         "showlegend": false,
         "type": "scatter",
         "x": [
          50.6,
          58.9,
          54,
          58.55,
          58.3,
          57.6,
          57.5,
          58.62,
          58.8,
          58.5
         ],
         "xaxis": "x2",
         "y": [
          177.5,
          172.5,
          170,
          165,
          152.5,
          150,
          150,
          150,
          150,
          147.5
         ],
         "yaxis": "y2"
        },
        {
         "customdata": [
          "2018-11-24T00:00:00",
          "2013-09-13T00:00:00",
          "2016-10-31T00:00:00",
          "2019-06-04T00:00:00",
          "2019-04-09T00:00:00",
          "2016-03-05T00:00:00",
          "2019-03-04T00:00:00",
          "2020-03-07T00:00:00",
          "2019-06-04T00:00:00",
          "2014-12-06T00:00:00"
         ],
         "hovertemplate": "<b>%{hovertext}</b><br>Bodyweight: %{x}kg <br>Bench: %{y}kg<br>Date: %{customdata|%Y-%m-%d}<extra></extra>",
         "hovertext": [
          "Eddie Berglund",
          "Yusuke Suzuki",
          "Sergey Skochek",
          "Tsung-Ting Hsieh",
          "Konstantin Saukov",
          "Matti Christensen",
          "Chris Aviado",
          "Jonathan Garcia #1",
          "Charles Okpoko",
          "Moon"
         ],
         "legendgroup": "WeightClass",
         "marker": {
          "color": "#E15F99"
         },
         "mode": "markers",
         "name": "66",
         "showlegend": false,
         "type": "scatter",
         "x": [
          65.75,
          65.2,
          65.5,
          65.7,
          65.55,
          65.95,
          64.2,
          64.64,
          65.75,
          64.9
         ],
         "xaxis": "x2",
         "y": [
          213.5,
          190,
          178,
          175,
          172.5,
          172.5,
          171.5,
          171,
          170,
          170
         ],
         "yaxis": "y2"
        },
        {
         "customdata": [
          "2019-04-07T00:00:00",
          "2015-06-05T00:00:00",
          "2018-12-08T00:00:00",
          "2013-06-02T00:00:00",
          "2019-10-16T00:00:00",
          "2019-11-23T00:00:00",
          "2019-04-05T00:00:00",
          "2017-05-13T00:00:00",
          "2019-06-04T00:00:00",
          "2019-04-07T00:00:00"
         ],
         "hovertemplate": "<b>%{hovertext}</b><br>Bodyweight: %{x}kg <br>Bench: %{y}kg<br>Date: %{customdata|%Y-%m-%d}<extra></extra>",
         "hovertext": [
          "Daiki Kodama",
          "Adrien Poinson",
          "Bastien Poyet",
          "Mushfig Aliyev",
          "Micheal Seay",
          "Philip Wright",
          "Matti Christensen",
          "Brandon Maddox #1",
          "Taylor Atwood",
          "臼木 翔吾"
         ],
         "legendgroup": "WeightClass",
         "marker": {
          "color": "#1CA71C"
         },
         "mode": "markers",
         "name": "74",
         "showlegend": false,
         "type": "scatter",
         "x": [
          73.35,
          73.27,
          74,
          74,
          73.45,
          72.2,
          73.69,
          73.9,
          73.75,
          73.1
         ],
         "xaxis": "x2",
         "y": [
          222.5,
          210.5,
          207.5,
          200,
          198,
          197.5,
          196,
          195,
          195,
          195
         ],
         "yaxis": "y2"
        },
        {
         "customdata": [
          "2016-01-23T00:00:00",
          "2019-08-03T00:00:00",
          "2020-09-26T00:00:00",
          "2019-11-29T00:00:00",
          "2017-11-19T00:00:00",
          "2019-09-15T00:00:00",
          "2020-07-18T00:00:00",
          "2019-12-07T00:00:00",
          "2019-02-09T00:00:00",
          "2015-11-09T00:00:00"
         ],
         "hovertemplate": "<b>%{hovertext}</b><br>Bodyweight: %{x}kg <br>Bench: %{y}kg<br>Date: %{customdata|%Y-%m-%d}<extra></extra>",
         "hovertext": [
          "Maliek Derstine",
          "John Haack",
          "Jawon Garrison",
          "Owen Hubbard",
          "Phillip Brewer",
          "Brett Gibbs",
          "Sean Noriega",
          "Todd Talford",
          "Yusuke Suzuki",
          "Clifford Richards"
         ],
         "legendgroup": "WeightClass",
         "marker": {
          "color": "#FB0D0D"
         },
         "mode": "markers",
         "name": "83",
         "showlegend": false,
         "type": "scatter",
         "x": [
          82.2,
          82.4,
          82.2,
          82.3,
          74.8,
          82.85,
          82.5,
          82.8,
          79.9,
          82.2
         ],
         "xaxis": "x2",
         "y": [
          237.5,
          232.5,
          227.5,
          218.5,
          217.5,
          216,
          215,
          215,
          215,
          210.5
         ],
         "yaxis": "y2"
        },
        {
         "customdata": [
          "2020-09-26T00:00:00",
          "2016-07-08T00:00:00",
          "2009-01-24T00:00:00",
          "1981-08-01T00:00:00",
          "2018-04-21T00:00:00",
          "2013-02-24T00:00:00",
          "2012-07-23T00:00:00",
          "2019-10-16T00:00:00",
          "2015-08-29T00:00:00",
          "2016-07-23T00:00:00"
         ],
         "hovertemplate": "<b>%{hovertext}</b><br>Bodyweight: %{x}kg <br>Bench: %{y}kg<br>Date: %{customdata|%Y-%m-%d}<extra></extra>",
         "hovertext": [
          "John Haack",
          "Maliek Derstine",
          "Ryan Celli",
          "Dennis Duncan",
          "David Lomeli",
          "Greg Doucette",
          "Dennis Cieri",
          "Jonathan Cayco",
          "Josh Lentz",
          "Cody Teer"
         ],
         "legendgroup": "WeightClass",
         "marker": {
          "color": "#DA16FF"
         },
         "mode": "markers",
         "name": "93",
         "showlegend": false,
         "type": "scatter",
         "x": [
          89.6,
          89.3,
          89.81,
          90,
          89.4,
          89.7,
          92.8,
          92.1,
          89.8,
          91.05
         ],
         "xaxis": "x2",
         "y": [
          255,
          245,
          242.5,
          238.14,
          237.5,
          235,
          232.5,
          231,
          230,
          227.5
         ],
         "yaxis": "y2"
        },
        {
         "customdata": [
          "2019-10-16T00:00:00",
          "2016-10-15T00:00:00",
          "1970-08-22T00:00:00",
          "2019-01-26T00:00:00",
          "1983-03-26T00:00:00",
          "1996-06-30T00:00:00",
          "2019-05-04T00:00:00",
          "2015-10-17T00:00:00",
          "2016-05-02T00:00:00",
          "2018-06-03T00:00:00"
         ],
         "hovertemplate": "<b>%{hovertext}</b><br>Bodyweight: %{x}kg <br>Bench: %{y}kg<br>Date: %{customdata|%Y-%m-%d}<extra></extra>",
         "hovertext": [
          "Joseph Amendola",
          "Nick Terry",
          "Mel Hennessy",
          "Josh Lentz",
          "Dennis Duncan",
          "Rock Lewis",
          "Denis Grebnev",
          "Garrett Griffin",
          "Kirill Mogilnikov",
          "Nicholas Guidice"
         ],
         "legendgroup": "WeightClass",
         "marker": {
          "color": "#222A2A"
         },
         "mode": "markers",
         "name": "105",
         "showlegend": false,
         "type": "scatter",
         "x": [
          104.54,
          103.9,
          103.42,
          98.5,
          100,
          100,
          104.65,
          93.5,
          95.58,
          104.2
         ],
         "xaxis": "x2",
         "y": [
          263,
          260,
          259,
          252.5,
          249.48,
          249.48,
          240.5,
          240,
          240,
          238.5
         ],
         "yaxis": "y2"
        },
        {
         "customdata": [
          "2018-08-25T00:00:00",
          "2017-01-01T00:00:00",
          "2008-10-18T00:00:00",
          "2016-11-05T00:00:00",
          "2016-06-19T00:00:00",
          "2017-08-25T00:00:00",
          "2017-03-03T00:00:00",
          "2012-04-18T00:00:00",
          "2015-09-19T00:00:00",
          "2017-06-24T00:00:00"
         ],
         "hovertemplate": "<b>%{hovertext}</b><br>Bodyweight: %{x}kg <br>Bench: %{y}kg<br>Date: %{customdata|%Y-%m-%d}<extra></extra>",
         "hovertext": [
          "Jeremy Hoornstra",
          "Amandas Paulauskas",
          "Joey DeGiovine",
          "Larry Williams #1",
          "Dennis Cornelius",
          "Tee Popoola",
          "Joe Norman",
          "Stanislav Shvetsov",
          "Oran Smith",
          "Shawn Boyd"
         ],
         "legendgroup": "WeightClass",
         "marker": {
          "color": "#B68100"
         },
         "mode": "markers",
         "name": "120",
         "showlegend": false,
         "type": "scatter",
         "x": [
          109.1,
          119.35,
          119.98,
          109.13,
          118.98,
          109.8,
          116.5,
          110,
          109.77,
          119.75
         ],
         "xaxis": "x2",
         "y": [
          285,
          265,
          260.82,
          260,
          253,
          252.5,
          250,
          250,
          249.48,
          249.48
         ],
         "yaxis": "y2"
        },
        {
         "customdata": [
          "1997-07-11T00:00:00",
          "2016-11-19T00:00:00",
          "1983-11-13T00:00:00",
          "2020-03-07T00:00:00",
          "2019-10-02T00:00:00",
          "2014-11-15T00:00:00",
          "2016-11-05T00:00:00",
          "2019-08-30T00:00:00",
          "2010-06-26T00:00:00",
          "2019-08-17T00:00:00"
         ],
         "hovertemplate": "<b>%{hovertext}</b><br>Bodyweight: %{x}kg <br>Bench: %{y}kg<br>Date: %{customdata|%Y-%m-%d}<extra></extra>",
         "hovertext": [
          "James Henderson #1",
          "Kirill Sarychev",
          "Ted Arcidi",
          "Larry Williams #1",
          "Ilyes Boughalem",
          "Josh Morris #1",
          "JP Price",
          "James Strickland",
          "Dan Kovacs",
          "Kenneth Hunt Jr"
         ],
         "legendgroup": "WeightClass",
         "marker": {
          "color": "#750D86"
         },
         "mode": "markers",
         "name": "120+",
         "showlegend": false,
         "type": "scatter",
         "x": [
          177,
          177.4,
          125,
          128.64,
          159.4,
          187.97,
          170.37,
          136.1,
          140,
          169.3
         ],
         "xaxis": "x2",
         "y": [
          322.5,
          320,
          295,
          292.57,
          291,
          290.3,
          290,
          290,
          288.03,
          287.5
         ],
         "yaxis": "y2"
        },
        {
         "customdata": [
          "2019-06-04T00:00:00",
          "2020-03-18T00:00:00",
          "2018-06-06T00:00:00",
          "2019-10-16T00:00:00",
          "2019-11-29T00:00:00",
          "2013-07-19T00:00:00",
          "2016-12-10T00:00:00",
          "2019-02-16T00:00:00",
          "2018-06-02T00:00:00",
          "2015-06-05T00:00:00"
         ],
         "hovertemplate": "<b>%{hovertext}</b><br>Bodyweight: %{x}kg <br>Deadlift: %{y}kg<br>Date: %{customdata|%Y-%m-%d}<extra></extra>",
         "hovertext": [
          "Derek Ng",
          "Sergey Fedosienko",
          "Dalton LaCoe",
          "Charlie Yeng",
          "Ilya Marichev",
          "Eric Kupperstein",
          "Josue Leon",
          "Khemarintr Suwanchote",
          "Kole Metts",
          "Alexander Kolbin"
         ],
         "legendgroup": "WeightClass",
         "marker": {
          "color": "#2E91E5"
         },
         "mode": "markers",
         "name": "59",
         "showlegend": false,
         "type": "scatter",
         "x": [
          59,
          59,
          52.92,
          58.7,
          58.65,
          58.6,
          58.9,
          58.5,
          58.42,
          58.62
         ],
         "xaxis": "x3",
         "y": [
          275,
          275,
          271.5,
          267.5,
          260,
          255,
          255,
          255,
          252.5,
          250
         ],
         "yaxis": "y3"
        },
        {
         "customdata": [
          "2019-09-20T00:00:00",
          "2020-03-07T00:00:00",
          "2018-10-11T00:00:00",
          "2018-10-26T00:00:00",
          "2018-06-06T00:00:00",
          "2016-06-19T00:00:00",
          "2018-06-06T00:00:00",
          "2017-11-11T00:00:00",
          "2019-03-03T00:00:00",
          "2019-10-16T00:00:00"
         ],
         "hovertemplate": "<b>%{hovertext}</b><br>Bodyweight: %{x}kg <br>Deadlift: %{y}kg<br>Date: %{customdata|%Y-%m-%d}<extra></extra>",
         "hovertext": [
          "Hassan El Belghiti",
          "Daniel Clements",
          "Matthew Arremony",
          "Derek Ng",
          "Clifton Pho",
          "John Paul Cauchi",
          "Antti Savolainen",
          "Keith McHoney",
          "Sergey Gladkikh",
          "Terel Monroe"
         ],
         "legendgroup": "WeightClass",
         "marker": {
          "color": "#E15F99"
         },
         "mode": "markers",
         "name": "66",
         "showlegend": false,
         "type": "scatter",
         "x": [
          65.6,
          65.43,
          65,
          64,
          65.12,
          65.84,
          65.43,
          65.8,
          65.95,
          65.62
         ],
         "xaxis": "x3",
         "y": [
          298,
          290.5,
          290,
          286,
          285.5,
          282.5,
          280,
          280,
          280,
          280
         ],
         "yaxis": "y3"
        },
        {
         "customdata": [
          "2017-06-14T00:00:00",
          "2019-10-16T00:00:00",
          "2019-10-16T00:00:00",
          "2020-09-04T00:00:00",
          "2015-05-23T00:00:00",
          "2020-03-03T00:00:00",
          "2018-11-17T00:00:00",
          "2019-06-04T00:00:00",
          "2018-10-11T00:00:00",
          "2014-12-08T00:00:00"
         ],
         "hovertemplate": "<b>%{hovertext}</b><br>Bodyweight: %{x}kg <br>Deadlift: %{y}kg<br>Date: %{customdata|%Y-%m-%d}<extra></extra>",
         "hovertext": [
          "Kjell Egil Bakkelund",
          "Richard Cho",
          "Eric LaPointe",
          "Casmir Hughes",
          "Dmitry Nasonov",
          "Nick Manders",
          "Jamaal Grimes",
          "Taylor Atwood",
          "Blake Lehew",
          "Doni Meiyanto"
         ],
         "legendgroup": "WeightClass",
         "marker": {
          "color": "#1CA71C"
         },
         "mode": "markers",
         "name": "74",
         "showlegend": false,
         "type": "scatter",
         "x": [
          73.63,
          73.6,
          73.5,
          73.8,
          73.8,
          73.82,
          73.3,
          73.75,
          73.7,
          70.55
         ],
         "xaxis": "x3",
         "y": [
          322,
          318,
          317.5,
          315,
          315,
          315,
          312.5,
          312.5,
          310.5,
          310.5
         ],
         "yaxis": "y3"
        },
        {
         "customdata": [
          "2019-08-03T00:00:00",
          "2020-09-12T00:00:00",
          "2020-03-07T00:00:00",
          "2017-10-10T00:00:00",
          "2018-02-16T00:00:00",
          "2018-11-02T00:00:00",
          "2017-05-06T00:00:00",
          "2019-11-16T00:00:00",
          "2019-12-07T00:00:00",
          "2018-04-06T00:00:00"
         ],
         "hovertemplate": "<b>%{hovertext}</b><br>Bodyweight: %{x}kg <br>Deadlift: %{y}kg<br>Date: %{customdata|%Y-%m-%d}<extra></extra>",
         "hovertext": [
          "John Haack",
          "Asein Enahoro",
          "Angelo Fortino",
          "Yangsu Ren",
          "Trevor Jaffe",
          "David Herrera #1",
          "Chris Garcia",
          "Richard Cho",
          "Blake Lehew",
          "Wayne Knight"
         ],
         "legendgroup": "WeightClass",
         "marker": {
          "color": "#FB0D0D"
         },
         "mode": "markers",
         "name": "83",
         "showlegend": false,
         "type": "scatter",
         "x": [
          82.4,
          82.8,
          81.52,
          82.04,
          82.3,
          79.1,
          82.3,
          76,
          75,
          80.6
         ],
         "xaxis": "x3",
         "y": [
          362.5,
          350,
          340.5,
          340,
          337.5,
          335.5,
          335,
          335,
          333,
          332.5
         ],
         "yaxis": "y3"
        },
        {
         "customdata": [
          "2017-02-11T00:00:00",
          "2020-09-26T00:00:00",
          "2015-11-07T00:00:00",
          "2019-09-07T00:00:00",
          "2014-11-21T00:00:00",
          "2020-01-18T00:00:00",
          "2020-03-07T00:00:00",
          "2016-04-30T00:00:00",
          "2019-10-19T00:00:00",
          "2018-10-11T00:00:00"
         ],
         "hovertemplate": "<b>%{hovertext}</b><br>Bodyweight: %{x}kg <br>Deadlift: %{y}kg<br>Date: %{customdata|%Y-%m-%d}<extra></extra>",
         "hovertext": [
          "Cailer Woolam",
          "John Haack",
          "Jesse Norris",
          "Krzysztof Wierzbicki",
          "Andrey Belyaev #1",
          "Sascha Stendebach",
          "Ashton Rouska",
          "Ben Pollack",
          "James Mapp Jr",
          "David Woolson"
         ],
         "legendgroup": "WeightClass",
         "marker": {
          "color": "#DA16FF"
         },
         "mode": "markers",
         "name": "93",
         "showlegend": false,
         "type": "scatter",
         "x": [
          88.6,
          89.6,
          89.72,
          92.9,
          91.2,
          92.5,
          92.14,
          89,
          88.6,
          92.6
         ],
         "xaxis": "x3",
         "y": [
          400,
          385,
          375,
          375,
          370,
          370,
          365,
          363,
          362.5,
          355.5
         ],
         "yaxis": "y3"
        },
        {
         "customdata": [
          "2020-03-08T00:00:00",
          "2019-11-09T00:00:00",
          "2020-10-03T00:00:00",
          "2013-08-15T00:00:00",
          "2019-11-09T00:00:00",
          "2020-10-10T00:00:00",
          "2018-02-19T00:00:00",
          "2014-02-07T00:00:00",
          "2014-07-26T00:00:00",
          "2018-02-25T00:00:00"
         ],
         "hovertemplate": "<b>%{hovertext}</b><br>Bodyweight: %{x}kg <br>Deadlift: %{y}kg<br>Date: %{customdata|%Y-%m-%d}<extra></extra>",
         "hovertext": [
          "Krzysztof Wierzbicki",
          "Cailer Woolam",
          "Yury Belkin",
          "Aleksandr Obukhovich",
          "Jeremy Avilla",
          "Ashton Rouska",
          "Bryce Krawczyk",
          "Dan Green",
          "David Troutt",
          "Gregory Johnson"
         ],
         "legendgroup": "WeightClass",
         "marker": {
          "color": "#222A2A"
         },
         "mode": "markers",
         "name": "105",
         "showlegend": false,
         "type": "scatter",
         "x": [
          97.9,
          97.89,
          100,
          103.9,
          99.61,
          99.1,
          103.9,
          100,
          104.33,
          102.3
         ],
         "xaxis": "x3",
         "y": [
          433.5,
          432.5,
          420,
          385,
          385,
          377.5,
          375,
          375,
          375,
          372.5
         ],
         "yaxis": "y3"
        },
        {
         "customdata": [
          "2020-02-01T00:00:00",
          "2020-02-22T00:00:00",
          "2016-11-05T00:00:00",
          "2018-11-10T00:00:00",
          "1986-12-01T00:00:00",
          "2019-08-30T00:00:00",
          "2017-10-14T00:00:00",
          "2019-12-01T00:00:00",
          "2012-01-28T00:00:00",
          "2017-12-10T00:00:00"
         ],
         "hovertemplate": "<b>%{hovertext}</b><br>Bodyweight: %{x}kg <br>Deadlift: %{y}kg<br>Date: %{customdata|%Y-%m-%d}<extra></extra>",
         "hovertext": [
          "Jamal Browner",
          "Danny Grigsby",
          "Pete Rubish",
          "Andrew Herbert",
          "Brett Russell",
          "Ogden J Myklebust III",
          "Luigi Fagiani",
          "Nicolaas du Preez",
          "Delroy McQueen",
          "Jim Nuttall"
         ],
         "legendgroup": "WeightClass",
         "marker": {
          "color": "#B68100"
         },
         "mode": "markers",
         "name": "120",
         "showlegend": false,
         "type": "scatter",
         "x": [
          108.6,
          117.3,
          106.78,
          109.04,
          110,
          108.1,
          108.6,
          119.9,
          112.5,
          107.1
         ],
         "xaxis": "x3",
         "y": [
          432.5,
          423.5,
          395,
          390,
          390,
          387.5,
          382.5,
          382.5,
          380,
          380
         ],
         "yaxis": "y3"
        },
        {
         "customdata": [
          "2005-11-05T00:00:00",
          "2010-07-03T00:00:00",
          "2012-12-15T00:00:00",
          "2019-01-26T00:00:00",
          "2020-02-29T00:00:00",
          "2016-04-16T00:00:00",
          "2017-08-12T00:00:00",
          "2016-11-19T00:00:00",
          "2016-08-19T00:00:00",
          "2019-01-26T00:00:00"
         ],
         "hovertemplate": "<b>%{hovertext}</b><br>Bodyweight: %{x}kg <br>Deadlift: %{y}kg<br>Date: %{customdata|%Y-%m-%d}<extra></extra>",
         "hovertext": [
          "Benedikt Magnússon #1",
          "Konstantīn Konstantīnovs",
          "Mikhail Koklyaev",
          "Bryan Hartsel",
          "Daniel Bell #1",
          "Eric Lilliebridge",
          "Josh Morris #1",
          "Kirill Sarychev",
          "Aria Attia",
          "Dane Dillon"
         ],
         "legendgroup": "WeightClass",
         "marker": {
          "color": "#750D86"
         },
         "mode": "markers",
         "name": "120+",
         "showlegend": false,
         "type": "scatter",
         "x": [
          158.5,
          131,
          159.1,
          170.8,
          174.18,
          138.8,
          178.81,
          177.4,
          123.74,
          137.6
         ],
         "xaxis": "x3",
         "y": [
          440,
          420,
          417.5,
          410,
          410,
          410,
          410,
          402.5,
          400,
          400
         ],
         "yaxis": "y3"
        },
        {
         "customdata": [
          "2020-03-18T00:00:00",
          "2019-10-16T00:00:00",
          "2015-06-05T00:00:00",
          "2018-06-06T00:00:00",
          "2019-04-12T00:00:00",
          "2002-05-09T00:00:00",
          "2020-03-18T00:00:00",
          "2018-10-11T00:00:00",
          "2019-06-04T00:00:00",
          "2016-06-19T00:00:00"
         ],
         "hovertemplate": "<b>%{hovertext}</b><br>Bodyweight: %{x}kg <br>Total: %{y}kg<br>Date: %{customdata|%Y-%m-%d}<extra></extra>",
         "hovertext": [
          "Sergey Fedosienko",
          "Charlie Yeng",
          "Alexander Kolbin",
          "Franklin León",
          "Kole Metts",
          "Andrzej Stanaszek",
          "Ilya Marichev",
          "Andres Ramos",
          "Ayumi Hisatsune",
          "Dariusz Wszoła"
         ],
         "legendgroup": "WeightClass",
         "marker": {
          "color": "#2E91E5"
         },
         "mode": "markers",
         "name": "59",
         "showlegend": false,
         "type": "scatter",
         "x": [
          59,
          58.7,
          58.62,
          58.83,
          58.95,
          51.3,
          58.9,
          58.7,
          58.85,
          58.58
         ],
         "xaxis": "x4",
         "y": [
          670.5,
          615,
          602.5,
          602.5,
          602.5,
          600,
          590,
          587.5,
          587.5,
          577.5
         ],
         "yaxis": "y4"
        },
        {
         "customdata": [
          "2019-06-04T00:00:00",
          "2019-03-03T00:00:00",
          "2017-11-11T00:00:00",
          "2019-06-04T00:00:00",
          "2019-11-29T00:00:00",
          "2016-11-10T00:00:00",
          "2020-03-07T00:00:00",
          "2020-03-07T00:00:00",
          "2019-10-16T00:00:00",
          "2018-06-06T00:00:00"
         ],
         "hovertemplate": "<b>%{hovertext}</b><br>Bodyweight: %{x}kg <br>Total: %{y}kg<br>Date: %{customdata|%Y-%m-%d}<extra></extra>",
         "hovertext": [
          "Charles Okpoko",
          "Sergey Gladkikh",
          "Keith McHoney",
          "Tsung-Ting Hsieh",
          "Eddie Berglund",
          "Gerald Dionio",
          "Jonathan Garcia #1",
          "Daniel Clements",
          "Rodrigo Manzo",
          "Dallas Bey"
         ],
         "legendgroup": "WeightClass",
         "marker": {
          "color": "#E15F99"
         },
         "mode": "markers",
         "name": "66",
         "showlegend": false,
         "type": "scatter",
         "x": [
          65.75,
          65.95,
          65.8,
          65.7,
          65.7,
          65.7,
          64.64,
          65.43,
          65.72,
          65.9
         ],
         "xaxis": "x4",
         "y": [
          705.5,
          700,
          692.5,
          682.5,
          677.5,
          677.5,
          677,
          673,
          670,
          665
         ],
         "yaxis": "y4"
        },
        {
         "customdata": [
          "2019-06-04T00:00:00",
          "2019-10-16T00:00:00",
          "2017-06-14T00:00:00",
          "2020-07-17T00:00:00",
          "2014-11-05T00:00:00",
          "2018-10-11T00:00:00",
          "2018-04-29T00:00:00",
          "2019-10-16T00:00:00",
          "2019-08-30T00:00:00",
          "2018-07-21T00:00:00"
         ],
         "hovertemplate": "<b>%{hovertext}</b><br>Bodyweight: %{x}kg <br>Total: %{y}kg<br>Date: %{customdata|%Y-%m-%d}<extra></extra>",
         "hovertext": [
          "Taylor Atwood",
          "Austin Perkins",
          "Kjell Egil Bakkelund",
          "Chris Kennedy #1",
          "Rostislav Petkov",
          "Blake Lehew",
          "Yoshihiro Higa",
          "Richard Cho",
          "Michael Estrella",
          "Keith McHoney"
         ],
         "legendgroup": "WeightClass",
         "marker": {
          "color": "#1CA71C"
         },
         "mode": "markers",
         "name": "74",
         "showlegend": false,
         "type": "scatter",
         "x": [
          73.75,
          73.11,
          73.63,
          73.8,
          73.89,
          73.7,
          73.85,
          73.6,
          67.3,
          68.3
         ],
         "xaxis": "x4",
         "y": [
          790.5,
          757.5,
          757,
          755,
          748.5,
          748,
          745,
          743,
          738,
          732.5
         ],
         "yaxis": "y4"
        },
        {
         "customdata": [
          "2019-08-03T00:00:00",
          "2016-01-23T00:00:00",
          "2020-09-26T00:00:00",
          "2019-06-04T00:00:00",
          "2018-06-06T00:00:00",
          "2018-04-21T00:00:00",
          "2018-06-22T00:00:00",
          "2020-07-18T00:00:00",
          "2020-09-26T00:00:00",
          "2018-06-16T00:00:00"
         ],
         "hovertemplate": "<b>%{hovertext}</b><br>Bodyweight: %{x}kg <br>Total: %{y}kg<br>Date: %{customdata|%Y-%m-%d}<extra></extra>",
         "hovertext": [
          "John Haack",
          "Maliek Derstine",
          "Jawon Garrison",
          "Russel Orhii",
          "Brett Gibbs",
          "Chris Garcia",
          "Aleksey Nikulin",
          "Sean Noriega",
          "Blake Lehew",
          "Dexter Jones"
         ],
         "legendgroup": "WeightClass",
         "marker": {
          "color": "#FB0D0D"
         },
         "mode": "markers",
         "name": "83",
         "showlegend": false,
         "type": "scatter",
         "x": [
          82.4,
          82.2,
          82.2,
          82.25,
          82.62,
          81.2,
          80.1,
          82.5,
          80.7,
          81.9
         ],
         "xaxis": "x4",
         "y": [
          907.5,
          862.5,
          850,
          833,
          830.5,
          830,
          825,
          825,
          815,
          802.5
         ],
         "yaxis": "y4"
        },
        {
         "customdata": [
          "2020-09-26T00:00:00",
          "2015-11-07T00:00:00",
          "2020-03-07T00:00:00",
          "2016-07-08T00:00:00",
          "2019-09-23T00:00:00",
          "2019-10-16T00:00:00",
          "2016-04-30T00:00:00",
          "2019-08-03T00:00:00",
          "2017-12-12T00:00:00",
          "2017-02-11T00:00:00"
         ],
         "hovertemplate": "<b>%{hovertext}</b><br>Bodyweight: %{x}kg <br>Total: %{y}kg<br>Date: %{customdata|%Y-%m-%d}<extra></extra>",
         "hovertext": [
          "John Haack",
          "Jesse Norris",
          "Ashton Rouska",
          "Maliek Derstine",
          "Anatolii Novopismennyi",
          "Jonathan Cayco",
          "Ben Pollack",
          "Chad Penson",
          "Mark Plummer #1",
          "Cailer Woolam"
         ],
         "legendgroup": "WeightClass",
         "marker": {
          "color": "#DA16FF"
         },
         "mode": "markers",
         "name": "93",
         "showlegend": false,
         "type": "scatter",
         "x": [
          89.6,
          89.72,
          92.14,
          89.3,
          92.56,
          92.1,
          89,
          89.6,
          92.1,
          88.6
         ],
         "xaxis": "x4",
         "y": [
          937.5,
          922.5,
          881.5,
          875.5,
          870,
          868.5,
          865.5,
          862.5,
          862.5,
          860
         ],
         "yaxis": "y4"
        },
        {
         "customdata": [
          "2020-10-03T00:00:00",
          "2019-11-09T00:00:00",
          "2016-11-05T00:00:00",
          "2014-02-07T00:00:00",
          "2020-03-08T00:00:00",
          "2019-10-12T00:00:00",
          "2019-11-09T00:00:00",
          "2009-10-01T00:00:00",
          "2020-10-10T00:00:00",
          "2015-02-07T00:00:00"
         ],
         "hovertemplate": "<b>%{hovertext}</b><br>Bodyweight: %{x}kg <br>Total: %{y}kg<br>Date: %{customdata|%Y-%m-%d}<extra></extra>",
         "hovertext": [
          "Yury Belkin",
          "Cailer Woolam",
          "Kevin Oak",
          "Dan Green",
          "Krzysztof Wierzbicki",
          "Josh Lentz",
          "Aaron Palko",
          "Andrey Belyaev #1",
          "Ashton Rouska",
          "Jeremy Hamilton"
         ],
         "legendgroup": "WeightClass",
         "marker": {
          "color": "#222A2A"
         },
         "mode": "markers",
         "name": "105",
         "showlegend": false,
         "type": "scatter",
         "x": [
          100,
          97.89,
          99.43,
          100,
          97.9,
          97.9,
          99.29,
          99,
          99.1,
          99.9
         ],
         "xaxis": "x4",
         "y": [
          965,
          962.5,
          953,
          952.5,
          941,
          935,
          920,
          920,
          920,
          915
         ],
         "yaxis": "y4"
        },
        {
         "customdata": [
          "2020-02-01T00:00:00",
          "2019-08-03T00:00:00",
          "2016-11-05T00:00:00",
          "2019-12-01T00:00:00",
          "2016-06-19T00:00:00",
          "2019-11-14T00:00:00",
          "2018-11-10T00:00:00",
          "2019-11-09T00:00:00",
          "2020-02-22T00:00:00",
          "2018-01-13T00:00:00"
         ],
         "hovertemplate": "<b>%{hovertext}</b><br>Bodyweight: %{x}kg <br>Total: %{y}kg<br>Date: %{customdata|%Y-%m-%d}<extra></extra>",
         "hovertext": [
          "Jamal Browner",
          "Kevin Oak",
          "Larry Williams #1",
          "Nicolaas du Preez",
          "Dennis Cornelius",
          "Matt Sohmer",
          "Andrew Herbert",
          "Richard Wright #1",
          "Danny Grigsby",
          "Pete Rubish"
         ],
         "legendgroup": "WeightClass",
         "marker": {
          "color": "#B68100"
         },
         "mode": "markers",
         "name": "120",
         "showlegend": false,
         "type": "scatter",
         "x": [
          108.6,
          107.8,
          109.13,
          119.9,
          118.98,
          119,
          109.04,
          117.93,
          117.3,
          108.8
         ],
         "xaxis": "x4",
         "y": [
          990,
          987.5,
          985,
          982.5,
          978.5,
          970,
          957.5,
          954.81,
          953.5,
          952.5
         ],
         "yaxis": "y4"
        },
        {
         "customdata": [
          "2020-02-29T00:00:00",
          "2019-03-02T00:00:00",
          "2017-08-12T00:00:00",
          "2020-03-07T00:00:00",
          "2016-04-16T00:00:00",
          "2016-11-19T00:00:00",
          "2016-11-05T00:00:00",
          "2017-10-21T00:00:00",
          "2020-01-25T00:00:00",
          "2019-08-10T00:00:00"
         ],
         "hovertemplate": "<b>%{hovertext}</b><br>Bodyweight: %{x}kg <br>Total: %{y}kg<br>Date: %{customdata|%Y-%m-%d}<extra></extra>",
         "hovertext": [
          "Daniel Bell #1",
          "Ray Williams #1",
          "Josh Morris #1",
          "Larry Williams #1",
          "Eric Lilliebridge",
          "Kirill Sarychev",
          "JP Price",
          "Jezza Uepa",
          "Logan Chapman",
          "Erick Lewis"
         ],
         "legendgroup": "WeightClass",
         "marker": {
          "color": "#750D86"
         },
         "mode": "markers",
         "name": "120+",
         "showlegend": false,
         "type": "scatter",
         "x": [
          174.18,
          190.4,
          178.81,
          128.64,
          138.8,
          177.4,
          170.37,
          181.4,
          156.76,
          166.2
         ],
         "xaxis": "x4",
         "y": [
          1127.5,
          1112.5,
          1077.5,
          1075.01,
          1075,
          1072.5,
          1070,
          1070,
          1068.21,
          1045
         ],
         "yaxis": "y4"
        }
       ],
       "layout": {
        "annotations": [
         {
          "font": {
           "size": 16
          },
          "showarrow": false,
          "text": "<b>Squat</b>",
          "x": 0.10625,
          "xanchor": "center",
          "xref": "paper",
          "y": 1,
          "yanchor": "bottom",
          "yref": "paper"
         },
         {
          "font": {
           "size": 16
          },
          "showarrow": false,
          "text": "<b>Bench</b>",
          "x": 0.36875,
          "xanchor": "center",
          "xref": "paper",
          "y": 1,
          "yanchor": "bottom",
          "yref": "paper"
         },
         {
          "font": {
           "size": 16
          },
          "showarrow": false,
          "text": "<b>Deadlift</b>",
          "x": 0.6312500000000001,
          "xanchor": "center",
          "xref": "paper",
          "y": 1,
          "yanchor": "bottom",
          "yref": "paper"
         },
         {
          "font": {
           "size": 16
          },
          "showarrow": false,
          "text": "<b>Total</b>",
          "x": 0.89375,
          "xanchor": "center",
          "xref": "paper",
          "y": 1,
          "yanchor": "bottom",
          "yref": "paper"
         }
        ],
        "template": {
         "data": {
          "bar": [
           {
            "error_x": {
             "color": "#2a3f5f"
            },
            "error_y": {
             "color": "#2a3f5f"
            },
            "marker": {
             "line": {
              "color": "#E5ECF6",
              "width": 0.5
             }
            },
            "type": "bar"
           }
          ],
          "barpolar": [
           {
            "marker": {
             "line": {
              "color": "#E5ECF6",
              "width": 0.5
             }
            },
            "type": "barpolar"
           }
          ],
          "carpet": [
           {
            "aaxis": {
             "endlinecolor": "#2a3f5f",
             "gridcolor": "white",
             "linecolor": "white",
             "minorgridcolor": "white",
             "startlinecolor": "#2a3f5f"
            },
            "baxis": {
             "endlinecolor": "#2a3f5f",
             "gridcolor": "white",
             "linecolor": "white",
             "minorgridcolor": "white",
             "startlinecolor": "#2a3f5f"
            },
            "type": "carpet"
           }
          ],
          "choropleth": [
           {
            "colorbar": {
             "outlinewidth": 0,
             "ticks": ""
            },
            "type": "choropleth"
           }
          ],
          "contour": [
           {
            "colorbar": {
             "outlinewidth": 0,
             "ticks": ""
            },
            "colorscale": [
             [
              0,
              "#0d0887"
             ],
             [
              0.1111111111111111,
              "#46039f"
             ],
             [
              0.2222222222222222,
              "#7201a8"
             ],
             [
              0.3333333333333333,
              "#9c179e"
             ],
             [
              0.4444444444444444,
              "#bd3786"
             ],
             [
              0.5555555555555556,
              "#d8576b"
             ],
             [
              0.6666666666666666,
              "#ed7953"
             ],
             [
              0.7777777777777778,
              "#fb9f3a"
             ],
             [
              0.8888888888888888,
              "#fdca26"
             ],
             [
              1,
              "#f0f921"
             ]
            ],
            "type": "contour"
           }
          ],
          "contourcarpet": [
           {
            "colorbar": {
             "outlinewidth": 0,
             "ticks": ""
            },
            "type": "contourcarpet"
           }
          ],
          "heatmap": [
           {
            "colorbar": {
             "outlinewidth": 0,
             "ticks": ""
            },
            "colorscale": [
             [
              0,
              "#0d0887"
             ],
             [
              0.1111111111111111,
              "#46039f"
             ],
             [
              0.2222222222222222,
              "#7201a8"
             ],
             [
              0.3333333333333333,
              "#9c179e"
             ],
             [
              0.4444444444444444,
              "#bd3786"
             ],
             [
              0.5555555555555556,
              "#d8576b"
             ],
             [
              0.6666666666666666,
              "#ed7953"
             ],
             [
              0.7777777777777778,
              "#fb9f3a"
             ],
             [
              0.8888888888888888,
              "#fdca26"
             ],
             [
              1,
              "#f0f921"
             ]
            ],
            "type": "heatmap"
           }
          ],
          "heatmapgl": [
           {
            "colorbar": {
             "outlinewidth": 0,
             "ticks": ""
            },
            "colorscale": [
             [
              0,
              "#0d0887"
             ],
             [
              0.1111111111111111,
              "#46039f"
             ],
             [
              0.2222222222222222,
              "#7201a8"
             ],
             [
              0.3333333333333333,
              "#9c179e"
             ],
             [
              0.4444444444444444,
              "#bd3786"
             ],
             [
              0.5555555555555556,
              "#d8576b"
             ],
             [
              0.6666666666666666,
              "#ed7953"
             ],
             [
              0.7777777777777778,
              "#fb9f3a"
             ],
             [
              0.8888888888888888,
              "#fdca26"
             ],
             [
              1,
              "#f0f921"
             ]
            ],
            "type": "heatmapgl"
           }
          ],
          "histogram": [
           {
            "marker": {
             "colorbar": {
              "outlinewidth": 0,
              "ticks": ""
             }
            },
            "type": "histogram"
           }
          ],
          "histogram2d": [
           {
            "colorbar": {
             "outlinewidth": 0,
             "ticks": ""
            },
            "colorscale": [
             [
              0,
              "#0d0887"
             ],
             [
              0.1111111111111111,
              "#46039f"
             ],
             [
              0.2222222222222222,
              "#7201a8"
             ],
             [
              0.3333333333333333,
              "#9c179e"
             ],
             [
              0.4444444444444444,
              "#bd3786"
             ],
             [
              0.5555555555555556,
              "#d8576b"
             ],
             [
              0.6666666666666666,
              "#ed7953"
             ],
             [
              0.7777777777777778,
              "#fb9f3a"
             ],
             [
              0.8888888888888888,
              "#fdca26"
             ],
             [
              1,
              "#f0f921"
             ]
            ],
            "type": "histogram2d"
           }
          ],
          "histogram2dcontour": [
           {
            "colorbar": {
             "outlinewidth": 0,
             "ticks": ""
            },
            "colorscale": [
             [
              0,
              "#0d0887"
             ],
             [
              0.1111111111111111,
              "#46039f"
             ],
             [
              0.2222222222222222,
              "#7201a8"
             ],
             [
              0.3333333333333333,
              "#9c179e"
             ],
             [
              0.4444444444444444,
              "#bd3786"
             ],
             [
              0.5555555555555556,
              "#d8576b"
             ],
             [
              0.6666666666666666,
              "#ed7953"
             ],
             [
              0.7777777777777778,
              "#fb9f3a"
             ],
             [
              0.8888888888888888,
              "#fdca26"
             ],
             [
              1,
              "#f0f921"
             ]
            ],
            "type": "histogram2dcontour"
           }
          ],
          "mesh3d": [
           {
            "colorbar": {
             "outlinewidth": 0,
             "ticks": ""
            },
            "type": "mesh3d"
           }
          ],
          "parcoords": [
           {
            "line": {
             "colorbar": {
              "outlinewidth": 0,
              "ticks": ""
             }
            },
            "type": "parcoords"
           }
          ],
          "pie": [
           {
            "automargin": true,
            "type": "pie"
           }
          ],
          "scatter": [
           {
            "marker": {
             "colorbar": {
              "outlinewidth": 0,
              "ticks": ""
             }
            },
            "type": "scatter"
           }
          ],
          "scatter3d": [
           {
            "line": {
             "colorbar": {
              "outlinewidth": 0,
              "ticks": ""
             }
            },
            "marker": {
             "colorbar": {
              "outlinewidth": 0,
              "ticks": ""
             }
            },
            "type": "scatter3d"
           }
          ],
          "scattercarpet": [
           {
            "marker": {
             "colorbar": {
              "outlinewidth": 0,
              "ticks": ""
             }
            },
            "type": "scattercarpet"
           }
          ],
          "scattergeo": [
           {
            "marker": {
             "colorbar": {
              "outlinewidth": 0,
              "ticks": ""
             }
            },
            "type": "scattergeo"
           }
          ],
          "scattergl": [
           {
            "marker": {
             "colorbar": {
              "outlinewidth": 0,
              "ticks": ""
             }
            },
            "type": "scattergl"
           }
          ],
          "scattermapbox": [
           {
            "marker": {
             "colorbar": {
              "outlinewidth": 0,
              "ticks": ""
             }
            },
            "type": "scattermapbox"
           }
          ],
          "scatterpolar": [
           {
            "marker": {
             "colorbar": {
              "outlinewidth": 0,
              "ticks": ""
             }
            },
            "type": "scatterpolar"
           }
          ],
          "scatterpolargl": [
           {
            "marker": {
             "colorbar": {
              "outlinewidth": 0,
              "ticks": ""
             }
            },
            "type": "scatterpolargl"
           }
          ],
          "scatterternary": [
           {
            "marker": {
             "colorbar": {
              "outlinewidth": 0,
              "ticks": ""
             }
            },
            "type": "scatterternary"
           }
          ],
          "surface": [
           {
            "colorbar": {
             "outlinewidth": 0,
             "ticks": ""
            },
            "colorscale": [
             [
              0,
              "#0d0887"
             ],
             [
              0.1111111111111111,
              "#46039f"
             ],
             [
              0.2222222222222222,
              "#7201a8"
             ],
             [
              0.3333333333333333,
              "#9c179e"
             ],
             [
              0.4444444444444444,
              "#bd3786"
             ],
             [
              0.5555555555555556,
              "#d8576b"
             ],
             [
              0.6666666666666666,
              "#ed7953"
             ],
             [
              0.7777777777777778,
              "#fb9f3a"
             ],
             [
              0.8888888888888888,
              "#fdca26"
             ],
             [
              1,
              "#f0f921"
             ]
            ],
            "type": "surface"
           }
          ],
          "table": [
           {
            "cells": {
             "fill": {
              "color": "#EBF0F8"
             },
             "line": {
              "color": "white"
             }
            },
            "header": {
             "fill": {
              "color": "#C8D4E3"
             },
             "line": {
              "color": "white"
             }
            },
            "type": "table"
           }
          ]
         },
         "layout": {
          "annotationdefaults": {
           "arrowcolor": "#2a3f5f",
           "arrowhead": 0,
           "arrowwidth": 1
          },
          "coloraxis": {
           "colorbar": {
            "outlinewidth": 0,
            "ticks": ""
           }
          },
          "colorscale": {
           "diverging": [
            [
             0,
             "#8e0152"
            ],
            [
             0.1,
             "#c51b7d"
            ],
            [
             0.2,
             "#de77ae"
            ],
            [
             0.3,
             "#f1b6da"
            ],
            [
             0.4,
             "#fde0ef"
            ],
            [
             0.5,
             "#f7f7f7"
            ],
            [
             0.6,
             "#e6f5d0"
            ],
            [
             0.7,
             "#b8e186"
            ],
            [
             0.8,
             "#7fbc41"
            ],
            [
             0.9,
             "#4d9221"
            ],
            [
             1,
             "#276419"
            ]
           ],
           "sequential": [
            [
             0,
             "#0d0887"
            ],
            [
             0.1111111111111111,
             "#46039f"
            ],
            [
             0.2222222222222222,
             "#7201a8"
            ],
            [
             0.3333333333333333,
             "#9c179e"
            ],
            [
             0.4444444444444444,
             "#bd3786"
            ],
            [
             0.5555555555555556,
             "#d8576b"
            ],
            [
             0.6666666666666666,
             "#ed7953"
            ],
            [
             0.7777777777777778,
             "#fb9f3a"
            ],
            [
             0.8888888888888888,
             "#fdca26"
            ],
            [
             1,
             "#f0f921"
            ]
           ],
           "sequentialminus": [
            [
             0,
             "#0d0887"
            ],
            [
             0.1111111111111111,
             "#46039f"
            ],
            [
             0.2222222222222222,
             "#7201a8"
            ],
            [
             0.3333333333333333,
             "#9c179e"
            ],
            [
             0.4444444444444444,
             "#bd3786"
            ],
            [
             0.5555555555555556,
             "#d8576b"
            ],
            [
             0.6666666666666666,
             "#ed7953"
            ],
            [
             0.7777777777777778,
             "#fb9f3a"
            ],
            [
             0.8888888888888888,
             "#fdca26"
            ],
            [
             1,
             "#f0f921"
            ]
           ]
          },
          "colorway": [
           "#636efa",
           "#EF553B",
           "#00cc96",
           "#ab63fa",
           "#FFA15A",
           "#19d3f3",
           "#FF6692",
           "#B6E880",
           "#FF97FF",
           "#FECB52"
          ],
          "font": {
           "color": "#2a3f5f"
          },
          "geo": {
           "bgcolor": "white",
           "lakecolor": "white",
           "landcolor": "#E5ECF6",
           "showlakes": true,
           "showland": true,
           "subunitcolor": "white"
          },
          "hoverlabel": {
           "align": "left"
          },
          "hovermode": "closest",
          "mapbox": {
           "style": "light"
          },
          "paper_bgcolor": "white",
          "plot_bgcolor": "#E5ECF6",
          "polar": {
           "angularaxis": {
            "gridcolor": "white",
            "linecolor": "white",
            "ticks": ""
           },
           "bgcolor": "#E5ECF6",
           "radialaxis": {
            "gridcolor": "white",
            "linecolor": "white",
            "ticks": ""
           }
          },
          "scene": {
           "xaxis": {
            "backgroundcolor": "#E5ECF6",
            "gridcolor": "white",
            "gridwidth": 2,
            "linecolor": "white",
            "showbackground": true,
            "ticks": "",
            "zerolinecolor": "white"
           },
           "yaxis": {
            "backgroundcolor": "#E5ECF6",
            "gridcolor": "white",
            "gridwidth": 2,
            "linecolor": "white",
            "showbackground": true,
            "ticks": "",
            "zerolinecolor": "white"
           },
           "zaxis": {
            "backgroundcolor": "#E5ECF6",
            "gridcolor": "white",
            "gridwidth": 2,
            "linecolor": "white",
            "showbackground": true,
            "ticks": "",
            "zerolinecolor": "white"
           }
          },
          "shapedefaults": {
           "line": {
            "color": "#2a3f5f"
           }
          },
          "ternary": {
           "aaxis": {
            "gridcolor": "white",
            "linecolor": "white",
            "ticks": ""
           },
           "baxis": {
            "gridcolor": "white",
            "linecolor": "white",
            "ticks": ""
           },
           "bgcolor": "#E5ECF6",
           "caxis": {
            "gridcolor": "white",
            "linecolor": "white",
            "ticks": ""
           }
          },
          "title": {
           "x": 0.05
          },
          "xaxis": {
           "automargin": true,
           "gridcolor": "white",
           "linecolor": "white",
           "ticks": "",
           "title": {
            "standoff": 15
           },
           "zerolinecolor": "white",
           "zerolinewidth": 2
          },
          "yaxis": {
           "automargin": true,
           "gridcolor": "white",
           "linecolor": "white",
           "ticks": "",
           "title": {
            "standoff": 15
           },
           "zerolinecolor": "white",
           "zerolinewidth": 2
          }
         }
        },
        "xaxis": {
         "anchor": "y",
         "domain": [
          0,
          0.2125
         ]
        },
        "xaxis2": {
         "anchor": "y2",
         "domain": [
          0.2625,
          0.475
         ]
        },
        "xaxis3": {
         "anchor": "y3",
         "domain": [
          0.525,
          0.7375
         ]
        },
        "xaxis4": {
         "anchor": "y4",
         "domain": [
          0.7875,
          1
         ]
        },
        "yaxis": {
         "anchor": "x",
         "domain": [
          0,
          1
         ]
        },
        "yaxis2": {
         "anchor": "x2",
         "domain": [
          0,
          1
         ]
        },
        "yaxis3": {
         "anchor": "x3",
         "domain": [
          0,
          1
         ]
        },
        "yaxis4": {
         "anchor": "x4",
         "domain": [
          0,
          1
         ]
        }
       }
      },
      "text/html": [
       "<div>                            <div id=\"903cf96f-1b55-46fd-9d00-f9ee1b77be9f\" class=\"plotly-graph-div\" style=\"height:525px; width:100%;\"></div>            <script type=\"text/javascript\">                require([\"plotly\"], function(Plotly) {                    window.PLOTLYENV=window.PLOTLYENV || {};                                    if (document.getElementById(\"903cf96f-1b55-46fd-9d00-f9ee1b77be9f\")) {                    Plotly.newPlot(                        \"903cf96f-1b55-46fd-9d00-f9ee1b77be9f\",                        [{\"customdata\": [\"2003-03-22T00:00:00\", \"2019-01-19T00:00:00\", \"2002-03-09T00:00:00\", \"2017-10-13T00:00:00\", \"2018-07-14T00:00:00\", \"2019-04-12T00:00:00\", \"2018-04-14T00:00:00\", \"2020-03-18T00:00:00\", \"2018-06-06T00:00:00\", \"2018-10-11T00:00:00\"], \"hovertemplate\": \"<b>%{hovertext}</b><br>Bodyweight: %{x}kg <br>Squat: %{y}kg<br>Date: %{customdata|%Y-%m-%d}<extra></extra>\", \"hovertext\": [\"Andrzej Stanaszek\", \"Jeremy Smith #1\", \"Michael Booker #1\", \"Kevin Gray #1\", \"Michael Kuhns\", \"Kole Metts\", \"Egidijus Val\\u010diukas\", \"Sergey Fedosienko\", \"Mohamed Lakehal\", \"Andres Ramos\"], \"legendgroup\": \"WeightClass\", \"marker\": {\"color\": \"#2E91E5\"}, \"mode\": \"markers\", \"name\": \"59\", \"showlegend\": true, \"type\": \"scatter\", \"x\": [52.1, 56.95, 54.0, 57.55, 58.7, 58.95, 57.6, 59.0, 58.96, 58.7], \"xaxis\": \"x\", \"y\": [292.5, 250.0, 250.0, 245.0, 245.0, 235.0, 230.0, 228.0, 227.5, 225.0], \"yaxis\": \"y\"}, {\"customdata\": [\"2020-03-07T00:00:00\", \"2019-06-04T00:00:00\", \"2017-11-11T00:00:00\", \"2020-03-18T00:00:00\", \"2019-10-16T00:00:00\", \"2019-03-04T00:00:00\", \"2017-06-14T00:00:00\", \"2017-03-04T00:00:00\", \"2019-06-04T00:00:00\", \"2019-11-29T00:00:00\"], \"hovertemplate\": \"<b>%{hovertext}</b><br>Bodyweight: %{x}kg <br>Squat: %{y}kg<br>Date: %{customdata|%Y-%m-%d}<extra></extra>\", \"hovertext\": [\"Jonathan Garcia #1\", \"Charles Okpoko\", \"Keith McHoney\", \"Sergey Gladkikh\", \"Andres Ramos\", \"Luke Homer\", \"Sawyer Yandell\", \"Stephen Cascioli\", \"Mark Tobias\", \"Artsiom Savelyeu\"], \"legendgroup\": \"WeightClass\", \"marker\": {\"color\": \"#E15F99\"}, \"mode\": \"markers\", \"name\": \"66\", \"showlegend\": true, \"type\": \"scatter\", \"x\": [64.64, 65.75, 65.8, 66.0, 65.55, 65.5, 65.14, 64.94, 65.8, 65.6], \"xaxis\": \"x\", \"y\": [263.5, 263.0, 257.5, 255.5, 250.0, 250.0, 249.0, 248.0, 247.5, 242.5], \"yaxis\": \"y\"}, {\"customdata\": [\"2020-07-12T00:00:00\", \"2019-10-16T00:00:00\", \"2019-10-16T00:00:00\", \"2019-10-16T00:00:00\", \"2020-07-17T00:00:00\", \"2019-11-23T00:00:00\", \"2018-07-21T00:00:00\", \"2020-03-07T00:00:00\", \"2020-03-03T00:00:00\", \"2018-10-28T00:00:00\"], \"hovertemplate\": \"<b>%{hovertext}</b><br>Bodyweight: %{x}kg <br>Squat: %{y}kg<br>Date: %{customdata|%Y-%m-%d}<extra></extra>\", \"hovertext\": [\"Yoshihiro Higa\", \"Micheal Seay\", \"Austin Perkins\", \"Taylor Atwood\", \"Chris Kennedy #1\", \"Gage Carreon\", \"Keith McHoney\", \"Zachary DiCostanzo\", \"Olanrewaju Adeoye\", \"Timothy Monigatti\"], \"legendgroup\": \"WeightClass\", \"marker\": {\"color\": \"#1CA71C\"}, \"mode\": \"markers\", \"name\": \"74\", \"showlegend\": true, \"type\": \"scatter\", \"x\": [73.7, 73.45, 73.11, 73.47, 73.8, 74.0, 68.3, 73.13, 73.9, 74.0], \"xaxis\": \"x\", \"y\": [292.5, 287.5, 285.0, 285.0, 275.0, 272.5, 272.5, 272.5, 272.0, 270.0], \"yaxis\": \"y\"}, {\"customdata\": [\"2018-06-22T00:00:00\", \"2015-07-25T00:00:00\", \"2016-01-23T00:00:00\", \"2020-03-07T00:00:00\", \"2020-09-26T00:00:00\", \"2019-12-07T00:00:00\", \"2019-10-16T00:00:00\", \"2019-08-03T00:00:00\", \"2020-02-08T00:00:00\", \"2018-04-21T00:00:00\"], \"hovertemplate\": \"<b>%{hovertext}</b><br>Bodyweight: %{x}kg <br>Squat: %{y}kg<br>Date: %{customdata|%Y-%m-%d}<extra></extra>\", \"hovertext\": [\"Aleksey Nikulin\", \"Amit Sapir\", \"Maliek Derstine\", \"Arkadiy Shalokha\", \"Jawon Garrison\", \"Matthew Schenone\", \"Russel Orhii\", \"John Haack\", \"Alex Tindal\", \"Chris Garcia\"], \"legendgroup\": \"WeightClass\", \"marker\": {\"color\": \"#FB0D0D\"}, \"mode\": \"markers\", \"name\": \"83\", \"showlegend\": true, \"type\": \"scatter\", \"x\": [80.1, 82.1, 82.2, 82.19, 82.2, 81.3, 82.37, 82.4, 81.96, 81.2], \"xaxis\": \"x\", \"y\": [345.0, 337.5, 325.0, 319.78, 317.5, 317.5, 313.5, 312.5, 310.0, 305.0], \"yaxis\": \"y\"}, {\"customdata\": [\"2016-04-16T00:00:00\", \"2016-07-08T00:00:00\", \"2015-11-07T00:00:00\", \"2020-03-01T00:00:00\", \"2020-03-07T00:00:00\", \"2019-11-29T00:00:00\", \"2018-06-06T00:00:00\", \"2020-01-18T00:00:00\", \"2017-04-29T00:00:00\", \"2018-06-23T00:00:00\"], \"hovertemplate\": \"<b>%{hovertext}</b><br>Bodyweight: %{x}kg <br>Squat: %{y}kg<br>Date: %{customdata|%Y-%m-%d}<extra></extra>\", \"hovertext\": [\"Amit Sapir\", \"Maliek Derstine\", \"Jesse Norris\", \"Peter Dolan\", \"Ashton Rouska\", \"Anatolii Novopismennyi\", \"Amar Kanane\", \"John Haack\", \"David Ricks\", \"Lenny Wicks\"], \"legendgroup\": \"WeightClass\", \"marker\": {\"color\": \"#DA16FF\"}, \"mode\": \"markers\", \"name\": \"93\", \"showlegend\": true, \"type\": \"scatter\", \"x\": [87.91, 89.3, 89.72, 87.9, 92.14, 92.95, 92.57, 89.7, 91.75, 88.2], \"xaxis\": \"x\", \"y\": [365.0, 353.0, 347.5, 340.0, 331.5, 331.0, 330.0, 327.5, 325.5, 322.5], \"yaxis\": \"y\"}, {\"customdata\": [\"2016-07-16T00:00:00\", \"2020-09-26T00:00:00\", \"2016-11-05T00:00:00\", \"2018-06-08T00:00:00\", \"2015-05-30T00:00:00\", \"2012-01-21T00:00:00\", \"2014-02-07T00:00:00\", \"2019-10-12T00:00:00\", \"2017-01-14T00:00:00\", \"2019-08-31T00:00:00\"], \"hovertemplate\": \"<b>%{hovertext}</b><br>Bodyweight: %{x}kg <br>Squat: %{y}kg<br>Date: %{customdata|%Y-%m-%d}<extra></extra>\", \"hovertext\": [\"Amit Sapir\", \"Joe Sullivan\", \"Kevin Oak\", \"Yaroslav Trubichkin\", \"Jordan Wong\", \"Sam Byrd\", \"Dan Green\", \"Josh Lentz\", \"Pete Rubish\", \"Joshua Greenfield\"], \"legendgroup\": \"WeightClass\", \"marker\": {\"color\": \"#222A2A\"}, \"mode\": \"markers\", \"name\": \"105\", \"showlegend\": true, \"type\": \"scatter\", \"x\": [100.2, 99.9, 99.43, 103.6, 99.79, 99.3, 100.0, 97.9, 104.3, 105.0], \"xaxis\": \"x\", \"y\": [376.0, 373.0, 367.5, 365.0, 356.07, 355.0, 350.0, 347.5, 347.5, 345.5], \"yaxis\": \"y\"}, {\"customdata\": [\"2019-11-14T00:00:00\", \"2019-04-06T00:00:00\", \"2020-02-01T00:00:00\", \"2019-11-14T00:00:00\", \"2017-03-04T00:00:00\", \"2019-10-16T00:00:00\", \"2004-12-01T00:00:00\", \"2014-06-01T00:00:00\", \"2018-12-08T00:00:00\", \"2018-06-08T00:00:00\"], \"hovertemplate\": \"<b>%{hovertext}</b><br>Bodyweight: %{x}kg <br>Squat: %{y}kg<br>Date: %{customdata|%Y-%m-%d}<extra></extra>\", \"hovertext\": [\"Matt Sohmer\", \"Dennis Cornelius\", \"Kevin Oak\", \"Ivaylo Hristov\", \"Anthony Harris #1\", \"Jared Martin #1\", \"Kirk Karwoski\", \"Mohamed Bouafia\", \"Ryan Dean\", \"Aleksandr Sedykh\"], \"legendgroup\": \"WeightClass\", \"marker\": {\"color\": \"#B68100\"}, \"mode\": \"markers\", \"name\": \"120\", \"showlegend\": true, \"type\": \"scatter\", \"x\": [119.0, 118.9, 109.2, 119.6, 118.49, 119.63, 110.0, 119.7, 107.68, 115.2], \"xaxis\": \"x\", \"y\": [402.5, 387.5, 385.0, 380.0, 378.5, 375.0, 375.0, 375.0, 371.95, 370.0], \"yaxis\": \"y\"}, {\"customdata\": [\"2019-03-02T00:00:00\", \"2017-10-21T00:00:00\", \"2020-02-29T00:00:00\", \"2020-09-26T00:00:00\", \"2016-11-05T00:00:00\", \"2018-03-03T00:00:00\", \"2018-06-06T00:00:00\", \"2019-08-30T00:00:00\", \"2020-01-25T00:00:00\", \"2016-04-16T00:00:00\"], \"hovertemplate\": \"<b>%{hovertext}</b><br>Bodyweight: %{x}kg <br>Squat: %{y}kg<br>Date: %{customdata|%Y-%m-%d}<extra></extra>\", \"hovertext\": [\"Ray Williams #1\", \"Jezza Uepa\", \"Daniel Bell #1\", \"Craig Foster\", \"JP Price\", \"Kelly Branton\", \"Joseph Pe\\u00f1a #1\", \"Robb Philippus\", \"Logan Chapman\", \"Eric Lilliebridge\"], \"legendgroup\": \"WeightClass\", \"marker\": {\"color\": \"#750D86\"}, \"mode\": \"markers\", \"name\": \"120+\", \"showlegend\": true, \"type\": \"scatter\", \"x\": [190.4, 181.4, 174.18, 167.9, 170.37, 174.01, 173.15, 152.1, 156.76, 138.8], \"xaxis\": \"x\", \"y\": [490.0, 470.0, 455.0, 437.5, 435.0, 427.5, 425.5, 425.0, 419.57, 417.5], \"yaxis\": \"y\"}, {\"customdata\": [\"1994-11-17T00:00:00\", \"2016-10-31T00:00:00\", \"2002-03-09T00:00:00\", \"2015-10-17T00:00:00\", \"2014-06-01T00:00:00\", \"2018-06-02T00:00:00\", \"2013-04-25T00:00:00\", \"2019-09-07T00:00:00\", \"2018-09-22T00:00:00\", \"2017-10-02T00:00:00\"], \"hovertemplate\": \"<b>%{hovertext}</b><br>Bodyweight: %{x}kg <br>Bench: %{y}kg<br>Date: %{customdata|%Y-%m-%d}<extra></extra>\", \"hovertext\": [\"Andrzej Stanaszek\", \"Sergey Fedosienko\", \"Michael Booker #1\", \"Koji Higashisaka\", \"Dariusz Wszo\\u0142a\", \"Lenard Jones\", \"Oleg Puzikov\", \"S\\u0142awomir \\u015aled\\u017a\", \"\\u4e95\\u4e0a \\u5353\", \"Elnur Khailyamov\"], \"legendgroup\": \"WeightClass\", \"marker\": {\"color\": \"#2E91E5\"}, \"mode\": \"markers\", \"name\": \"59\", \"showlegend\": false, \"type\": \"scatter\", \"x\": [50.6, 58.9, 54.0, 58.55, 58.3, 57.6, 57.5, 58.62, 58.8, 58.5], \"xaxis\": \"x2\", \"y\": [177.5, 172.5, 170.0, 165.0, 152.5, 150.0, 150.0, 150.0, 150.0, 147.5], \"yaxis\": \"y2\"}, {\"customdata\": [\"2018-11-24T00:00:00\", \"2013-09-13T00:00:00\", \"2016-10-31T00:00:00\", \"2019-06-04T00:00:00\", \"2019-04-09T00:00:00\", \"2016-03-05T00:00:00\", \"2019-03-04T00:00:00\", \"2020-03-07T00:00:00\", \"2019-06-04T00:00:00\", \"2014-12-06T00:00:00\"], \"hovertemplate\": \"<b>%{hovertext}</b><br>Bodyweight: %{x}kg <br>Bench: %{y}kg<br>Date: %{customdata|%Y-%m-%d}<extra></extra>\", \"hovertext\": [\"Eddie Berglund\", \"Yusuke Suzuki\", \"Sergey Skochek\", \"Tsung-Ting Hsieh\", \"Konstantin Saukov\", \"Matti Christensen\", \"Chris Aviado\", \"Jonathan Garcia #1\", \"Charles Okpoko\", \"Moon\"], \"legendgroup\": \"WeightClass\", \"marker\": {\"color\": \"#E15F99\"}, \"mode\": \"markers\", \"name\": \"66\", \"showlegend\": false, \"type\": \"scatter\", \"x\": [65.75, 65.2, 65.5, 65.7, 65.55, 65.95, 64.2, 64.64, 65.75, 64.9], \"xaxis\": \"x2\", \"y\": [213.5, 190.0, 178.0, 175.0, 172.5, 172.5, 171.5, 171.0, 170.0, 170.0], \"yaxis\": \"y2\"}, {\"customdata\": [\"2019-04-07T00:00:00\", \"2015-06-05T00:00:00\", \"2018-12-08T00:00:00\", \"2013-06-02T00:00:00\", \"2019-10-16T00:00:00\", \"2019-11-23T00:00:00\", \"2019-04-05T00:00:00\", \"2017-05-13T00:00:00\", \"2019-06-04T00:00:00\", \"2019-04-07T00:00:00\"], \"hovertemplate\": \"<b>%{hovertext}</b><br>Bodyweight: %{x}kg <br>Bench: %{y}kg<br>Date: %{customdata|%Y-%m-%d}<extra></extra>\", \"hovertext\": [\"Daiki Kodama\", \"Adrien Poinson\", \"Bastien Poyet\", \"Mushfig Aliyev\", \"Micheal Seay\", \"Philip Wright\", \"Matti Christensen\", \"Brandon Maddox #1\", \"Taylor Atwood\", \"\\u81fc\\u6728 \\u7fd4\\u543e\"], \"legendgroup\": \"WeightClass\", \"marker\": {\"color\": \"#1CA71C\"}, \"mode\": \"markers\", \"name\": \"74\", \"showlegend\": false, \"type\": \"scatter\", \"x\": [73.35, 73.27, 74.0, 74.0, 73.45, 72.2, 73.69, 73.9, 73.75, 73.1], \"xaxis\": \"x2\", \"y\": [222.5, 210.5, 207.5, 200.0, 198.0, 197.5, 196.0, 195.0, 195.0, 195.0], \"yaxis\": \"y2\"}, {\"customdata\": [\"2016-01-23T00:00:00\", \"2019-08-03T00:00:00\", \"2020-09-26T00:00:00\", \"2019-11-29T00:00:00\", \"2017-11-19T00:00:00\", \"2019-09-15T00:00:00\", \"2020-07-18T00:00:00\", \"2019-12-07T00:00:00\", \"2019-02-09T00:00:00\", \"2015-11-09T00:00:00\"], \"hovertemplate\": \"<b>%{hovertext}</b><br>Bodyweight: %{x}kg <br>Bench: %{y}kg<br>Date: %{customdata|%Y-%m-%d}<extra></extra>\", \"hovertext\": [\"Maliek Derstine\", \"John Haack\", \"Jawon Garrison\", \"Owen Hubbard\", \"Phillip Brewer\", \"Brett Gibbs\", \"Sean Noriega\", \"Todd Talford\", \"Yusuke Suzuki\", \"Clifford Richards\"], \"legendgroup\": \"WeightClass\", \"marker\": {\"color\": \"#FB0D0D\"}, \"mode\": \"markers\", \"name\": \"83\", \"showlegend\": false, \"type\": \"scatter\", \"x\": [82.2, 82.4, 82.2, 82.3, 74.8, 82.85, 82.5, 82.8, 79.9, 82.2], \"xaxis\": \"x2\", \"y\": [237.5, 232.5, 227.5, 218.5, 217.5, 216.0, 215.0, 215.0, 215.0, 210.5], \"yaxis\": \"y2\"}, {\"customdata\": [\"2020-09-26T00:00:00\", \"2016-07-08T00:00:00\", \"2009-01-24T00:00:00\", \"1981-08-01T00:00:00\", \"2018-04-21T00:00:00\", \"2013-02-24T00:00:00\", \"2012-07-23T00:00:00\", \"2019-10-16T00:00:00\", \"2015-08-29T00:00:00\", \"2016-07-23T00:00:00\"], \"hovertemplate\": \"<b>%{hovertext}</b><br>Bodyweight: %{x}kg <br>Bench: %{y}kg<br>Date: %{customdata|%Y-%m-%d}<extra></extra>\", \"hovertext\": [\"John Haack\", \"Maliek Derstine\", \"Ryan Celli\", \"Dennis Duncan\", \"David Lomeli\", \"Greg Doucette\", \"Dennis Cieri\", \"Jonathan Cayco\", \"Josh Lentz\", \"Cody Teer\"], \"legendgroup\": \"WeightClass\", \"marker\": {\"color\": \"#DA16FF\"}, \"mode\": \"markers\", \"name\": \"93\", \"showlegend\": false, \"type\": \"scatter\", \"x\": [89.6, 89.3, 89.81, 90.0, 89.4, 89.7, 92.8, 92.1, 89.8, 91.05], \"xaxis\": \"x2\", \"y\": [255.0, 245.0, 242.5, 238.14, 237.5, 235.0, 232.5, 231.0, 230.0, 227.5], \"yaxis\": \"y2\"}, {\"customdata\": [\"2019-10-16T00:00:00\", \"2016-10-15T00:00:00\", \"1970-08-22T00:00:00\", \"2019-01-26T00:00:00\", \"1983-03-26T00:00:00\", \"1996-06-30T00:00:00\", \"2019-05-04T00:00:00\", \"2015-10-17T00:00:00\", \"2016-05-02T00:00:00\", \"2018-06-03T00:00:00\"], \"hovertemplate\": \"<b>%{hovertext}</b><br>Bodyweight: %{x}kg <br>Bench: %{y}kg<br>Date: %{customdata|%Y-%m-%d}<extra></extra>\", \"hovertext\": [\"Joseph Amendola\", \"Nick Terry\", \"Mel Hennessy\", \"Josh Lentz\", \"Dennis Duncan\", \"Rock Lewis\", \"Denis Grebnev\", \"Garrett Griffin\", \"Kirill Mogilnikov\", \"Nicholas Guidice\"], \"legendgroup\": \"WeightClass\", \"marker\": {\"color\": \"#222A2A\"}, \"mode\": \"markers\", \"name\": \"105\", \"showlegend\": false, \"type\": \"scatter\", \"x\": [104.54, 103.9, 103.42, 98.5, 100.0, 100.0, 104.65, 93.5, 95.58, 104.2], \"xaxis\": \"x2\", \"y\": [263.0, 260.0, 259.0, 252.5, 249.48, 249.48, 240.5, 240.0, 240.0, 238.5], \"yaxis\": \"y2\"}, {\"customdata\": [\"2018-08-25T00:00:00\", \"2017-01-01T00:00:00\", \"2008-10-18T00:00:00\", \"2016-11-05T00:00:00\", \"2016-06-19T00:00:00\", \"2017-08-25T00:00:00\", \"2017-03-03T00:00:00\", \"2012-04-18T00:00:00\", \"2015-09-19T00:00:00\", \"2017-06-24T00:00:00\"], \"hovertemplate\": \"<b>%{hovertext}</b><br>Bodyweight: %{x}kg <br>Bench: %{y}kg<br>Date: %{customdata|%Y-%m-%d}<extra></extra>\", \"hovertext\": [\"Jeremy Hoornstra\", \"Amandas Paulauskas\", \"Joey DeGiovine\", \"Larry Williams #1\", \"Dennis Cornelius\", \"Tee Popoola\", \"Joe Norman\", \"Stanislav Shvetsov\", \"Oran Smith\", \"Shawn Boyd\"], \"legendgroup\": \"WeightClass\", \"marker\": {\"color\": \"#B68100\"}, \"mode\": \"markers\", \"name\": \"120\", \"showlegend\": false, \"type\": \"scatter\", \"x\": [109.1, 119.35, 119.98, 109.13, 118.98, 109.8, 116.5, 110.0, 109.77, 119.75], \"xaxis\": \"x2\", \"y\": [285.0, 265.0, 260.82, 260.0, 253.0, 252.5, 250.0, 250.0, 249.48, 249.48], \"yaxis\": \"y2\"}, {\"customdata\": [\"1997-07-11T00:00:00\", \"2016-11-19T00:00:00\", \"1983-11-13T00:00:00\", \"2020-03-07T00:00:00\", \"2019-10-02T00:00:00\", \"2014-11-15T00:00:00\", \"2016-11-05T00:00:00\", \"2019-08-30T00:00:00\", \"2010-06-26T00:00:00\", \"2019-08-17T00:00:00\"], \"hovertemplate\": \"<b>%{hovertext}</b><br>Bodyweight: %{x}kg <br>Bench: %{y}kg<br>Date: %{customdata|%Y-%m-%d}<extra></extra>\", \"hovertext\": [\"James Henderson #1\", \"Kirill Sarychev\", \"Ted Arcidi\", \"Larry Williams #1\", \"Ilyes Boughalem\", \"Josh Morris #1\", \"JP Price\", \"James Strickland\", \"Dan Kovacs\", \"Kenneth Hunt Jr\"], \"legendgroup\": \"WeightClass\", \"marker\": {\"color\": \"#750D86\"}, \"mode\": \"markers\", \"name\": \"120+\", \"showlegend\": false, \"type\": \"scatter\", \"x\": [177.0, 177.4, 125.0, 128.64, 159.4, 187.97, 170.37, 136.1, 140.0, 169.3], \"xaxis\": \"x2\", \"y\": [322.5, 320.0, 295.0, 292.57, 291.0, 290.3, 290.0, 290.0, 288.03, 287.5], \"yaxis\": \"y2\"}, {\"customdata\": [\"2019-06-04T00:00:00\", \"2020-03-18T00:00:00\", \"2018-06-06T00:00:00\", \"2019-10-16T00:00:00\", \"2019-11-29T00:00:00\", \"2013-07-19T00:00:00\", \"2016-12-10T00:00:00\", \"2019-02-16T00:00:00\", \"2018-06-02T00:00:00\", \"2015-06-05T00:00:00\"], \"hovertemplate\": \"<b>%{hovertext}</b><br>Bodyweight: %{x}kg <br>Deadlift: %{y}kg<br>Date: %{customdata|%Y-%m-%d}<extra></extra>\", \"hovertext\": [\"Derek Ng\", \"Sergey Fedosienko\", \"Dalton LaCoe\", \"Charlie Yeng\", \"Ilya Marichev\", \"Eric Kupperstein\", \"Josue Leon\", \"Khemarintr Suwanchote\", \"Kole Metts\", \"Alexander Kolbin\"], \"legendgroup\": \"WeightClass\", \"marker\": {\"color\": \"#2E91E5\"}, \"mode\": \"markers\", \"name\": \"59\", \"showlegend\": false, \"type\": \"scatter\", \"x\": [59.0, 59.0, 52.92, 58.7, 58.65, 58.6, 58.9, 58.5, 58.42, 58.62], \"xaxis\": \"x3\", \"y\": [275.0, 275.0, 271.5, 267.5, 260.0, 255.0, 255.0, 255.0, 252.5, 250.0], \"yaxis\": \"y3\"}, {\"customdata\": [\"2019-09-20T00:00:00\", \"2020-03-07T00:00:00\", \"2018-10-11T00:00:00\", \"2018-10-26T00:00:00\", \"2018-06-06T00:00:00\", \"2016-06-19T00:00:00\", \"2018-06-06T00:00:00\", \"2017-11-11T00:00:00\", \"2019-03-03T00:00:00\", \"2019-10-16T00:00:00\"], \"hovertemplate\": \"<b>%{hovertext}</b><br>Bodyweight: %{x}kg <br>Deadlift: %{y}kg<br>Date: %{customdata|%Y-%m-%d}<extra></extra>\", \"hovertext\": [\"Hassan El Belghiti\", \"Daniel Clements\", \"Matthew Arremony\", \"Derek Ng\", \"Clifton Pho\", \"John Paul Cauchi\", \"Antti Savolainen\", \"Keith McHoney\", \"Sergey Gladkikh\", \"Terel Monroe\"], \"legendgroup\": \"WeightClass\", \"marker\": {\"color\": \"#E15F99\"}, \"mode\": \"markers\", \"name\": \"66\", \"showlegend\": false, \"type\": \"scatter\", \"x\": [65.6, 65.43, 65.0, 64.0, 65.12, 65.84, 65.43, 65.8, 65.95, 65.62], \"xaxis\": \"x3\", \"y\": [298.0, 290.5, 290.0, 286.0, 285.5, 282.5, 280.0, 280.0, 280.0, 280.0], \"yaxis\": \"y3\"}, {\"customdata\": [\"2017-06-14T00:00:00\", \"2019-10-16T00:00:00\", \"2019-10-16T00:00:00\", \"2020-09-04T00:00:00\", \"2015-05-23T00:00:00\", \"2020-03-03T00:00:00\", \"2018-11-17T00:00:00\", \"2019-06-04T00:00:00\", \"2018-10-11T00:00:00\", \"2014-12-08T00:00:00\"], \"hovertemplate\": \"<b>%{hovertext}</b><br>Bodyweight: %{x}kg <br>Deadlift: %{y}kg<br>Date: %{customdata|%Y-%m-%d}<extra></extra>\", \"hovertext\": [\"Kjell Egil Bakkelund\", \"Richard Cho\", \"Eric LaPointe\", \"Casmir Hughes\", \"Dmitry Nasonov\", \"Nick Manders\", \"Jamaal Grimes\", \"Taylor Atwood\", \"Blake Lehew\", \"Doni Meiyanto\"], \"legendgroup\": \"WeightClass\", \"marker\": {\"color\": \"#1CA71C\"}, \"mode\": \"markers\", \"name\": \"74\", \"showlegend\": false, \"type\": \"scatter\", \"x\": [73.63, 73.6, 73.5, 73.8, 73.8, 73.82, 73.3, 73.75, 73.7, 70.55], \"xaxis\": \"x3\", \"y\": [322.0, 318.0, 317.5, 315.0, 315.0, 315.0, 312.5, 312.5, 310.5, 310.5], \"yaxis\": \"y3\"}, {\"customdata\": [\"2019-08-03T00:00:00\", \"2020-09-12T00:00:00\", \"2020-03-07T00:00:00\", \"2017-10-10T00:00:00\", \"2018-02-16T00:00:00\", \"2018-11-02T00:00:00\", \"2017-05-06T00:00:00\", \"2019-11-16T00:00:00\", \"2019-12-07T00:00:00\", \"2018-04-06T00:00:00\"], \"hovertemplate\": \"<b>%{hovertext}</b><br>Bodyweight: %{x}kg <br>Deadlift: %{y}kg<br>Date: %{customdata|%Y-%m-%d}<extra></extra>\", \"hovertext\": [\"John Haack\", \"Asein Enahoro\", \"Angelo Fortino\", \"Yangsu Ren\", \"Trevor Jaffe\", \"David Herrera #1\", \"Chris Garcia\", \"Richard Cho\", \"Blake Lehew\", \"Wayne Knight\"], \"legendgroup\": \"WeightClass\", \"marker\": {\"color\": \"#FB0D0D\"}, \"mode\": \"markers\", \"name\": \"83\", \"showlegend\": false, \"type\": \"scatter\", \"x\": [82.4, 82.8, 81.52, 82.04, 82.3, 79.1, 82.3, 76.0, 75.0, 80.6], \"xaxis\": \"x3\", \"y\": [362.5, 350.0, 340.5, 340.0, 337.5, 335.5, 335.0, 335.0, 333.0, 332.5], \"yaxis\": \"y3\"}, {\"customdata\": [\"2017-02-11T00:00:00\", \"2020-09-26T00:00:00\", \"2015-11-07T00:00:00\", \"2019-09-07T00:00:00\", \"2014-11-21T00:00:00\", \"2020-01-18T00:00:00\", \"2020-03-07T00:00:00\", \"2016-04-30T00:00:00\", \"2019-10-19T00:00:00\", \"2018-10-11T00:00:00\"], \"hovertemplate\": \"<b>%{hovertext}</b><br>Bodyweight: %{x}kg <br>Deadlift: %{y}kg<br>Date: %{customdata|%Y-%m-%d}<extra></extra>\", \"hovertext\": [\"Cailer Woolam\", \"John Haack\", \"Jesse Norris\", \"Krzysztof Wierzbicki\", \"Andrey Belyaev #1\", \"Sascha Stendebach\", \"Ashton Rouska\", \"Ben Pollack\", \"James Mapp Jr\", \"David Woolson\"], \"legendgroup\": \"WeightClass\", \"marker\": {\"color\": \"#DA16FF\"}, \"mode\": \"markers\", \"name\": \"93\", \"showlegend\": false, \"type\": \"scatter\", \"x\": [88.6, 89.6, 89.72, 92.9, 91.2, 92.5, 92.14, 89.0, 88.6, 92.6], \"xaxis\": \"x3\", \"y\": [400.0, 385.0, 375.0, 375.0, 370.0, 370.0, 365.0, 363.0, 362.5, 355.5], \"yaxis\": \"y3\"}, {\"customdata\": [\"2020-03-08T00:00:00\", \"2019-11-09T00:00:00\", \"2020-10-03T00:00:00\", \"2013-08-15T00:00:00\", \"2019-11-09T00:00:00\", \"2020-10-10T00:00:00\", \"2018-02-19T00:00:00\", \"2014-02-07T00:00:00\", \"2014-07-26T00:00:00\", \"2018-02-25T00:00:00\"], \"hovertemplate\": \"<b>%{hovertext}</b><br>Bodyweight: %{x}kg <br>Deadlift: %{y}kg<br>Date: %{customdata|%Y-%m-%d}<extra></extra>\", \"hovertext\": [\"Krzysztof Wierzbicki\", \"Cailer Woolam\", \"Yury Belkin\", \"Aleksandr Obukhovich\", \"Jeremy Avilla\", \"Ashton Rouska\", \"Bryce Krawczyk\", \"Dan Green\", \"David Troutt\", \"Gregory Johnson\"], \"legendgroup\": \"WeightClass\", \"marker\": {\"color\": \"#222A2A\"}, \"mode\": \"markers\", \"name\": \"105\", \"showlegend\": false, \"type\": \"scatter\", \"x\": [97.9, 97.89, 100.0, 103.9, 99.61, 99.1, 103.9, 100.0, 104.33, 102.3], \"xaxis\": \"x3\", \"y\": [433.5, 432.5, 420.0, 385.0, 385.0, 377.5, 375.0, 375.0, 375.0, 372.5], \"yaxis\": \"y3\"}, {\"customdata\": [\"2020-02-01T00:00:00\", \"2020-02-22T00:00:00\", \"2016-11-05T00:00:00\", \"2018-11-10T00:00:00\", \"1986-12-01T00:00:00\", \"2019-08-30T00:00:00\", \"2017-10-14T00:00:00\", \"2019-12-01T00:00:00\", \"2012-01-28T00:00:00\", \"2017-12-10T00:00:00\"], \"hovertemplate\": \"<b>%{hovertext}</b><br>Bodyweight: %{x}kg <br>Deadlift: %{y}kg<br>Date: %{customdata|%Y-%m-%d}<extra></extra>\", \"hovertext\": [\"Jamal Browner\", \"Danny Grigsby\", \"Pete Rubish\", \"Andrew Herbert\", \"Brett Russell\", \"Ogden J Myklebust III\", \"Luigi Fagiani\", \"Nicolaas du Preez\", \"Delroy McQueen\", \"Jim Nuttall\"], \"legendgroup\": \"WeightClass\", \"marker\": {\"color\": \"#B68100\"}, \"mode\": \"markers\", \"name\": \"120\", \"showlegend\": false, \"type\": \"scatter\", \"x\": [108.6, 117.3, 106.78, 109.04, 110.0, 108.1, 108.6, 119.9, 112.5, 107.1], \"xaxis\": \"x3\", \"y\": [432.5, 423.5, 395.0, 390.0, 390.0, 387.5, 382.5, 382.5, 380.0, 380.0], \"yaxis\": \"y3\"}, {\"customdata\": [\"2005-11-05T00:00:00\", \"2010-07-03T00:00:00\", \"2012-12-15T00:00:00\", \"2019-01-26T00:00:00\", \"2020-02-29T00:00:00\", \"2016-04-16T00:00:00\", \"2017-08-12T00:00:00\", \"2016-11-19T00:00:00\", \"2016-08-19T00:00:00\", \"2019-01-26T00:00:00\"], \"hovertemplate\": \"<b>%{hovertext}</b><br>Bodyweight: %{x}kg <br>Deadlift: %{y}kg<br>Date: %{customdata|%Y-%m-%d}<extra></extra>\", \"hovertext\": [\"Benedikt Magn\\u00fasson #1\", \"Konstant\\u012bn Konstant\\u012bnovs\", \"Mikhail Koklyaev\", \"Bryan Hartsel\", \"Daniel Bell #1\", \"Eric Lilliebridge\", \"Josh Morris #1\", \"Kirill Sarychev\", \"Aria Attia\", \"Dane Dillon\"], \"legendgroup\": \"WeightClass\", \"marker\": {\"color\": \"#750D86\"}, \"mode\": \"markers\", \"name\": \"120+\", \"showlegend\": false, \"type\": \"scatter\", \"x\": [158.5, 131.0, 159.1, 170.8, 174.18, 138.8, 178.81, 177.4, 123.74, 137.6], \"xaxis\": \"x3\", \"y\": [440.0, 420.0, 417.5, 410.0, 410.0, 410.0, 410.0, 402.5, 400.0, 400.0], \"yaxis\": \"y3\"}, {\"customdata\": [\"2020-03-18T00:00:00\", \"2019-10-16T00:00:00\", \"2015-06-05T00:00:00\", \"2018-06-06T00:00:00\", \"2019-04-12T00:00:00\", \"2002-05-09T00:00:00\", \"2020-03-18T00:00:00\", \"2018-10-11T00:00:00\", \"2019-06-04T00:00:00\", \"2016-06-19T00:00:00\"], \"hovertemplate\": \"<b>%{hovertext}</b><br>Bodyweight: %{x}kg <br>Total: %{y}kg<br>Date: %{customdata|%Y-%m-%d}<extra></extra>\", \"hovertext\": [\"Sergey Fedosienko\", \"Charlie Yeng\", \"Alexander Kolbin\", \"Franklin Le\\u00f3n\", \"Kole Metts\", \"Andrzej Stanaszek\", \"Ilya Marichev\", \"Andres Ramos\", \"Ayumi Hisatsune\", \"Dariusz Wszo\\u0142a\"], \"legendgroup\": \"WeightClass\", \"marker\": {\"color\": \"#2E91E5\"}, \"mode\": \"markers\", \"name\": \"59\", \"showlegend\": false, \"type\": \"scatter\", \"x\": [59.0, 58.7, 58.62, 58.83, 58.95, 51.3, 58.9, 58.7, 58.85, 58.58], \"xaxis\": \"x4\", \"y\": [670.5, 615.0, 602.5, 602.5, 602.5, 600.0, 590.0, 587.5, 587.5, 577.5], \"yaxis\": \"y4\"}, {\"customdata\": [\"2019-06-04T00:00:00\", \"2019-03-03T00:00:00\", \"2017-11-11T00:00:00\", \"2019-06-04T00:00:00\", \"2019-11-29T00:00:00\", \"2016-11-10T00:00:00\", \"2020-03-07T00:00:00\", \"2020-03-07T00:00:00\", \"2019-10-16T00:00:00\", \"2018-06-06T00:00:00\"], \"hovertemplate\": \"<b>%{hovertext}</b><br>Bodyweight: %{x}kg <br>Total: %{y}kg<br>Date: %{customdata|%Y-%m-%d}<extra></extra>\", \"hovertext\": [\"Charles Okpoko\", \"Sergey Gladkikh\", \"Keith McHoney\", \"Tsung-Ting Hsieh\", \"Eddie Berglund\", \"Gerald Dionio\", \"Jonathan Garcia #1\", \"Daniel Clements\", \"Rodrigo Manzo\", \"Dallas Bey\"], \"legendgroup\": \"WeightClass\", \"marker\": {\"color\": \"#E15F99\"}, \"mode\": \"markers\", \"name\": \"66\", \"showlegend\": false, \"type\": \"scatter\", \"x\": [65.75, 65.95, 65.8, 65.7, 65.7, 65.7, 64.64, 65.43, 65.72, 65.9], \"xaxis\": \"x4\", \"y\": [705.5, 700.0, 692.5, 682.5, 677.5, 677.5, 677.0, 673.0, 670.0, 665.0], \"yaxis\": \"y4\"}, {\"customdata\": [\"2019-06-04T00:00:00\", \"2019-10-16T00:00:00\", \"2017-06-14T00:00:00\", \"2020-07-17T00:00:00\", \"2014-11-05T00:00:00\", \"2018-10-11T00:00:00\", \"2018-04-29T00:00:00\", \"2019-10-16T00:00:00\", \"2019-08-30T00:00:00\", \"2018-07-21T00:00:00\"], \"hovertemplate\": \"<b>%{hovertext}</b><br>Bodyweight: %{x}kg <br>Total: %{y}kg<br>Date: %{customdata|%Y-%m-%d}<extra></extra>\", \"hovertext\": [\"Taylor Atwood\", \"Austin Perkins\", \"Kjell Egil Bakkelund\", \"Chris Kennedy #1\", \"Rostislav Petkov\", \"Blake Lehew\", \"Yoshihiro Higa\", \"Richard Cho\", \"Michael Estrella\", \"Keith McHoney\"], \"legendgroup\": \"WeightClass\", \"marker\": {\"color\": \"#1CA71C\"}, \"mode\": \"markers\", \"name\": \"74\", \"showlegend\": false, \"type\": \"scatter\", \"x\": [73.75, 73.11, 73.63, 73.8, 73.89, 73.7, 73.85, 73.6, 67.3, 68.3], \"xaxis\": \"x4\", \"y\": [790.5, 757.5, 757.0, 755.0, 748.5, 748.0, 745.0, 743.0, 738.0, 732.5], \"yaxis\": \"y4\"}, {\"customdata\": [\"2019-08-03T00:00:00\", \"2016-01-23T00:00:00\", \"2020-09-26T00:00:00\", \"2019-06-04T00:00:00\", \"2018-06-06T00:00:00\", \"2018-04-21T00:00:00\", \"2018-06-22T00:00:00\", \"2020-07-18T00:00:00\", \"2020-09-26T00:00:00\", \"2018-06-16T00:00:00\"], \"hovertemplate\": \"<b>%{hovertext}</b><br>Bodyweight: %{x}kg <br>Total: %{y}kg<br>Date: %{customdata|%Y-%m-%d}<extra></extra>\", \"hovertext\": [\"John Haack\", \"Maliek Derstine\", \"Jawon Garrison\", \"Russel Orhii\", \"Brett Gibbs\", \"Chris Garcia\", \"Aleksey Nikulin\", \"Sean Noriega\", \"Blake Lehew\", \"Dexter Jones\"], \"legendgroup\": \"WeightClass\", \"marker\": {\"color\": \"#FB0D0D\"}, \"mode\": \"markers\", \"name\": \"83\", \"showlegend\": false, \"type\": \"scatter\", \"x\": [82.4, 82.2, 82.2, 82.25, 82.62, 81.2, 80.1, 82.5, 80.7, 81.9], \"xaxis\": \"x4\", \"y\": [907.5, 862.5, 850.0, 833.0, 830.5, 830.0, 825.0, 825.0, 815.0, 802.5], \"yaxis\": \"y4\"}, {\"customdata\": [\"2020-09-26T00:00:00\", \"2015-11-07T00:00:00\", \"2020-03-07T00:00:00\", \"2016-07-08T00:00:00\", \"2019-09-23T00:00:00\", \"2019-10-16T00:00:00\", \"2016-04-30T00:00:00\", \"2019-08-03T00:00:00\", \"2017-12-12T00:00:00\", \"2017-02-11T00:00:00\"], \"hovertemplate\": \"<b>%{hovertext}</b><br>Bodyweight: %{x}kg <br>Total: %{y}kg<br>Date: %{customdata|%Y-%m-%d}<extra></extra>\", \"hovertext\": [\"John Haack\", \"Jesse Norris\", \"Ashton Rouska\", \"Maliek Derstine\", \"Anatolii Novopismennyi\", \"Jonathan Cayco\", \"Ben Pollack\", \"Chad Penson\", \"Mark Plummer #1\", \"Cailer Woolam\"], \"legendgroup\": \"WeightClass\", \"marker\": {\"color\": \"#DA16FF\"}, \"mode\": \"markers\", \"name\": \"93\", \"showlegend\": false, \"type\": \"scatter\", \"x\": [89.6, 89.72, 92.14, 89.3, 92.56, 92.1, 89.0, 89.6, 92.1, 88.6], \"xaxis\": \"x4\", \"y\": [937.5, 922.5, 881.5, 875.5, 870.0, 868.5, 865.5, 862.5, 862.5, 860.0], \"yaxis\": \"y4\"}, {\"customdata\": [\"2020-10-03T00:00:00\", \"2019-11-09T00:00:00\", \"2016-11-05T00:00:00\", \"2014-02-07T00:00:00\", \"2020-03-08T00:00:00\", \"2019-10-12T00:00:00\", \"2019-11-09T00:00:00\", \"2009-10-01T00:00:00\", \"2020-10-10T00:00:00\", \"2015-02-07T00:00:00\"], \"hovertemplate\": \"<b>%{hovertext}</b><br>Bodyweight: %{x}kg <br>Total: %{y}kg<br>Date: %{customdata|%Y-%m-%d}<extra></extra>\", \"hovertext\": [\"Yury Belkin\", \"Cailer Woolam\", \"Kevin Oak\", \"Dan Green\", \"Krzysztof Wierzbicki\", \"Josh Lentz\", \"Aaron Palko\", \"Andrey Belyaev #1\", \"Ashton Rouska\", \"Jeremy Hamilton\"], \"legendgroup\": \"WeightClass\", \"marker\": {\"color\": \"#222A2A\"}, \"mode\": \"markers\", \"name\": \"105\", \"showlegend\": false, \"type\": \"scatter\", \"x\": [100.0, 97.89, 99.43, 100.0, 97.9, 97.9, 99.29, 99.0, 99.1, 99.9], \"xaxis\": \"x4\", \"y\": [965.0, 962.5, 953.0, 952.5, 941.0, 935.0, 920.0, 920.0, 920.0, 915.0], \"yaxis\": \"y4\"}, {\"customdata\": [\"2020-02-01T00:00:00\", \"2019-08-03T00:00:00\", \"2016-11-05T00:00:00\", \"2019-12-01T00:00:00\", \"2016-06-19T00:00:00\", \"2019-11-14T00:00:00\", \"2018-11-10T00:00:00\", \"2019-11-09T00:00:00\", \"2020-02-22T00:00:00\", \"2018-01-13T00:00:00\"], \"hovertemplate\": \"<b>%{hovertext}</b><br>Bodyweight: %{x}kg <br>Total: %{y}kg<br>Date: %{customdata|%Y-%m-%d}<extra></extra>\", \"hovertext\": [\"Jamal Browner\", \"Kevin Oak\", \"Larry Williams #1\", \"Nicolaas du Preez\", \"Dennis Cornelius\", \"Matt Sohmer\", \"Andrew Herbert\", \"Richard Wright #1\", \"Danny Grigsby\", \"Pete Rubish\"], \"legendgroup\": \"WeightClass\", \"marker\": {\"color\": \"#B68100\"}, \"mode\": \"markers\", \"name\": \"120\", \"showlegend\": false, \"type\": \"scatter\", \"x\": [108.6, 107.8, 109.13, 119.9, 118.98, 119.0, 109.04, 117.93, 117.3, 108.8], \"xaxis\": \"x4\", \"y\": [990.0, 987.5, 985.0, 982.5, 978.5, 970.0, 957.5, 954.81, 953.5, 952.5], \"yaxis\": \"y4\"}, {\"customdata\": [\"2020-02-29T00:00:00\", \"2019-03-02T00:00:00\", \"2017-08-12T00:00:00\", \"2020-03-07T00:00:00\", \"2016-04-16T00:00:00\", \"2016-11-19T00:00:00\", \"2016-11-05T00:00:00\", \"2017-10-21T00:00:00\", \"2020-01-25T00:00:00\", \"2019-08-10T00:00:00\"], \"hovertemplate\": \"<b>%{hovertext}</b><br>Bodyweight: %{x}kg <br>Total: %{y}kg<br>Date: %{customdata|%Y-%m-%d}<extra></extra>\", \"hovertext\": [\"Daniel Bell #1\", \"Ray Williams #1\", \"Josh Morris #1\", \"Larry Williams #1\", \"Eric Lilliebridge\", \"Kirill Sarychev\", \"JP Price\", \"Jezza Uepa\", \"Logan Chapman\", \"Erick Lewis\"], \"legendgroup\": \"WeightClass\", \"marker\": {\"color\": \"#750D86\"}, \"mode\": \"markers\", \"name\": \"120+\", \"showlegend\": false, \"type\": \"scatter\", \"x\": [174.18, 190.4, 178.81, 128.64, 138.8, 177.4, 170.37, 181.4, 156.76, 166.2], \"xaxis\": \"x4\", \"y\": [1127.5, 1112.5, 1077.5, 1075.01, 1075.0, 1072.5, 1070.0, 1070.0, 1068.21, 1045.0], \"yaxis\": \"y4\"}],                        {\"annotations\": [{\"font\": {\"size\": 16}, \"showarrow\": false, \"text\": \"<b>Squat</b>\", \"x\": 0.10625, \"xanchor\": \"center\", \"xref\": \"paper\", \"y\": 1.0, \"yanchor\": \"bottom\", \"yref\": \"paper\"}, {\"font\": {\"size\": 16}, \"showarrow\": false, \"text\": \"<b>Bench</b>\", \"x\": 0.36875, \"xanchor\": \"center\", \"xref\": \"paper\", \"y\": 1.0, \"yanchor\": \"bottom\", \"yref\": \"paper\"}, {\"font\": {\"size\": 16}, \"showarrow\": false, \"text\": \"<b>Deadlift</b>\", \"x\": 0.6312500000000001, \"xanchor\": \"center\", \"xref\": \"paper\", \"y\": 1.0, \"yanchor\": \"bottom\", \"yref\": \"paper\"}, {\"font\": {\"size\": 16}, \"showarrow\": false, \"text\": \"<b>Total</b>\", \"x\": 0.89375, \"xanchor\": \"center\", \"xref\": \"paper\", \"y\": 1.0, \"yanchor\": \"bottom\", \"yref\": \"paper\"}], \"template\": {\"data\": {\"bar\": [{\"error_x\": {\"color\": \"#2a3f5f\"}, \"error_y\": {\"color\": \"#2a3f5f\"}, \"marker\": {\"line\": {\"color\": \"#E5ECF6\", \"width\": 0.5}}, \"type\": \"bar\"}], \"barpolar\": [{\"marker\": {\"line\": {\"color\": \"#E5ECF6\", \"width\": 0.5}}, \"type\": \"barpolar\"}], \"carpet\": [{\"aaxis\": {\"endlinecolor\": \"#2a3f5f\", \"gridcolor\": \"white\", \"linecolor\": \"white\", \"minorgridcolor\": \"white\", \"startlinecolor\": \"#2a3f5f\"}, \"baxis\": {\"endlinecolor\": \"#2a3f5f\", \"gridcolor\": \"white\", \"linecolor\": \"white\", \"minorgridcolor\": \"white\", \"startlinecolor\": \"#2a3f5f\"}, \"type\": \"carpet\"}], \"choropleth\": [{\"colorbar\": {\"outlinewidth\": 0, \"ticks\": \"\"}, \"type\": \"choropleth\"}], \"contour\": [{\"colorbar\": {\"outlinewidth\": 0, \"ticks\": \"\"}, \"colorscale\": [[0.0, \"#0d0887\"], [0.1111111111111111, \"#46039f\"], [0.2222222222222222, \"#7201a8\"], [0.3333333333333333, \"#9c179e\"], [0.4444444444444444, \"#bd3786\"], [0.5555555555555556, \"#d8576b\"], [0.6666666666666666, \"#ed7953\"], [0.7777777777777778, \"#fb9f3a\"], [0.8888888888888888, \"#fdca26\"], [1.0, \"#f0f921\"]], \"type\": \"contour\"}], \"contourcarpet\": [{\"colorbar\": {\"outlinewidth\": 0, \"ticks\": \"\"}, \"type\": \"contourcarpet\"}], \"heatmap\": [{\"colorbar\": {\"outlinewidth\": 0, \"ticks\": \"\"}, \"colorscale\": [[0.0, \"#0d0887\"], [0.1111111111111111, \"#46039f\"], [0.2222222222222222, \"#7201a8\"], [0.3333333333333333, \"#9c179e\"], [0.4444444444444444, \"#bd3786\"], [0.5555555555555556, \"#d8576b\"], [0.6666666666666666, \"#ed7953\"], [0.7777777777777778, \"#fb9f3a\"], [0.8888888888888888, \"#fdca26\"], [1.0, \"#f0f921\"]], \"type\": \"heatmap\"}], \"heatmapgl\": [{\"colorbar\": {\"outlinewidth\": 0, \"ticks\": \"\"}, \"colorscale\": [[0.0, \"#0d0887\"], [0.1111111111111111, \"#46039f\"], [0.2222222222222222, \"#7201a8\"], [0.3333333333333333, \"#9c179e\"], [0.4444444444444444, \"#bd3786\"], [0.5555555555555556, \"#d8576b\"], [0.6666666666666666, \"#ed7953\"], [0.7777777777777778, \"#fb9f3a\"], [0.8888888888888888, \"#fdca26\"], [1.0, \"#f0f921\"]], \"type\": \"heatmapgl\"}], \"histogram\": [{\"marker\": {\"colorbar\": {\"outlinewidth\": 0, \"ticks\": \"\"}}, \"type\": \"histogram\"}], \"histogram2d\": [{\"colorbar\": {\"outlinewidth\": 0, \"ticks\": \"\"}, \"colorscale\": [[0.0, \"#0d0887\"], [0.1111111111111111, \"#46039f\"], [0.2222222222222222, \"#7201a8\"], [0.3333333333333333, \"#9c179e\"], [0.4444444444444444, \"#bd3786\"], [0.5555555555555556, \"#d8576b\"], [0.6666666666666666, \"#ed7953\"], [0.7777777777777778, \"#fb9f3a\"], [0.8888888888888888, \"#fdca26\"], [1.0, \"#f0f921\"]], \"type\": \"histogram2d\"}], \"histogram2dcontour\": [{\"colorbar\": {\"outlinewidth\": 0, \"ticks\": \"\"}, \"colorscale\": [[0.0, \"#0d0887\"], [0.1111111111111111, \"#46039f\"], [0.2222222222222222, \"#7201a8\"], [0.3333333333333333, \"#9c179e\"], [0.4444444444444444, \"#bd3786\"], [0.5555555555555556, \"#d8576b\"], [0.6666666666666666, \"#ed7953\"], [0.7777777777777778, \"#fb9f3a\"], [0.8888888888888888, \"#fdca26\"], [1.0, \"#f0f921\"]], \"type\": \"histogram2dcontour\"}], \"mesh3d\": [{\"colorbar\": {\"outlinewidth\": 0, \"ticks\": \"\"}, \"type\": \"mesh3d\"}], \"parcoords\": [{\"line\": {\"colorbar\": {\"outlinewidth\": 0, \"ticks\": \"\"}}, \"type\": \"parcoords\"}], \"pie\": [{\"automargin\": true, \"type\": \"pie\"}], \"scatter\": [{\"marker\": {\"colorbar\": {\"outlinewidth\": 0, \"ticks\": \"\"}}, \"type\": \"scatter\"}], \"scatter3d\": [{\"line\": {\"colorbar\": {\"outlinewidth\": 0, \"ticks\": \"\"}}, \"marker\": {\"colorbar\": {\"outlinewidth\": 0, \"ticks\": \"\"}}, \"type\": \"scatter3d\"}], \"scattercarpet\": [{\"marker\": {\"colorbar\": {\"outlinewidth\": 0, \"ticks\": \"\"}}, \"type\": \"scattercarpet\"}], \"scattergeo\": [{\"marker\": {\"colorbar\": {\"outlinewidth\": 0, \"ticks\": \"\"}}, \"type\": \"scattergeo\"}], \"scattergl\": [{\"marker\": {\"colorbar\": {\"outlinewidth\": 0, \"ticks\": \"\"}}, \"type\": \"scattergl\"}], \"scattermapbox\": [{\"marker\": {\"colorbar\": {\"outlinewidth\": 0, \"ticks\": \"\"}}, \"type\": \"scattermapbox\"}], \"scatterpolar\": [{\"marker\": {\"colorbar\": {\"outlinewidth\": 0, \"ticks\": \"\"}}, \"type\": \"scatterpolar\"}], \"scatterpolargl\": [{\"marker\": {\"colorbar\": {\"outlinewidth\": 0, \"ticks\": \"\"}}, \"type\": \"scatterpolargl\"}], \"scatterternary\": [{\"marker\": {\"colorbar\": {\"outlinewidth\": 0, \"ticks\": \"\"}}, \"type\": \"scatterternary\"}], \"surface\": [{\"colorbar\": {\"outlinewidth\": 0, \"ticks\": \"\"}, \"colorscale\": [[0.0, \"#0d0887\"], [0.1111111111111111, \"#46039f\"], [0.2222222222222222, \"#7201a8\"], [0.3333333333333333, \"#9c179e\"], [0.4444444444444444, \"#bd3786\"], [0.5555555555555556, \"#d8576b\"], [0.6666666666666666, \"#ed7953\"], [0.7777777777777778, \"#fb9f3a\"], [0.8888888888888888, \"#fdca26\"], [1.0, \"#f0f921\"]], \"type\": \"surface\"}], \"table\": [{\"cells\": {\"fill\": {\"color\": \"#EBF0F8\"}, \"line\": {\"color\": \"white\"}}, \"header\": {\"fill\": {\"color\": \"#C8D4E3\"}, \"line\": {\"color\": \"white\"}}, \"type\": \"table\"}]}, \"layout\": {\"annotationdefaults\": {\"arrowcolor\": \"#2a3f5f\", \"arrowhead\": 0, \"arrowwidth\": 1}, \"coloraxis\": {\"colorbar\": {\"outlinewidth\": 0, \"ticks\": \"\"}}, \"colorscale\": {\"diverging\": [[0, \"#8e0152\"], [0.1, \"#c51b7d\"], [0.2, \"#de77ae\"], [0.3, \"#f1b6da\"], [0.4, \"#fde0ef\"], [0.5, \"#f7f7f7\"], [0.6, \"#e6f5d0\"], [0.7, \"#b8e186\"], [0.8, \"#7fbc41\"], [0.9, \"#4d9221\"], [1, \"#276419\"]], \"sequential\": [[0.0, \"#0d0887\"], [0.1111111111111111, \"#46039f\"], [0.2222222222222222, \"#7201a8\"], [0.3333333333333333, \"#9c179e\"], [0.4444444444444444, \"#bd3786\"], [0.5555555555555556, \"#d8576b\"], [0.6666666666666666, \"#ed7953\"], [0.7777777777777778, \"#fb9f3a\"], [0.8888888888888888, \"#fdca26\"], [1.0, \"#f0f921\"]], \"sequentialminus\": [[0.0, \"#0d0887\"], [0.1111111111111111, \"#46039f\"], [0.2222222222222222, \"#7201a8\"], [0.3333333333333333, \"#9c179e\"], [0.4444444444444444, \"#bd3786\"], [0.5555555555555556, \"#d8576b\"], [0.6666666666666666, \"#ed7953\"], [0.7777777777777778, \"#fb9f3a\"], [0.8888888888888888, \"#fdca26\"], [1.0, \"#f0f921\"]]}, \"colorway\": [\"#636efa\", \"#EF553B\", \"#00cc96\", \"#ab63fa\", \"#FFA15A\", \"#19d3f3\", \"#FF6692\", \"#B6E880\", \"#FF97FF\", \"#FECB52\"], \"font\": {\"color\": \"#2a3f5f\"}, \"geo\": {\"bgcolor\": \"white\", \"lakecolor\": \"white\", \"landcolor\": \"#E5ECF6\", \"showlakes\": true, \"showland\": true, \"subunitcolor\": \"white\"}, \"hoverlabel\": {\"align\": \"left\"}, \"hovermode\": \"closest\", \"mapbox\": {\"style\": \"light\"}, \"paper_bgcolor\": \"white\", \"plot_bgcolor\": \"#E5ECF6\", \"polar\": {\"angularaxis\": {\"gridcolor\": \"white\", \"linecolor\": \"white\", \"ticks\": \"\"}, \"bgcolor\": \"#E5ECF6\", \"radialaxis\": {\"gridcolor\": \"white\", \"linecolor\": \"white\", \"ticks\": \"\"}}, \"scene\": {\"xaxis\": {\"backgroundcolor\": \"#E5ECF6\", \"gridcolor\": \"white\", \"gridwidth\": 2, \"linecolor\": \"white\", \"showbackground\": true, \"ticks\": \"\", \"zerolinecolor\": \"white\"}, \"yaxis\": {\"backgroundcolor\": \"#E5ECF6\", \"gridcolor\": \"white\", \"gridwidth\": 2, \"linecolor\": \"white\", \"showbackground\": true, \"ticks\": \"\", \"zerolinecolor\": \"white\"}, \"zaxis\": {\"backgroundcolor\": \"#E5ECF6\", \"gridcolor\": \"white\", \"gridwidth\": 2, \"linecolor\": \"white\", \"showbackground\": true, \"ticks\": \"\", \"zerolinecolor\": \"white\"}}, \"shapedefaults\": {\"line\": {\"color\": \"#2a3f5f\"}}, \"ternary\": {\"aaxis\": {\"gridcolor\": \"white\", \"linecolor\": \"white\", \"ticks\": \"\"}, \"baxis\": {\"gridcolor\": \"white\", \"linecolor\": \"white\", \"ticks\": \"\"}, \"bgcolor\": \"#E5ECF6\", \"caxis\": {\"gridcolor\": \"white\", \"linecolor\": \"white\", \"ticks\": \"\"}}, \"title\": {\"x\": 0.05}, \"xaxis\": {\"automargin\": true, \"gridcolor\": \"white\", \"linecolor\": \"white\", \"ticks\": \"\", \"title\": {\"standoff\": 15}, \"zerolinecolor\": \"white\", \"zerolinewidth\": 2}, \"yaxis\": {\"automargin\": true, \"gridcolor\": \"white\", \"linecolor\": \"white\", \"ticks\": \"\", \"title\": {\"standoff\": 15}, \"zerolinecolor\": \"white\", \"zerolinewidth\": 2}}}, \"xaxis\": {\"anchor\": \"y\", \"domain\": [0.0, 0.2125]}, \"xaxis2\": {\"anchor\": \"y2\", \"domain\": [0.2625, 0.475]}, \"xaxis3\": {\"anchor\": \"y3\", \"domain\": [0.525, 0.7375]}, \"xaxis4\": {\"anchor\": \"y4\", \"domain\": [0.7875, 1.0]}, \"yaxis\": {\"anchor\": \"x\", \"domain\": [0.0, 1.0]}, \"yaxis2\": {\"anchor\": \"x2\", \"domain\": [0.0, 1.0]}, \"yaxis3\": {\"anchor\": \"x3\", \"domain\": [0.0, 1.0]}, \"yaxis4\": {\"anchor\": \"x4\", \"domain\": [0.0, 1.0]}},                        {\"responsive\": true}                    ).then(function(){\n",
       "                            \n",
       "var gd = document.getElementById('903cf96f-1b55-46fd-9d00-f9ee1b77be9f');\n",
       "var x = new MutationObserver(function (mutations, observer) {{\n",
       "        var display = window.getComputedStyle(gd).display;\n",
       "        if (!display || display === 'none') {{\n",
       "            console.log([gd, 'removed!']);\n",
       "            Plotly.purge(gd);\n",
       "            observer.disconnect();\n",
       "        }}\n",
       "}});\n",
       "\n",
       "// Listen for the removal of the full notebook cells\n",
       "var notebookContainer = gd.closest('#notebook-container');\n",
       "if (notebookContainer) {{\n",
       "    x.observe(notebookContainer, {childList: true});\n",
       "}}\n",
       "\n",
       "// Listen for the clearing of the current output cell\n",
       "var outputEl = gd.closest('.output');\n",
       "if (outputEl) {{\n",
       "    x.observe(outputEl, {childList: true});\n",
       "}}\n",
       "\n",
       "                        })                };                });            </script>        </div>"
      ]
     },
     "metadata": {},
     "output_type": "display_data"
    }
   ],
   "source": [
    "plot_best_lifts_per_weightclass(data, 'M', 'IPF', 10)"
   ]
  },
  {
   "cell_type": "code",
   "execution_count": 138,
   "metadata": {
    "ExecuteTime": {
     "end_time": "2020-12-16T18:54:41.260331Z",
     "start_time": "2020-12-16T18:54:35.544848Z"
    }
   },
   "outputs": [],
   "source": [
    "data = load_data('data/openpowerlifting-2020-10-16/openpowerlifting-2020-10-16.csv')\n",
    "#data = clean_data(data, 'IPF', 'Raw')\n",
    "#data.head()"
   ]
  },
  {
   "cell_type": "code",
   "execution_count": 140,
   "metadata": {
    "ExecuteTime": {
     "end_time": "2020-12-16T18:54:55.953727Z",
     "start_time": "2020-12-16T18:54:55.834594Z"
    }
   },
   "outputs": [
    {
     "data": {
      "text/plain": [
       "Single-ply    785573\n",
       "Raw           401484\n",
       "Wraps         130417\n",
       "Multi-ply      43317\n",
       "Unlimited         36\n",
       "Name: Equipment, dtype: int64"
      ]
     },
     "execution_count": 140,
     "metadata": {},
     "output_type": "execute_result"
    }
   ],
   "source": [
    "data['Equipment'].value_counts()"
   ]
  },
  {
   "cell_type": "code",
   "execution_count": 141,
   "metadata": {
    "ExecuteTime": {
     "end_time": "2020-12-16T18:55:15.927545Z",
     "start_time": "2020-12-16T18:55:15.801320Z"
    }
   },
   "outputs": [
    {
     "data": {
      "text/html": [
       "<div>\n",
       "<style scoped>\n",
       "    .dataframe tbody tr th:only-of-type {\n",
       "        vertical-align: middle;\n",
       "    }\n",
       "\n",
       "    .dataframe tbody tr th {\n",
       "        vertical-align: top;\n",
       "    }\n",
       "\n",
       "    .dataframe thead th {\n",
       "        text-align: right;\n",
       "    }\n",
       "</style>\n",
       "<table border=\"1\" class=\"dataframe\">\n",
       "  <thead>\n",
       "    <tr style=\"text-align: right;\">\n",
       "      <th></th>\n",
       "      <th>Name</th>\n",
       "      <th>Sex</th>\n",
       "      <th>Event</th>\n",
       "      <th>Equipment</th>\n",
       "      <th>Age</th>\n",
       "      <th>Bodyweight</th>\n",
       "      <th>WeightClass</th>\n",
       "      <th>Squat1</th>\n",
       "      <th>Squat2</th>\n",
       "      <th>Squat3</th>\n",
       "      <th>...</th>\n",
       "      <th>Deadlift2</th>\n",
       "      <th>Deadlift3</th>\n",
       "      <th>Deadlift</th>\n",
       "      <th>Total</th>\n",
       "      <th>Wilks</th>\n",
       "      <th>Country</th>\n",
       "      <th>Federation</th>\n",
       "      <th>ParentFederation</th>\n",
       "      <th>Date</th>\n",
       "      <th>Meet</th>\n",
       "    </tr>\n",
       "  </thead>\n",
       "  <tbody>\n",
       "    <tr>\n",
       "      <th>264690</th>\n",
       "      <td>Chris Abney</td>\n",
       "      <td>M</td>\n",
       "      <td>SBD</td>\n",
       "      <td>Unlimited</td>\n",
       "      <td>46.0</td>\n",
       "      <td>102.97</td>\n",
       "      <td>110</td>\n",
       "      <td>NaN</td>\n",
       "      <td>NaN</td>\n",
       "      <td>NaN</td>\n",
       "      <td>...</td>\n",
       "      <td>NaN</td>\n",
       "      <td>NaN</td>\n",
       "      <td>229.06</td>\n",
       "      <td>601.01</td>\n",
       "      <td>361.67</td>\n",
       "      <td>USA</td>\n",
       "      <td>SPF</td>\n",
       "      <td>NaN</td>\n",
       "      <td>2019-07-13</td>\n",
       "      <td>Arkansas Strength Expo</td>\n",
       "    </tr>\n",
       "    <tr>\n",
       "      <th>270932</th>\n",
       "      <td>Kris Treadway</td>\n",
       "      <td>M</td>\n",
       "      <td>SBD</td>\n",
       "      <td>Unlimited</td>\n",
       "      <td>NaN</td>\n",
       "      <td>97.89</td>\n",
       "      <td>100</td>\n",
       "      <td>NaN</td>\n",
       "      <td>NaN</td>\n",
       "      <td>NaN</td>\n",
       "      <td>...</td>\n",
       "      <td>NaN</td>\n",
       "      <td>NaN</td>\n",
       "      <td>226.80</td>\n",
       "      <td>621.42</td>\n",
       "      <td>381.51</td>\n",
       "      <td>NaN</td>\n",
       "      <td>SPF</td>\n",
       "      <td>NaN</td>\n",
       "      <td>2019-03-30</td>\n",
       "      <td>Little Rock Classic</td>\n",
       "    </tr>\n",
       "    <tr>\n",
       "      <th>675124</th>\n",
       "      <td>Mariya Zhuravleva</td>\n",
       "      <td>F</td>\n",
       "      <td>SBD</td>\n",
       "      <td>Unlimited</td>\n",
       "      <td>24.0</td>\n",
       "      <td>67.10</td>\n",
       "      <td>67.5</td>\n",
       "      <td>135.00</td>\n",
       "      <td>147.50</td>\n",
       "      <td>-152.50</td>\n",
       "      <td>...</td>\n",
       "      <td>140.00</td>\n",
       "      <td>-155.00</td>\n",
       "      <td>140.00</td>\n",
       "      <td>397.50</td>\n",
       "      <td>407.43</td>\n",
       "      <td>Russia</td>\n",
       "      <td>WPC-RUS</td>\n",
       "      <td>WPC</td>\n",
       "      <td>2018-04-07</td>\n",
       "      <td>Siberian Bear</td>\n",
       "    </tr>\n",
       "    <tr>\n",
       "      <th>695225</th>\n",
       "      <td>Aleksandr Boytsevskiy</td>\n",
       "      <td>M</td>\n",
       "      <td>SBD</td>\n",
       "      <td>Unlimited</td>\n",
       "      <td>31.0</td>\n",
       "      <td>104.80</td>\n",
       "      <td>110</td>\n",
       "      <td>200.00</td>\n",
       "      <td>230.00</td>\n",
       "      <td>250.00</td>\n",
       "      <td>...</td>\n",
       "      <td>230.00</td>\n",
       "      <td>-250.00</td>\n",
       "      <td>230.00</td>\n",
       "      <td>710.00</td>\n",
       "      <td>424.55</td>\n",
       "      <td>NaN</td>\n",
       "      <td>WPC-RUS</td>\n",
       "      <td>WPC</td>\n",
       "      <td>2018-12-09</td>\n",
       "      <td>CIS New Years Cup</td>\n",
       "    </tr>\n",
       "    <tr>\n",
       "      <th>1034520</th>\n",
       "      <td>Artem Bykhovets</td>\n",
       "      <td>M</td>\n",
       "      <td>SBD</td>\n",
       "      <td>Unlimited</td>\n",
       "      <td>35.0</td>\n",
       "      <td>88.60</td>\n",
       "      <td>90</td>\n",
       "      <td>300.00</td>\n",
       "      <td>320.00</td>\n",
       "      <td>340.00</td>\n",
       "      <td>...</td>\n",
       "      <td>260.00</td>\n",
       "      <td>280.00</td>\n",
       "      <td>280.00</td>\n",
       "      <td>900.00</td>\n",
       "      <td>579.23</td>\n",
       "      <td>Russia</td>\n",
       "      <td>NAP</td>\n",
       "      <td>IPA</td>\n",
       "      <td>2018-09-28</td>\n",
       "      <td>Golden Tiger Classic</td>\n",
       "    </tr>\n",
       "    <tr>\n",
       "      <th>1048259</th>\n",
       "      <td>Rob Forell</td>\n",
       "      <td>M</td>\n",
       "      <td>SBD</td>\n",
       "      <td>Unlimited</td>\n",
       "      <td>39.0</td>\n",
       "      <td>96.98</td>\n",
       "      <td>100</td>\n",
       "      <td>-328.85</td>\n",
       "      <td>328.85</td>\n",
       "      <td>365.14</td>\n",
       "      <td>...</td>\n",
       "      <td>-290.30</td>\n",
       "      <td>290.30</td>\n",
       "      <td>290.30</td>\n",
       "      <td>1009.24</td>\n",
       "      <td>622.08</td>\n",
       "      <td>USA</td>\n",
       "      <td>XPC</td>\n",
       "      <td>XPC</td>\n",
       "      <td>2020-03-07</td>\n",
       "      <td>Arnold</td>\n",
       "    </tr>\n",
       "    <tr>\n",
       "      <th>1048265</th>\n",
       "      <td>Bryan Beanland</td>\n",
       "      <td>M</td>\n",
       "      <td>SBD</td>\n",
       "      <td>Unlimited</td>\n",
       "      <td>39.0</td>\n",
       "      <td>99.34</td>\n",
       "      <td>100</td>\n",
       "      <td>385.55</td>\n",
       "      <td>-408.23</td>\n",
       "      <td>408.23</td>\n",
       "      <td>...</td>\n",
       "      <td>-317.51</td>\n",
       "      <td>-317.51</td>\n",
       "      <td>306.17</td>\n",
       "      <td>1031.92</td>\n",
       "      <td>629.69</td>\n",
       "      <td>USA</td>\n",
       "      <td>XPC</td>\n",
       "      <td>XPC</td>\n",
       "      <td>2020-03-07</td>\n",
       "      <td>Arnold</td>\n",
       "    </tr>\n",
       "    <tr>\n",
       "      <th>1048266</th>\n",
       "      <td>Trinton Golden</td>\n",
       "      <td>M</td>\n",
       "      <td>SBD</td>\n",
       "      <td>Unlimited</td>\n",
       "      <td>34.0</td>\n",
       "      <td>109.50</td>\n",
       "      <td>110</td>\n",
       "      <td>-453.59</td>\n",
       "      <td>453.59</td>\n",
       "      <td>NaN</td>\n",
       "      <td>...</td>\n",
       "      <td>317.51</td>\n",
       "      <td>-353.80</td>\n",
       "      <td>317.51</td>\n",
       "      <td>1088.62</td>\n",
       "      <td>641.55</td>\n",
       "      <td>USA</td>\n",
       "      <td>XPC</td>\n",
       "      <td>XPC</td>\n",
       "      <td>2020-03-07</td>\n",
       "      <td>Arnold</td>\n",
       "    </tr>\n",
       "    <tr>\n",
       "      <th>1424904</th>\n",
       "      <td>Logan Shady</td>\n",
       "      <td>M</td>\n",
       "      <td>SBD</td>\n",
       "      <td>Unlimited</td>\n",
       "      <td>22.0</td>\n",
       "      <td>132.45</td>\n",
       "      <td>140</td>\n",
       "      <td>NaN</td>\n",
       "      <td>NaN</td>\n",
       "      <td>NaN</td>\n",
       "      <td>...</td>\n",
       "      <td>NaN</td>\n",
       "      <td>NaN</td>\n",
       "      <td>215.46</td>\n",
       "      <td>714.41</td>\n",
       "      <td>402.75</td>\n",
       "      <td>NaN</td>\n",
       "      <td>MM</td>\n",
       "      <td>NaN</td>\n",
       "      <td>2020-08-08</td>\n",
       "      <td>National Championships</td>\n",
       "    </tr>\n",
       "    <tr>\n",
       "      <th>1424906</th>\n",
       "      <td>Chance Beatty</td>\n",
       "      <td>M</td>\n",
       "      <td>SBD</td>\n",
       "      <td>Unlimited</td>\n",
       "      <td>29.0</td>\n",
       "      <td>123.38</td>\n",
       "      <td>125</td>\n",
       "      <td>NaN</td>\n",
       "      <td>NaN</td>\n",
       "      <td>NaN</td>\n",
       "      <td>...</td>\n",
       "      <td>NaN</td>\n",
       "      <td>NaN</td>\n",
       "      <td>238.14</td>\n",
       "      <td>807.39</td>\n",
       "      <td>461.33</td>\n",
       "      <td>USA</td>\n",
       "      <td>MM</td>\n",
       "      <td>NaN</td>\n",
       "      <td>2020-08-08</td>\n",
       "      <td>National Championships</td>\n",
       "    </tr>\n",
       "    <tr>\n",
       "      <th>1424907</th>\n",
       "      <td>Tory Pelzer</td>\n",
       "      <td>M</td>\n",
       "      <td>SBD</td>\n",
       "      <td>Unlimited</td>\n",
       "      <td>29.0</td>\n",
       "      <td>137.44</td>\n",
       "      <td>140</td>\n",
       "      <td>NaN</td>\n",
       "      <td>NaN</td>\n",
       "      <td>NaN</td>\n",
       "      <td>...</td>\n",
       "      <td>NaN</td>\n",
       "      <td>NaN</td>\n",
       "      <td>331.12</td>\n",
       "      <td>1238.31</td>\n",
       "      <td>693.92</td>\n",
       "      <td>USA</td>\n",
       "      <td>MM</td>\n",
       "      <td>NaN</td>\n",
       "      <td>2020-08-08</td>\n",
       "      <td>National Championships</td>\n",
       "    </tr>\n",
       "    <tr>\n",
       "      <th>1424908</th>\n",
       "      <td>Matt Marsh</td>\n",
       "      <td>M</td>\n",
       "      <td>SBD</td>\n",
       "      <td>Unlimited</td>\n",
       "      <td>31.0</td>\n",
       "      <td>86.73</td>\n",
       "      <td>90</td>\n",
       "      <td>NaN</td>\n",
       "      <td>NaN</td>\n",
       "      <td>NaN</td>\n",
       "      <td>...</td>\n",
       "      <td>NaN</td>\n",
       "      <td>NaN</td>\n",
       "      <td>226.80</td>\n",
       "      <td>698.53</td>\n",
       "      <td>454.73</td>\n",
       "      <td>NaN</td>\n",
       "      <td>MM</td>\n",
       "      <td>NaN</td>\n",
       "      <td>2020-08-08</td>\n",
       "      <td>National Championships</td>\n",
       "    </tr>\n",
       "    <tr>\n",
       "      <th>1424909</th>\n",
       "      <td>Matthew Hodge</td>\n",
       "      <td>M</td>\n",
       "      <td>SBD</td>\n",
       "      <td>Unlimited</td>\n",
       "      <td>32.0</td>\n",
       "      <td>157.40</td>\n",
       "      <td>140+</td>\n",
       "      <td>NaN</td>\n",
       "      <td>NaN</td>\n",
       "      <td>NaN</td>\n",
       "      <td>...</td>\n",
       "      <td>NaN</td>\n",
       "      <td>NaN</td>\n",
       "      <td>317.51</td>\n",
       "      <td>1020.58</td>\n",
       "      <td>560.83</td>\n",
       "      <td>NaN</td>\n",
       "      <td>MM</td>\n",
       "      <td>NaN</td>\n",
       "      <td>2020-08-08</td>\n",
       "      <td>National Championships</td>\n",
       "    </tr>\n",
       "    <tr>\n",
       "      <th>1424911</th>\n",
       "      <td>Ken Foreman</td>\n",
       "      <td>M</td>\n",
       "      <td>SBD</td>\n",
       "      <td>Unlimited</td>\n",
       "      <td>46.0</td>\n",
       "      <td>102.97</td>\n",
       "      <td>110</td>\n",
       "      <td>NaN</td>\n",
       "      <td>NaN</td>\n",
       "      <td>NaN</td>\n",
       "      <td>...</td>\n",
       "      <td>NaN</td>\n",
       "      <td>NaN</td>\n",
       "      <td>238.14</td>\n",
       "      <td>839.15</td>\n",
       "      <td>504.98</td>\n",
       "      <td>NaN</td>\n",
       "      <td>MM</td>\n",
       "      <td>NaN</td>\n",
       "      <td>2020-08-08</td>\n",
       "      <td>National Championships</td>\n",
       "    </tr>\n",
       "    <tr>\n",
       "      <th>1424912</th>\n",
       "      <td>John Levan Jr</td>\n",
       "      <td>M</td>\n",
       "      <td>SBD</td>\n",
       "      <td>Unlimited</td>\n",
       "      <td>49.0</td>\n",
       "      <td>120.20</td>\n",
       "      <td>125</td>\n",
       "      <td>NaN</td>\n",
       "      <td>NaN</td>\n",
       "      <td>NaN</td>\n",
       "      <td>...</td>\n",
       "      <td>NaN</td>\n",
       "      <td>NaN</td>\n",
       "      <td>249.48</td>\n",
       "      <td>673.58</td>\n",
       "      <td>387.11</td>\n",
       "      <td>NaN</td>\n",
       "      <td>MM</td>\n",
       "      <td>NaN</td>\n",
       "      <td>2020-08-08</td>\n",
       "      <td>National Championships</td>\n",
       "    </tr>\n",
       "    <tr>\n",
       "      <th>1424917</th>\n",
       "      <td>John Levan Jr</td>\n",
       "      <td>M</td>\n",
       "      <td>SBD</td>\n",
       "      <td>Unlimited</td>\n",
       "      <td>49.0</td>\n",
       "      <td>120.20</td>\n",
       "      <td>125</td>\n",
       "      <td>NaN</td>\n",
       "      <td>NaN</td>\n",
       "      <td>NaN</td>\n",
       "      <td>...</td>\n",
       "      <td>NaN</td>\n",
       "      <td>NaN</td>\n",
       "      <td>249.48</td>\n",
       "      <td>673.58</td>\n",
       "      <td>387.11</td>\n",
       "      <td>NaN</td>\n",
       "      <td>MM</td>\n",
       "      <td>NaN</td>\n",
       "      <td>2020-08-08</td>\n",
       "      <td>National Championships</td>\n",
       "    </tr>\n",
       "    <tr>\n",
       "      <th>1425250</th>\n",
       "      <td>Carmen Mitchell</td>\n",
       "      <td>F</td>\n",
       "      <td>SBD</td>\n",
       "      <td>Unlimited</td>\n",
       "      <td>15.0</td>\n",
       "      <td>90.00</td>\n",
       "      <td>90</td>\n",
       "      <td>NaN</td>\n",
       "      <td>NaN</td>\n",
       "      <td>NaN</td>\n",
       "      <td>...</td>\n",
       "      <td>NaN</td>\n",
       "      <td>NaN</td>\n",
       "      <td>127.50</td>\n",
       "      <td>392.50</td>\n",
       "      <td>339.15</td>\n",
       "      <td>USA</td>\n",
       "      <td>MM</td>\n",
       "      <td>NaN</td>\n",
       "      <td>2020-08-22</td>\n",
       "      <td>On Deadly Ground</td>\n",
       "    </tr>\n",
       "    <tr>\n",
       "      <th>1425251</th>\n",
       "      <td>Gabriela Cantu</td>\n",
       "      <td>F</td>\n",
       "      <td>SBD</td>\n",
       "      <td>Unlimited</td>\n",
       "      <td>15.0</td>\n",
       "      <td>99.40</td>\n",
       "      <td>90+</td>\n",
       "      <td>NaN</td>\n",
       "      <td>NaN</td>\n",
       "      <td>NaN</td>\n",
       "      <td>...</td>\n",
       "      <td>NaN</td>\n",
       "      <td>NaN</td>\n",
       "      <td>137.50</td>\n",
       "      <td>410.00</td>\n",
       "      <td>341.97</td>\n",
       "      <td>USA</td>\n",
       "      <td>MM</td>\n",
       "      <td>NaN</td>\n",
       "      <td>2020-08-22</td>\n",
       "      <td>On Deadly Ground</td>\n",
       "    </tr>\n",
       "    <tr>\n",
       "      <th>1425252</th>\n",
       "      <td>Victoria Aragon-Marcial</td>\n",
       "      <td>F</td>\n",
       "      <td>SBD</td>\n",
       "      <td>Unlimited</td>\n",
       "      <td>17.0</td>\n",
       "      <td>51.40</td>\n",
       "      <td>52</td>\n",
       "      <td>NaN</td>\n",
       "      <td>NaN</td>\n",
       "      <td>NaN</td>\n",
       "      <td>...</td>\n",
       "      <td>NaN</td>\n",
       "      <td>NaN</td>\n",
       "      <td>150.00</td>\n",
       "      <td>400.00</td>\n",
       "      <td>503.14</td>\n",
       "      <td>USA</td>\n",
       "      <td>MM</td>\n",
       "      <td>NaN</td>\n",
       "      <td>2020-08-22</td>\n",
       "      <td>On Deadly Ground</td>\n",
       "    </tr>\n",
       "    <tr>\n",
       "      <th>1425253</th>\n",
       "      <td>Raegan Knight</td>\n",
       "      <td>F</td>\n",
       "      <td>SBD</td>\n",
       "      <td>Unlimited</td>\n",
       "      <td>17.0</td>\n",
       "      <td>58.40</td>\n",
       "      <td>60</td>\n",
       "      <td>NaN</td>\n",
       "      <td>NaN</td>\n",
       "      <td>NaN</td>\n",
       "      <td>...</td>\n",
       "      <td>NaN</td>\n",
       "      <td>NaN</td>\n",
       "      <td>127.50</td>\n",
       "      <td>362.50</td>\n",
       "      <td>412.73</td>\n",
       "      <td>USA</td>\n",
       "      <td>MM</td>\n",
       "      <td>NaN</td>\n",
       "      <td>2020-08-22</td>\n",
       "      <td>On Deadly Ground</td>\n",
       "    </tr>\n",
       "    <tr>\n",
       "      <th>1425254</th>\n",
       "      <td>Madison DeLeon</td>\n",
       "      <td>F</td>\n",
       "      <td>SBD</td>\n",
       "      <td>Unlimited</td>\n",
       "      <td>16.0</td>\n",
       "      <td>73.40</td>\n",
       "      <td>75</td>\n",
       "      <td>NaN</td>\n",
       "      <td>NaN</td>\n",
       "      <td>NaN</td>\n",
       "      <td>...</td>\n",
       "      <td>NaN</td>\n",
       "      <td>NaN</td>\n",
       "      <td>107.50</td>\n",
       "      <td>297.50</td>\n",
       "      <td>286.73</td>\n",
       "      <td>USA</td>\n",
       "      <td>MM</td>\n",
       "      <td>NaN</td>\n",
       "      <td>2020-08-22</td>\n",
       "      <td>On Deadly Ground</td>\n",
       "    </tr>\n",
       "    <tr>\n",
       "      <th>1425255</th>\n",
       "      <td>Sherry Felder</td>\n",
       "      <td>F</td>\n",
       "      <td>SBD</td>\n",
       "      <td>Unlimited</td>\n",
       "      <td>51.0</td>\n",
       "      <td>95.00</td>\n",
       "      <td>90+</td>\n",
       "      <td>NaN</td>\n",
       "      <td>NaN</td>\n",
       "      <td>NaN</td>\n",
       "      <td>...</td>\n",
       "      <td>NaN</td>\n",
       "      <td>NaN</td>\n",
       "      <td>150.00</td>\n",
       "      <td>452.50</td>\n",
       "      <td>383.00</td>\n",
       "      <td>USA</td>\n",
       "      <td>MM</td>\n",
       "      <td>NaN</td>\n",
       "      <td>2020-08-22</td>\n",
       "      <td>On Deadly Ground</td>\n",
       "    </tr>\n",
       "    <tr>\n",
       "      <th>1425256</th>\n",
       "      <td>Carmen Mitchell</td>\n",
       "      <td>F</td>\n",
       "      <td>SBD</td>\n",
       "      <td>Unlimited</td>\n",
       "      <td>15.0</td>\n",
       "      <td>90.00</td>\n",
       "      <td>90</td>\n",
       "      <td>NaN</td>\n",
       "      <td>NaN</td>\n",
       "      <td>NaN</td>\n",
       "      <td>...</td>\n",
       "      <td>NaN</td>\n",
       "      <td>NaN</td>\n",
       "      <td>127.50</td>\n",
       "      <td>392.50</td>\n",
       "      <td>339.15</td>\n",
       "      <td>USA</td>\n",
       "      <td>MM</td>\n",
       "      <td>NaN</td>\n",
       "      <td>2020-08-22</td>\n",
       "      <td>On Deadly Ground</td>\n",
       "    </tr>\n",
       "    <tr>\n",
       "      <th>1425257</th>\n",
       "      <td>Gabriela Cantu</td>\n",
       "      <td>F</td>\n",
       "      <td>SBD</td>\n",
       "      <td>Unlimited</td>\n",
       "      <td>15.0</td>\n",
       "      <td>99.40</td>\n",
       "      <td>90+</td>\n",
       "      <td>NaN</td>\n",
       "      <td>NaN</td>\n",
       "      <td>NaN</td>\n",
       "      <td>...</td>\n",
       "      <td>NaN</td>\n",
       "      <td>NaN</td>\n",
       "      <td>137.50</td>\n",
       "      <td>410.00</td>\n",
       "      <td>341.97</td>\n",
       "      <td>USA</td>\n",
       "      <td>MM</td>\n",
       "      <td>NaN</td>\n",
       "      <td>2020-08-22</td>\n",
       "      <td>On Deadly Ground</td>\n",
       "    </tr>\n",
       "    <tr>\n",
       "      <th>1425269</th>\n",
       "      <td>Conner Womack</td>\n",
       "      <td>M</td>\n",
       "      <td>SBD</td>\n",
       "      <td>Unlimited</td>\n",
       "      <td>17.0</td>\n",
       "      <td>67.60</td>\n",
       "      <td>75</td>\n",
       "      <td>NaN</td>\n",
       "      <td>NaN</td>\n",
       "      <td>NaN</td>\n",
       "      <td>...</td>\n",
       "      <td>NaN</td>\n",
       "      <td>NaN</td>\n",
       "      <td>172.50</td>\n",
       "      <td>530.00</td>\n",
       "      <td>408.16</td>\n",
       "      <td>USA</td>\n",
       "      <td>MM</td>\n",
       "      <td>NaN</td>\n",
       "      <td>2020-08-22</td>\n",
       "      <td>On Deadly Ground</td>\n",
       "    </tr>\n",
       "    <tr>\n",
       "      <th>1425270</th>\n",
       "      <td>Griffin Merillat</td>\n",
       "      <td>M</td>\n",
       "      <td>SBD</td>\n",
       "      <td>Unlimited</td>\n",
       "      <td>17.0</td>\n",
       "      <td>98.20</td>\n",
       "      <td>100</td>\n",
       "      <td>NaN</td>\n",
       "      <td>NaN</td>\n",
       "      <td>NaN</td>\n",
       "      <td>...</td>\n",
       "      <td>NaN</td>\n",
       "      <td>NaN</td>\n",
       "      <td>215.00</td>\n",
       "      <td>727.50</td>\n",
       "      <td>446.05</td>\n",
       "      <td>USA</td>\n",
       "      <td>MM</td>\n",
       "      <td>NaN</td>\n",
       "      <td>2020-08-22</td>\n",
       "      <td>On Deadly Ground</td>\n",
       "    </tr>\n",
       "    <tr>\n",
       "      <th>1425271</th>\n",
       "      <td>Xander Womack</td>\n",
       "      <td>M</td>\n",
       "      <td>SBD</td>\n",
       "      <td>Unlimited</td>\n",
       "      <td>16.0</td>\n",
       "      <td>103.40</td>\n",
       "      <td>110</td>\n",
       "      <td>NaN</td>\n",
       "      <td>NaN</td>\n",
       "      <td>NaN</td>\n",
       "      <td>...</td>\n",
       "      <td>NaN</td>\n",
       "      <td>NaN</td>\n",
       "      <td>185.00</td>\n",
       "      <td>747.50</td>\n",
       "      <td>449.14</td>\n",
       "      <td>USA</td>\n",
       "      <td>MM</td>\n",
       "      <td>NaN</td>\n",
       "      <td>2020-08-22</td>\n",
       "      <td>On Deadly Ground</td>\n",
       "    </tr>\n",
       "    <tr>\n",
       "      <th>1425272</th>\n",
       "      <td>Cody Knebel</td>\n",
       "      <td>M</td>\n",
       "      <td>SBD</td>\n",
       "      <td>Unlimited</td>\n",
       "      <td>37.0</td>\n",
       "      <td>121.20</td>\n",
       "      <td>125</td>\n",
       "      <td>NaN</td>\n",
       "      <td>NaN</td>\n",
       "      <td>NaN</td>\n",
       "      <td>...</td>\n",
       "      <td>NaN</td>\n",
       "      <td>NaN</td>\n",
       "      <td>295.00</td>\n",
       "      <td>1170.00</td>\n",
       "      <td>671.13</td>\n",
       "      <td>USA</td>\n",
       "      <td>MM</td>\n",
       "      <td>NaN</td>\n",
       "      <td>2020-08-22</td>\n",
       "      <td>On Deadly Ground</td>\n",
       "    </tr>\n",
       "    <tr>\n",
       "      <th>1425273</th>\n",
       "      <td>Dalton Hatch</td>\n",
       "      <td>M</td>\n",
       "      <td>SBD</td>\n",
       "      <td>Unlimited</td>\n",
       "      <td>26.0</td>\n",
       "      <td>139.20</td>\n",
       "      <td>140</td>\n",
       "      <td>NaN</td>\n",
       "      <td>NaN</td>\n",
       "      <td>NaN</td>\n",
       "      <td>...</td>\n",
       "      <td>NaN</td>\n",
       "      <td>NaN</td>\n",
       "      <td>292.50</td>\n",
       "      <td>955.00</td>\n",
       "      <td>534.12</td>\n",
       "      <td>USA</td>\n",
       "      <td>MM</td>\n",
       "      <td>NaN</td>\n",
       "      <td>2020-08-22</td>\n",
       "      <td>On Deadly Ground</td>\n",
       "    </tr>\n",
       "    <tr>\n",
       "      <th>1425490</th>\n",
       "      <td>Bobbejo Kohler</td>\n",
       "      <td>F</td>\n",
       "      <td>SBD</td>\n",
       "      <td>Unlimited</td>\n",
       "      <td>42.0</td>\n",
       "      <td>89.81</td>\n",
       "      <td>90</td>\n",
       "      <td>-142.88</td>\n",
       "      <td>165.56</td>\n",
       "      <td>-183.70</td>\n",
       "      <td>...</td>\n",
       "      <td>165.56</td>\n",
       "      <td>-174.63</td>\n",
       "      <td>165.56</td>\n",
       "      <td>433.18</td>\n",
       "      <td>374.62</td>\n",
       "      <td>USA</td>\n",
       "      <td>MM</td>\n",
       "      <td>NaN</td>\n",
       "      <td>2019-04-06</td>\n",
       "      <td>Iron Wars</td>\n",
       "    </tr>\n",
       "    <tr>\n",
       "      <th>1425513</th>\n",
       "      <td>Ted Kohler</td>\n",
       "      <td>M</td>\n",
       "      <td>SBD</td>\n",
       "      <td>Unlimited</td>\n",
       "      <td>44.0</td>\n",
       "      <td>110.00</td>\n",
       "      <td>110</td>\n",
       "      <td>NaN</td>\n",
       "      <td>NaN</td>\n",
       "      <td>NaN</td>\n",
       "      <td>...</td>\n",
       "      <td>NaN</td>\n",
       "      <td>NaN</td>\n",
       "      <td>247.21</td>\n",
       "      <td>848.22</td>\n",
       "      <td>499.17</td>\n",
       "      <td>NaN</td>\n",
       "      <td>MM</td>\n",
       "      <td>NaN</td>\n",
       "      <td>2020-06-20</td>\n",
       "      <td>Power Wars</td>\n",
       "    </tr>\n",
       "    <tr>\n",
       "      <th>1425524</th>\n",
       "      <td>Steve Lusterino</td>\n",
       "      <td>M</td>\n",
       "      <td>SBD</td>\n",
       "      <td>Unlimited</td>\n",
       "      <td>NaN</td>\n",
       "      <td>125.00</td>\n",
       "      <td>125</td>\n",
       "      <td>NaN</td>\n",
       "      <td>NaN</td>\n",
       "      <td>NaN</td>\n",
       "      <td>...</td>\n",
       "      <td>NaN</td>\n",
       "      <td>NaN</td>\n",
       "      <td>294.84</td>\n",
       "      <td>748.43</td>\n",
       "      <td>426.49</td>\n",
       "      <td>USA</td>\n",
       "      <td>MM</td>\n",
       "      <td>NaN</td>\n",
       "      <td>2020-06-20</td>\n",
       "      <td>Power Wars</td>\n",
       "    </tr>\n",
       "    <tr>\n",
       "      <th>1425556</th>\n",
       "      <td>Bobbejo Kohler</td>\n",
       "      <td>F</td>\n",
       "      <td>SBD</td>\n",
       "      <td>Unlimited</td>\n",
       "      <td>42.0</td>\n",
       "      <td>88.77</td>\n",
       "      <td>90</td>\n",
       "      <td>NaN</td>\n",
       "      <td>NaN</td>\n",
       "      <td>NaN</td>\n",
       "      <td>...</td>\n",
       "      <td>NaN</td>\n",
       "      <td>NaN</td>\n",
       "      <td>167.83</td>\n",
       "      <td>476.27</td>\n",
       "      <td>413.93</td>\n",
       "      <td>USA</td>\n",
       "      <td>MM</td>\n",
       "      <td>NaN</td>\n",
       "      <td>2019-12-14</td>\n",
       "      <td>Championships</td>\n",
       "    </tr>\n",
       "    <tr>\n",
       "      <th>1425557</th>\n",
       "      <td>Bobbejo Kohler</td>\n",
       "      <td>F</td>\n",
       "      <td>SBD</td>\n",
       "      <td>Unlimited</td>\n",
       "      <td>42.0</td>\n",
       "      <td>88.77</td>\n",
       "      <td>90</td>\n",
       "      <td>NaN</td>\n",
       "      <td>NaN</td>\n",
       "      <td>NaN</td>\n",
       "      <td>...</td>\n",
       "      <td>NaN</td>\n",
       "      <td>NaN</td>\n",
       "      <td>167.83</td>\n",
       "      <td>476.27</td>\n",
       "      <td>413.93</td>\n",
       "      <td>USA</td>\n",
       "      <td>MM</td>\n",
       "      <td>NaN</td>\n",
       "      <td>2019-12-14</td>\n",
       "      <td>Championships</td>\n",
       "    </tr>\n",
       "    <tr>\n",
       "      <th>1425653</th>\n",
       "      <td>Trinton Golden</td>\n",
       "      <td>M</td>\n",
       "      <td>SBD</td>\n",
       "      <td>Unlimited</td>\n",
       "      <td>33.0</td>\n",
       "      <td>104.70</td>\n",
       "      <td>110</td>\n",
       "      <td>370.00</td>\n",
       "      <td>-390.00</td>\n",
       "      <td>NaN</td>\n",
       "      <td>...</td>\n",
       "      <td>310.00</td>\n",
       "      <td>317.50</td>\n",
       "      <td>317.50</td>\n",
       "      <td>1012.50</td>\n",
       "      <td>605.63</td>\n",
       "      <td>USA</td>\n",
       "      <td>MM</td>\n",
       "      <td>NaN</td>\n",
       "      <td>2019-11-09</td>\n",
       "      <td>1st Annual Texas Takeover</td>\n",
       "    </tr>\n",
       "    <tr>\n",
       "      <th>1463650</th>\n",
       "      <td>Stanislav Trubin</td>\n",
       "      <td>M</td>\n",
       "      <td>SBD</td>\n",
       "      <td>Unlimited</td>\n",
       "      <td>22.0</td>\n",
       "      <td>52.00</td>\n",
       "      <td>52</td>\n",
       "      <td>180.00</td>\n",
       "      <td>187.50</td>\n",
       "      <td>192.50</td>\n",
       "      <td>...</td>\n",
       "      <td>155.00</td>\n",
       "      <td>160.00</td>\n",
       "      <td>160.00</td>\n",
       "      <td>477.50</td>\n",
       "      <td>468.56</td>\n",
       "      <td>Russia</td>\n",
       "      <td>WPA-RUS</td>\n",
       "      <td>WPA</td>\n",
       "      <td>2018-05-26</td>\n",
       "      <td>State Border Cup</td>\n",
       "    </tr>\n",
       "  </tbody>\n",
       "</table>\n",
       "<p>36 rows × 26 columns</p>\n",
       "</div>"
      ],
      "text/plain": [
       "                            Name Sex Event  Equipment   Age  Bodyweight  \\\n",
       "264690               Chris Abney   M   SBD  Unlimited  46.0      102.97   \n",
       "270932             Kris Treadway   M   SBD  Unlimited   NaN       97.89   \n",
       "675124         Mariya Zhuravleva   F   SBD  Unlimited  24.0       67.10   \n",
       "695225     Aleksandr Boytsevskiy   M   SBD  Unlimited  31.0      104.80   \n",
       "1034520          Artem Bykhovets   M   SBD  Unlimited  35.0       88.60   \n",
       "1048259               Rob Forell   M   SBD  Unlimited  39.0       96.98   \n",
       "1048265           Bryan Beanland   M   SBD  Unlimited  39.0       99.34   \n",
       "1048266           Trinton Golden   M   SBD  Unlimited  34.0      109.50   \n",
       "1424904              Logan Shady   M   SBD  Unlimited  22.0      132.45   \n",
       "1424906            Chance Beatty   M   SBD  Unlimited  29.0      123.38   \n",
       "1424907              Tory Pelzer   M   SBD  Unlimited  29.0      137.44   \n",
       "1424908               Matt Marsh   M   SBD  Unlimited  31.0       86.73   \n",
       "1424909            Matthew Hodge   M   SBD  Unlimited  32.0      157.40   \n",
       "1424911              Ken Foreman   M   SBD  Unlimited  46.0      102.97   \n",
       "1424912            John Levan Jr   M   SBD  Unlimited  49.0      120.20   \n",
       "1424917            John Levan Jr   M   SBD  Unlimited  49.0      120.20   \n",
       "1425250          Carmen Mitchell   F   SBD  Unlimited  15.0       90.00   \n",
       "1425251           Gabriela Cantu   F   SBD  Unlimited  15.0       99.40   \n",
       "1425252  Victoria Aragon-Marcial   F   SBD  Unlimited  17.0       51.40   \n",
       "1425253            Raegan Knight   F   SBD  Unlimited  17.0       58.40   \n",
       "1425254           Madison DeLeon   F   SBD  Unlimited  16.0       73.40   \n",
       "1425255            Sherry Felder   F   SBD  Unlimited  51.0       95.00   \n",
       "1425256          Carmen Mitchell   F   SBD  Unlimited  15.0       90.00   \n",
       "1425257           Gabriela Cantu   F   SBD  Unlimited  15.0       99.40   \n",
       "1425269            Conner Womack   M   SBD  Unlimited  17.0       67.60   \n",
       "1425270         Griffin Merillat   M   SBD  Unlimited  17.0       98.20   \n",
       "1425271            Xander Womack   M   SBD  Unlimited  16.0      103.40   \n",
       "1425272              Cody Knebel   M   SBD  Unlimited  37.0      121.20   \n",
       "1425273             Dalton Hatch   M   SBD  Unlimited  26.0      139.20   \n",
       "1425490           Bobbejo Kohler   F   SBD  Unlimited  42.0       89.81   \n",
       "1425513               Ted Kohler   M   SBD  Unlimited  44.0      110.00   \n",
       "1425524          Steve Lusterino   M   SBD  Unlimited   NaN      125.00   \n",
       "1425556           Bobbejo Kohler   F   SBD  Unlimited  42.0       88.77   \n",
       "1425557           Bobbejo Kohler   F   SBD  Unlimited  42.0       88.77   \n",
       "1425653           Trinton Golden   M   SBD  Unlimited  33.0      104.70   \n",
       "1463650         Stanislav Trubin   M   SBD  Unlimited  22.0       52.00   \n",
       "\n",
       "        WeightClass  Squat1  Squat2  Squat3  ...  Deadlift2  Deadlift3  \\\n",
       "264690          110     NaN     NaN     NaN  ...        NaN        NaN   \n",
       "270932          100     NaN     NaN     NaN  ...        NaN        NaN   \n",
       "675124         67.5  135.00  147.50 -152.50  ...     140.00    -155.00   \n",
       "695225          110  200.00  230.00  250.00  ...     230.00    -250.00   \n",
       "1034520          90  300.00  320.00  340.00  ...     260.00     280.00   \n",
       "1048259         100 -328.85  328.85  365.14  ...    -290.30     290.30   \n",
       "1048265         100  385.55 -408.23  408.23  ...    -317.51    -317.51   \n",
       "1048266         110 -453.59  453.59     NaN  ...     317.51    -353.80   \n",
       "1424904         140     NaN     NaN     NaN  ...        NaN        NaN   \n",
       "1424906         125     NaN     NaN     NaN  ...        NaN        NaN   \n",
       "1424907         140     NaN     NaN     NaN  ...        NaN        NaN   \n",
       "1424908          90     NaN     NaN     NaN  ...        NaN        NaN   \n",
       "1424909        140+     NaN     NaN     NaN  ...        NaN        NaN   \n",
       "1424911         110     NaN     NaN     NaN  ...        NaN        NaN   \n",
       "1424912         125     NaN     NaN     NaN  ...        NaN        NaN   \n",
       "1424917         125     NaN     NaN     NaN  ...        NaN        NaN   \n",
       "1425250          90     NaN     NaN     NaN  ...        NaN        NaN   \n",
       "1425251         90+     NaN     NaN     NaN  ...        NaN        NaN   \n",
       "1425252          52     NaN     NaN     NaN  ...        NaN        NaN   \n",
       "1425253          60     NaN     NaN     NaN  ...        NaN        NaN   \n",
       "1425254          75     NaN     NaN     NaN  ...        NaN        NaN   \n",
       "1425255         90+     NaN     NaN     NaN  ...        NaN        NaN   \n",
       "1425256          90     NaN     NaN     NaN  ...        NaN        NaN   \n",
       "1425257         90+     NaN     NaN     NaN  ...        NaN        NaN   \n",
       "1425269          75     NaN     NaN     NaN  ...        NaN        NaN   \n",
       "1425270         100     NaN     NaN     NaN  ...        NaN        NaN   \n",
       "1425271         110     NaN     NaN     NaN  ...        NaN        NaN   \n",
       "1425272         125     NaN     NaN     NaN  ...        NaN        NaN   \n",
       "1425273         140     NaN     NaN     NaN  ...        NaN        NaN   \n",
       "1425490          90 -142.88  165.56 -183.70  ...     165.56    -174.63   \n",
       "1425513         110     NaN     NaN     NaN  ...        NaN        NaN   \n",
       "1425524         125     NaN     NaN     NaN  ...        NaN        NaN   \n",
       "1425556          90     NaN     NaN     NaN  ...        NaN        NaN   \n",
       "1425557          90     NaN     NaN     NaN  ...        NaN        NaN   \n",
       "1425653         110  370.00 -390.00     NaN  ...     310.00     317.50   \n",
       "1463650          52  180.00  187.50  192.50  ...     155.00     160.00   \n",
       "\n",
       "         Deadlift    Total   Wilks  Country  Federation  ParentFederation  \\\n",
       "264690     229.06   601.01  361.67      USA         SPF               NaN   \n",
       "270932     226.80   621.42  381.51      NaN         SPF               NaN   \n",
       "675124     140.00   397.50  407.43   Russia     WPC-RUS               WPC   \n",
       "695225     230.00   710.00  424.55      NaN     WPC-RUS               WPC   \n",
       "1034520    280.00   900.00  579.23   Russia         NAP               IPA   \n",
       "1048259    290.30  1009.24  622.08      USA         XPC               XPC   \n",
       "1048265    306.17  1031.92  629.69      USA         XPC               XPC   \n",
       "1048266    317.51  1088.62  641.55      USA         XPC               XPC   \n",
       "1424904    215.46   714.41  402.75      NaN          MM               NaN   \n",
       "1424906    238.14   807.39  461.33      USA          MM               NaN   \n",
       "1424907    331.12  1238.31  693.92      USA          MM               NaN   \n",
       "1424908    226.80   698.53  454.73      NaN          MM               NaN   \n",
       "1424909    317.51  1020.58  560.83      NaN          MM               NaN   \n",
       "1424911    238.14   839.15  504.98      NaN          MM               NaN   \n",
       "1424912    249.48   673.58  387.11      NaN          MM               NaN   \n",
       "1424917    249.48   673.58  387.11      NaN          MM               NaN   \n",
       "1425250    127.50   392.50  339.15      USA          MM               NaN   \n",
       "1425251    137.50   410.00  341.97      USA          MM               NaN   \n",
       "1425252    150.00   400.00  503.14      USA          MM               NaN   \n",
       "1425253    127.50   362.50  412.73      USA          MM               NaN   \n",
       "1425254    107.50   297.50  286.73      USA          MM               NaN   \n",
       "1425255    150.00   452.50  383.00      USA          MM               NaN   \n",
       "1425256    127.50   392.50  339.15      USA          MM               NaN   \n",
       "1425257    137.50   410.00  341.97      USA          MM               NaN   \n",
       "1425269    172.50   530.00  408.16      USA          MM               NaN   \n",
       "1425270    215.00   727.50  446.05      USA          MM               NaN   \n",
       "1425271    185.00   747.50  449.14      USA          MM               NaN   \n",
       "1425272    295.00  1170.00  671.13      USA          MM               NaN   \n",
       "1425273    292.50   955.00  534.12      USA          MM               NaN   \n",
       "1425490    165.56   433.18  374.62      USA          MM               NaN   \n",
       "1425513    247.21   848.22  499.17      NaN          MM               NaN   \n",
       "1425524    294.84   748.43  426.49      USA          MM               NaN   \n",
       "1425556    167.83   476.27  413.93      USA          MM               NaN   \n",
       "1425557    167.83   476.27  413.93      USA          MM               NaN   \n",
       "1425653    317.50  1012.50  605.63      USA          MM               NaN   \n",
       "1463650    160.00   477.50  468.56   Russia     WPA-RUS               WPA   \n",
       "\n",
       "              Date                       Meet  \n",
       "264690  2019-07-13     Arkansas Strength Expo  \n",
       "270932  2019-03-30        Little Rock Classic  \n",
       "675124  2018-04-07              Siberian Bear  \n",
       "695225  2018-12-09          CIS New Years Cup  \n",
       "1034520 2018-09-28       Golden Tiger Classic  \n",
       "1048259 2020-03-07                     Arnold  \n",
       "1048265 2020-03-07                     Arnold  \n",
       "1048266 2020-03-07                     Arnold  \n",
       "1424904 2020-08-08     National Championships  \n",
       "1424906 2020-08-08     National Championships  \n",
       "1424907 2020-08-08     National Championships  \n",
       "1424908 2020-08-08     National Championships  \n",
       "1424909 2020-08-08     National Championships  \n",
       "1424911 2020-08-08     National Championships  \n",
       "1424912 2020-08-08     National Championships  \n",
       "1424917 2020-08-08     National Championships  \n",
       "1425250 2020-08-22           On Deadly Ground  \n",
       "1425251 2020-08-22           On Deadly Ground  \n",
       "1425252 2020-08-22           On Deadly Ground  \n",
       "1425253 2020-08-22           On Deadly Ground  \n",
       "1425254 2020-08-22           On Deadly Ground  \n",
       "1425255 2020-08-22           On Deadly Ground  \n",
       "1425256 2020-08-22           On Deadly Ground  \n",
       "1425257 2020-08-22           On Deadly Ground  \n",
       "1425269 2020-08-22           On Deadly Ground  \n",
       "1425270 2020-08-22           On Deadly Ground  \n",
       "1425271 2020-08-22           On Deadly Ground  \n",
       "1425272 2020-08-22           On Deadly Ground  \n",
       "1425273 2020-08-22           On Deadly Ground  \n",
       "1425490 2019-04-06                  Iron Wars  \n",
       "1425513 2020-06-20                 Power Wars  \n",
       "1425524 2020-06-20                 Power Wars  \n",
       "1425556 2019-12-14              Championships  \n",
       "1425557 2019-12-14              Championships  \n",
       "1425653 2019-11-09  1st Annual Texas Takeover  \n",
       "1463650 2018-05-26           State Border Cup  \n",
       "\n",
       "[36 rows x 26 columns]"
      ]
     },
     "execution_count": 141,
     "metadata": {},
     "output_type": "execute_result"
    }
   ],
   "source": [
    "data[data['Equipment'] == 'Unlimited']"
   ]
  },
  {
   "cell_type": "code",
   "execution_count": null,
   "metadata": {},
   "outputs": [],
   "source": []
  }
 ],
 "metadata": {
  "kernelspec": {
   "display_name": "Python 3",
   "language": "python",
   "name": "python3"
  },
  "language_info": {
   "codemirror_mode": {
    "name": "ipython",
    "version": 3
   },
   "file_extension": ".py",
   "mimetype": "text/x-python",
   "name": "python",
   "nbconvert_exporter": "python",
   "pygments_lexer": "ipython3",
   "version": "3.7.6"
  },
  "toc": {
   "base_numbering": 1,
   "nav_menu": {},
   "number_sections": true,
   "sideBar": true,
   "skip_h1_title": false,
   "title_cell": "Table of Contents",
   "title_sidebar": "Contents",
   "toc_cell": false,
   "toc_position": {
    "height": "calc(100% - 180px)",
    "left": "10px",
    "top": "150px",
    "width": "165px"
   },
   "toc_section_display": true,
   "toc_window_display": true
  }
 },
 "nbformat": 4,
 "nbformat_minor": 4
}
